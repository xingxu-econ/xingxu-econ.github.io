{
 "cells": [
  {
   "attachments": {},
   "cell_type": "markdown",
   "metadata": {},
   "source": [
    "## Lecture 2: A canonical Neo-classical growth model and introduction to value function iteration (VFI)\n",
    "\n",
    "*Xing Xu, University of Minnesota, 2023 Summer*\n",
    "\n",
    "### 2.1 A canonical Neo-classical growth model\n",
    "#### 2.1.1 Environment\n",
    "An economy is composed of \n",
    "\n",
    "* An infinitely lived representative household whose preferences are represented by a utility function $u(c) = \\sum_{t=0}^\\infty \\beta^t u(c_t)$, where $\\beta \\in (0, 1)$ is the discount factor. The household inelastically supplies 1 unit of labor each period.\n",
    "  \n",
    "* A firm with technology $y_t = F(k_t, l_t)$. That is, for each period, firm transforms current capital stock and labor supply into $y_t$ units of goods.\n",
    "  \n",
    "* Standard law of motion for investment holds: $x_t = k_{t+1} - (1 - \\delta) k_t$, where $\\delta_t \\in (0, 1]$ is the depreciation factor.\n",
    "  \n",
    "* The initial capital stock $k_0$ is given.\n",
    "\n",
    "Therefore, total feasibility constraint for the economy is thus $c_t + x_t \\leq F(k_t, l_t), \\forall t$, which is equivalent to $c_t + k_{t+1} \\leq F(k_t, l_t) + (1 - \\delta) k_t, \\forall t$. \n",
    "\n",
    "#### 2.1.2 Social Planner's problem\n",
    "Under some assumptions, we can use the __social planner's problem__ to characterize the Pareto Optimal allocations ($l_t = 1$ substituted in):\n",
    "\\begin{align*}\n",
    "    \\max_{\\{c_t, k_{t+1}\\}_{t=0}^\\infty} &\\sum_{t=0}^\\infty \\beta^t u(c_t) \\\\\n",
    "    \\text{subject to } & c_t + k_{t+1} \\leq F(k_t, 1) + (1 - \\delta) k_t, \\forall t\\\\\n",
    "    c_t, k_{t+1} \\geq 0, \\forall t,  & \\quad k_0 \\text{ given }\n",
    "\\end{align*}\n",
    "\n",
    "#### 2.1.3 Question: how to solve this?\n",
    "For simplicity, let's assume utility is CRRA: $u(c_t) = \\frac{c_t^{1 - \\sigma}}{1 - \\sigma}$ ($\\sigma > 0, \\sigma \\neq 1$) and production function is Cobb-Douglas: $F(k_t, l_t) = A k_t^\\alpha l_t^{1-\\alpha}$. Now intuitively, we have a strictly concave function maximizing on a convex set, which should give unique solution to the maximization problem (not rigid). \n",
    "\n",
    "One attempt is to set up Lagrangian and take first order conditions (by Inada condition we know the solution is interior):\n",
    "$$ \n",
    "\\begin{cases}\n",
    "\\beta^t c_t^{-\\sigma} = \\lambda_t\\\\\n",
    "\\lambda_t = \\lambda_{t+1}(A \\alpha k_{t+1}^{\\alpha - 1} + (1 - \\delta) )\\\\\n",
    "\\end{cases}\n",
    "$$\n",
    "\n",
    "which gives the famous Euler Equation,\n",
    "$$\n",
    "c_t^{-\\sigma} = \\beta c_{t+1}^{-\\sigma}(A \\alpha k_{t+1}^{\\alpha - 1} + (1 - \\delta) )\n",
    "$$\n",
    "\n",
    "Assume there's a steady state where $c_t$ and $k_t$ converges to some constants $c_{ss}$ and $k_{ss}$, when $t$ is large enough. From the Euler equation, in steady state: \n",
    "$$\n",
    "1 = \\beta (A \\alpha k_{ss}^{\\alpha - 1} + (1 - \\delta) )\n",
    "$$\n",
    "\n",
    "Side note: In a competitive equilibrium, this condition becomes $\\beta R = 1$ or $R = \\frac{1}{\\beta}$, which is the equilibrium interest rate in a complete market. \n",
    "\n",
    "\n",
    "The Euler Equation characterizes the intertemporal optimality. Together with the feasiblity constraint (_and for technical reasons, a transversality condition_ $\\lim_{t \\to \\infty} \\lambda_t k_{t+1} = 0$), the equilibrium is characterized. We end up with infinite amount of unknowns $\\{c_t, k_{t+1}\\}_{t=0}^\\infty$ and equal amounts of equations, which is troublesome to solve. This is why we turn to dynamic programming.\n",
    "\n",
    "***\n",
    "Now, denote the lifetime discounted utility of the social planner's problem given initial capital stock $k_0$ as $V(k_0)$, so \n",
    "\n",
    "\\begin{align*}\n",
    "    V(k_0) \\equiv \\max_{\\{c_t, k_{t+1}\\}_{t=0}^\\infty} & \\sum_{t=0}^\\infty \\beta^t u(c_t) \\\\\n",
    "    \\text{subject to } c_t + k_{t+1} &\\leq F(k_t, 1) + (1 - \\delta) k_t, \\forall t\\\\\n",
    "    c_t, k_{t+1} \\geq 0, \\forall t,  & \\quad k_0 \\text{ given }\n",
    "\\end{align*}\n",
    "\n",
    "Let be maximizer be some feasible optimal plan $\\{c_t, k_{t+1}\\}_{t=0}^\\infty$ such that $c_t + k_{t+1} \\leq F(k_t, 1) + (1 - \\delta) k_t, \\forall t$ and $c_t, k_{t+1} \\geq 0$.\n",
    "\n",
    "Now let's turn to the recursive formulation of the problem. "
   ]
  },
  {
   "attachments": {},
   "cell_type": "markdown",
   "metadata": {},
   "source": [
    "#### 2.2.1 Bellman's Equation\n",
    "Under some conditions, the social planner's problem is equivalent to the following problem, which is in the form of a Bellman's Equation:\n",
    "\n",
    "\\begin{align*}\n",
    "    V(k) = & \\max_{c, k'} \\{u(c) + \\beta V(k') \\}\\\\\n",
    "    \\text{subject to } & c + k' \\leq F(k, 1) + (1 - \\delta) k\\\\\n",
    "    & c , k' \\geq 0 \n",
    "\\end{align*}\n",
    "\n",
    "We call $V$ as the value function. Under some conditions, the solution to this problem $c$ and $k'$ are functions of $k$, and are denoted as $g_c(k)$ and $g(k)$. From $k_0$, iteratively applying the policy function of capital, we obtain $k_1 = g(k_0)$, $k_2 = g(g(k_0))$, ..., which is the optimal plan of capital. Also iteratively applying the consumption policy function, $c_0 = g_c(k_0)$, $c_1 = g_c(k_1)$, .... Collecting the terms, we have constructed the optimal plan from $k_0$, $\\{c_t, k_{t+1}\\}_{t=0}^\\infty$. \n",
    "\n",
    "Note that we have turned a infinite horizon problem into a single period problem. Equivalence between the recursive formulation with the social planner's problem is in the sense of $V(.)$ being the same function and the optimal plans generated from a same $k$ is the same. This is the Principle of Optimality. (SLP Theorem 4.2 to 4.5)\n",
    "\n",
    "With the assumption that $u(.)$ is strictly increasing, for any $k$ and $k'$, $g_c(k) = F(k, 1) + (1 - \\delta) k - k'$, substitute in, the problem becomes\n",
    "\n",
    "$$\n",
    "V(k) =  \\max_{k' \\in \\Gamma(k)} \\{u(F(k, 1) + (1 - \\delta) k - k') + \\beta V(k')\\}\n",
    "$$\n",
    "where $\\Gamma(k) \\equiv [0, F(k, 1) + (1 - \\delta) k]$"
   ]
  },
  {
   "attachments": {},
   "cell_type": "markdown",
   "metadata": {},
   "source": [
    "#### 2.2.2 Contraction mapping\n",
    "Define a Bellman operator $T$ as follows,\n",
    "$$\n",
    "T(V)(k) = \\max_{k' \\in \\Gamma(k)} \\{u(F(k, 1) + (1 - \\delta) k - k') + \\beta V(k')\\}\n",
    "$$\n",
    "The solution to the Bellman's equation is a fixed point such that $T(V^*) = V^*$. \n",
    "\n",
    "#### 2.2.3 Blackwell's sufficient condition \n",
    "$K \\subset R^n$. The Bellman Operator $T$ maps $B(K) \\to B(K)$, where $B(K)$ is the set of bounded functions $V: K \\to R$. Suppose $T$ satisfies:\n",
    "*  Monotonicity: if $W(k) \\geq V(k)$, for all $k \\in K$, where $V, W \\in B(K)$, then $T(W)(k) \\geq T(V)(k)$. \n",
    "*  Discounting: there exists $\\beta, 1> \\beta >0$, such that, $T(V+a)(k) \\leq T(V)(k) + \\beta a$ for all $V \\in B(K), a \\geq 0$ and $k \\in K$.\n",
    "\n",
    "Then $T$ is a contraction with modulus $\\beta$. That is,  $|| T(V) - T(W) || \\leq \\beta ||V -W ||$. \n",
    "\n",
    "This implies that if we iteratively apply $T$ on $V$, the solution converges to the fixed point $V^*$. This process is known as value function iteration.\n",
    "\n",
    "Sketch of proof: to show that in our environment $T$ maps a bounded function into a bounded function requires showing there is a maximum sustainable capital $\\tilde{k}$ such that $\\forall k > \\tilde{k}, F(k, 1) < \\delta k$. $\\tilde{k}$ is given by $F(\\tilde{k}, 1) = \\delta \\tilde{k}$ (why?). Then it is easy to show that Monotonicity and Discounting hold. (equivalently one can use SLP Theorem 4.6)\n",
    "\n"
   ]
  },
  {
   "cell_type": "code",
   "execution_count": 1,
   "metadata": {},
   "outputs": [],
   "source": []
  },
  {
   "attachments": {},
   "cell_type": "markdown",
   "metadata": {},
   "source": [
    "Now before coding it, initialize an environment."
   ]
  },
  {
   "cell_type": "code",
   "execution_count": 2,
   "metadata": {},
   "outputs": [
    {
     "name": "stderr",
     "output_type": "stream",
     "text": [
      "\u001b[32m\u001b[1m  Activating\u001b[22m\u001b[39m project at `~/Documents/Teaching/Julia course 2024/Julia/Lectures`\n",
      "\u001b[32m\u001b[1m    Updating\u001b[22m\u001b[39m registry at `~/.julia/registries/General.toml`\n",
      "\u001b[32m\u001b[1m   Resolving\u001b[22m\u001b[39m package versions...\n",
      "\u001b[32m\u001b[1m  No Changes\u001b[22m\u001b[39m to `~/Documents/Teaching/Julia course 2024/Julia/Lectures/Project.toml`\n",
      "\u001b[32m\u001b[1m  No Changes\u001b[22m\u001b[39m to `~/Documents/Teaching/Julia course 2024/Julia/Lectures/Manifest.toml`\n"
     ]
    }
   ],
   "source": [
    "import Pkg\n",
    "Pkg.activate(@__DIR__)  # Activate a local environment \n",
    "Pkg.add(\"LinearAlgebra\")\n"
   ]
  },
  {
   "cell_type": "code",
   "execution_count": 3,
   "metadata": {},
   "outputs": [],
   "source": [
    "using LinearAlgebra"
   ]
  },
  {
   "attachments": {},
   "cell_type": "markdown",
   "metadata": {},
   "source": [
    "### 2.3 Introduction to value function iteration (VFI)\n",
    "Finally we get to business. First we need to specify a set of parameters.\n",
    "\n",
    "Let household has CRRA utility with $\\sigma = 2$ and $\\beta = 0.9$. Firm has Cobb-Douglas utility with $A = 2$, $\\alpha = 0.7$. $\\delta = 0.9$. \n",
    "\n",
    "##### 2.3.1 VFI: A first attempt (bad practice: inefficient and  poorly written)\n",
    " Let's first just go with instinct. Set up the problem with the parameters and solve it. If you have experience with this, you might find the codes a little Matlab or c++ styled. We will turn to more Julia styled codes later.\n",
    " \n",
    " First, specify parameters:"
   ]
  },
  {
   "cell_type": "code",
   "execution_count": 4,
   "metadata": {},
   "outputs": [
    {
     "data": {
      "text/plain": [
       "0.9"
      ]
     },
     "metadata": {},
     "output_type": "display_data"
    }
   ],
   "source": [
    "σ = 2.0 #make it float to keep consistent with other variables\n",
    "β = 0.9\n",
    "A = 2.0\n",
    "α = 0.7\n",
    "δ = 0.9"
   ]
  },
  {
   "attachments": {},
   "cell_type": "markdown",
   "metadata": {},
   "source": [
    "Initialize grid of $v$. Let there be 100 grids. "
   ]
  },
  {
   "cell_type": "code",
   "execution_count": 6,
   "metadata": {},
   "outputs": [],
   "source": [
    "N = 100 # number of grids\n",
    "v = zeros(N); #initial guess of value function v(k), here just 0.0 for any k"
   ]
  },
  {
   "attachments": {},
   "cell_type": "markdown",
   "metadata": {},
   "source": [
    "Now we want to create grids for $k$ and $k'$. To do this, we need the maximum sustainable capital. Note that $\\tilde{k}$ can be solved from $F(\\tilde{k}, 1) = \\delta \\tilde{k}$, which is $A \\tilde{k}^\\alpha = \\delta \\tilde{k}$. Since $\\delta > 0$, $\\tilde{k} = (\\frac{A}{\\delta})^{\\frac{1}{1 - \\alpha}}$."
   ]
  },
  {
   "cell_type": "code",
   "execution_count": 7,
   "metadata": {},
   "outputs": [
    {
     "data": {
      "text/plain": [
       "0.01:0.14455054028788528:14.320503488500643"
      ]
     },
     "metadata": {},
     "output_type": "display_data"
    }
   ],
   "source": [
    "k_tilde = (A / δ)^(1 / (1 - α))\n",
    "k = range(0.01, k_tilde, N) #Note that the grids for k' is same as k\n",
    "# start with 0.01 as for k = 0, consumption will always be 0"
   ]
  },
  {
   "attachments": {},
   "cell_type": "markdown",
   "metadata": {},
   "source": [
    "Now let's perform VFI. I wrap VFI into a function, which takes in the parameters and spits out the value function and policy function.\n",
    "\n",
    " I set a small enough tolerance of error so that the value function is considered as converged when the maximum absolute difference between each iteration is below the critical tolerance (here $10^{-6}$). In addition, I set a maximum iteration 1000 so that it will terminate even if it does not converge. "
   ]
  },
  {
   "cell_type": "code",
   "execution_count": 9,
   "metadata": {},
   "outputs": [
    {
     "data": {
      "text/plain": [
       "VFI_baseline (generic function with 1 method)"
      ]
     },
     "metadata": {},
     "output_type": "display_data"
    }
   ],
   "source": [
    "# VFI (bad practice)\n",
    "function VFI_baseline(σ, β, A, α, δ, v, k)\n",
    "    pol = similar(v, Int) # will be used for storing the policy function (k'), as an index\n",
    "    v1 = similar(v) # will be used for storing updated value function\n",
    "\n",
    "    iterate = 0 # keep track of how many iterations we have run\n",
    "    tol = 1e-6 # the critical tolerance\n",
    "    \n",
    "    while true # the code keeps iterating itself until we manually break it\n",
    "        distance = zero(eltype(v)) # will be used to keep track of the difference between v and Tv\n",
    "        \n",
    "        # outer loop over each grid of v\n",
    "        for i in eachindex(v) # iterate over value function\n",
    "            pol_i = 1\n",
    "            just_started = true  # will be used later to store v with choosing k'= 0\n",
    "            vmax = zero(eltype(v)) # will be used later to store the maximized v\n",
    "\n",
    "            # most inner loop over potential k'\n",
    "            for j in eachindex(k) \n",
    "                c = A * k[i]^α + (1 - δ) * k[i] - k[j] # this is the consumption if we choose k' = k[j]\n",
    "                if c >= 0.0 # make sure consumption is nonnegative\n",
    "                    v_tmp = c^(1 - σ) / (1 - σ) + β * v[j] #v if choosing k' = k[j]\n",
    "                    if just_started # logic operation \n",
    "                        vmax = v_tmp # store the value function\n",
    "                        pol_i = j # store the policy function (an index on k)\n",
    "                        just_started = false\n",
    "                    elseif v_tmp > vmax \n",
    "                        pol_i = j\n",
    "                        vmax = v_tmp\n",
    "                    end\n",
    "                end\n",
    "            end\n",
    "        \n",
    "            v1[i] = vmax #update maximized value\n",
    "            pol[i] = pol_i #update policy function\n",
    "            if distance < abs(vmax - v[i])\n",
    "                distance = abs(vmax - v[i]) #update distance\n",
    "            end\n",
    "        end\n",
    "\n",
    "        (distance < tol || iterate == 1000) && break # break out the whole loop if one of the statements are true\n",
    "        iterate += 1\n",
    "        v.= v1# update the value, equivalently v = copy(v1)\n",
    "    end\n",
    "    return (v=v, pol=pol, iterate=iterate)\n",
    "end"
   ]
  },
  {
   "cell_type": "code",
   "execution_count": 10,
   "metadata": {},
   "outputs": [
    {
     "data": {
      "text/plain": [
       "(v = [-141.6000605365398, -13.982081957061373, -11.222006674686714, -9.97467946907761, -9.194802019095095, -8.641506656983273, -8.23605937587854, -7.9187196210739685, -7.662167409250431, -7.446410754534364  …  -4.775705127339619, -4.7678914912950106, -4.760029024037419, -4.752245655402492, -4.744586503571926, -4.736843187659619, -4.7292611942669005, -4.721836140169183, -4.714354354769835, -4.707224761555834], pol = [1, 3, 4, 5, 6, 8, 9, 10, 11, 12  …  68, 68, 69, 70, 71, 71, 72, 72, 73, 73], iterate = 157)"
      ]
     },
     "metadata": {},
     "output_type": "display_data"
    }
   ],
   "source": [
    "(v, pol, iterate) =  VFI_baseline(σ, β, A, α, δ, v, k)\n"
   ]
  },
  {
   "cell_type": "code",
   "execution_count": 11,
   "metadata": {},
   "outputs": [
    {
     "name": "stdout",
     "output_type": "stream",
     "text": [
      "The value function converged in 157 loops\n"
     ]
    }
   ],
   "source": [
    "println(\"The value function converged in $iterate loops\")"
   ]
  },
  {
   "attachments": {},
   "cell_type": "markdown",
   "metadata": {},
   "source": [
    "Let's see how the value function and the policy function look like. For this purpose, we need an additional package. "
   ]
  },
  {
   "cell_type": "code",
   "execution_count": 12,
   "metadata": {},
   "outputs": [
    {
     "name": "stderr",
     "output_type": "stream",
     "text": [
      "\u001b[32m\u001b[1m   Resolving\u001b[22m\u001b[39m package versions...\n",
      "\u001b[32m\u001b[1m   Installed\u001b[22m\u001b[39m PlotThemes ───────── v3.2.0\n",
      "\u001b[32m\u001b[1m   Installed\u001b[22m\u001b[39m TranscodingStreams ─ v0.10.9\n",
      "\u001b[32m\u001b[1m   Installed\u001b[22m\u001b[39m LogExpFunctions ──── v0.3.28\n",
      "\u001b[32m\u001b[1m    Updating\u001b[22m\u001b[39m `~/Documents/Teaching/Julia course 2024/Julia/Lectures/Project.toml`\n",
      "  \u001b[90m[91a5bcdd] \u001b[39m\u001b[92m+ Plots v1.40.4\u001b[39m\n",
      "\u001b[32m\u001b[1m    Updating\u001b[22m\u001b[39m `~/Documents/Teaching/Julia course 2024/Julia/Lectures/Manifest.toml`\n",
      "  \u001b[90m[d1d4a3ce] \u001b[39m\u001b[92m+ BitFlags v0.1.8\u001b[39m\n",
      "  \u001b[90m[944b1d66] \u001b[39m\u001b[92m+ CodecZlib v0.7.4\u001b[39m\n",
      "  \u001b[90m[35d6a980] \u001b[39m\u001b[92m+ ColorSchemes v3.25.0\u001b[39m\n",
      "  \u001b[90m[3da002f7] \u001b[39m\u001b[92m+ ColorTypes v0.11.5\u001b[39m\n",
      "  \u001b[90m[c3611d14] \u001b[39m\u001b[92m+ ColorVectorSpace v0.10.0\u001b[39m\n",
      "  \u001b[90m[5ae59095] \u001b[39m\u001b[92m+ Colors v0.12.11\u001b[39m\n",
      "  \u001b[90m[34da2185] \u001b[39m\u001b[92m+ Compat v4.15.0\u001b[39m\n",
      "  \u001b[90m[f0e56b4a] \u001b[39m\u001b[92m+ ConcurrentUtilities v2.4.1\u001b[39m\n",
      "  \u001b[90m[d38c429a] \u001b[39m\u001b[92m+ Contour v0.6.3\u001b[39m\n",
      "  \u001b[90m[9a962f9c] \u001b[39m\u001b[92m+ DataAPI v1.16.0\u001b[39m\n",
      "  \u001b[90m[864edb3b] \u001b[39m\u001b[92m+ DataStructures v0.18.20\u001b[39m\n",
      "  \u001b[90m[8bb1440f] \u001b[39m\u001b[92m+ DelimitedFiles v1.9.1\u001b[39m\n",
      "  \u001b[90m[ffbed154] \u001b[39m\u001b[92m+ DocStringExtensions v0.9.3\u001b[39m\n",
      "  \u001b[90m[460bff9d] \u001b[39m\u001b[92m+ ExceptionUnwrapping v0.1.10\u001b[39m\n",
      "  \u001b[90m[c87230d0] \u001b[39m\u001b[92m+ FFMPEG v0.4.1\u001b[39m\n",
      "  \u001b[90m[53c48c17] \u001b[39m\u001b[92m+ FixedPointNumbers v0.8.5\u001b[39m\n",
      "  \u001b[90m[1fa38f19] \u001b[39m\u001b[92m+ Format v1.3.7\u001b[39m\n",
      "  \u001b[90m[28b8d3ca] \u001b[39m\u001b[92m+ GR v0.73.5\u001b[39m\n",
      "  \u001b[90m[42e2da0e] \u001b[39m\u001b[92m+ Grisu v1.0.2\u001b[39m\n",
      "  \u001b[90m[cd3eb016] \u001b[39m\u001b[92m+ HTTP v1.10.8\u001b[39m\n",
      "  \u001b[90m[92d709cd] \u001b[39m\u001b[92m+ IrrationalConstants v0.2.2\u001b[39m\n",
      "  \u001b[90m[1019f520] \u001b[39m\u001b[92m+ JLFzf v0.1.7\u001b[39m\n",
      "  \u001b[90m[692b3bcd] \u001b[39m\u001b[92m+ JLLWrappers v1.5.0\u001b[39m\n",
      "  \u001b[90m[682c06a0] \u001b[39m\u001b[92m+ JSON v0.21.4\u001b[39m\n",
      "  \u001b[90m[b964fa9f] \u001b[39m\u001b[92m+ LaTeXStrings v1.3.1\u001b[39m\n",
      "  \u001b[90m[23fbe1c1] \u001b[39m\u001b[92m+ Latexify v0.16.3\u001b[39m\n",
      "  \u001b[90m[2ab3a3ac] \u001b[39m\u001b[92m+ LogExpFunctions v0.3.28\u001b[39m\n",
      "  \u001b[90m[e6f89c97] \u001b[39m\u001b[92m+ LoggingExtras v1.0.3\u001b[39m\n",
      "  \u001b[90m[1914dd2f] \u001b[39m\u001b[92m+ MacroTools v0.5.13\u001b[39m\n",
      "  \u001b[90m[739be429] \u001b[39m\u001b[92m+ MbedTLS v1.1.9\u001b[39m\n",
      "  \u001b[90m[442fdcdd] \u001b[39m\u001b[92m+ Measures v0.3.2\u001b[39m\n",
      "  \u001b[90m[e1d29d7a] \u001b[39m\u001b[92m+ Missings v1.2.0\u001b[39m\n",
      "  \u001b[90m[77ba4419] \u001b[39m\u001b[92m+ NaNMath v1.0.2\u001b[39m\n",
      "  \u001b[90m[4d8831e6] \u001b[39m\u001b[92m+ OpenSSL v1.4.3\u001b[39m\n",
      "  \u001b[90m[bac558e1] \u001b[39m\u001b[92m+ OrderedCollections v1.6.3\u001b[39m\n",
      "  \u001b[90m[69de0a69] \u001b[39m\u001b[92m+ Parsers v2.8.1\u001b[39m\n",
      "  \u001b[90m[b98c9c47] \u001b[39m\u001b[92m+ Pipe v1.3.0\u001b[39m\n",
      "  \u001b[90m[ccf2f8ad] \u001b[39m\u001b[92m+ PlotThemes v3.2.0\u001b[39m\n",
      "  \u001b[90m[995b91a9] \u001b[39m\u001b[92m+ PlotUtils v1.4.1\u001b[39m\n",
      "  \u001b[90m[91a5bcdd] \u001b[39m\u001b[92m+ Plots v1.40.4\u001b[39m\n",
      "  \u001b[90m[aea7be01] \u001b[39m\u001b[92m+ PrecompileTools v1.2.1\u001b[39m\n",
      "  \u001b[90m[21216c6a] \u001b[39m\u001b[92m+ Preferences v1.4.3\u001b[39m\n",
      "  \u001b[90m[3cdcf5f2] \u001b[39m\u001b[92m+ RecipesBase v1.3.4\u001b[39m\n",
      "  \u001b[90m[01d81517] \u001b[39m\u001b[92m+ RecipesPipeline v0.6.12\u001b[39m\n",
      "  \u001b[90m[189a3867] \u001b[39m\u001b[92m+ Reexport v1.2.2\u001b[39m\n",
      "  \u001b[90m[05181044] \u001b[39m\u001b[92m+ RelocatableFolders v1.0.1\u001b[39m\n",
      "  \u001b[90m[ae029012] \u001b[39m\u001b[92m+ Requires v1.3.0\u001b[39m\n",
      "  \u001b[90m[6c6a2e73] \u001b[39m\u001b[92m+ Scratch v1.2.1\u001b[39m\n",
      "  \u001b[90m[992d4aef] \u001b[39m\u001b[92m+ Showoff v1.0.3\u001b[39m\n",
      "  \u001b[90m[777ac1f9] \u001b[39m\u001b[92m+ SimpleBufferStream v1.1.0\u001b[39m\n",
      "  \u001b[90m[a2af1166] \u001b[39m\u001b[92m+ SortingAlgorithms v1.2.1\u001b[39m\n",
      "  \u001b[90m[82ae8749] \u001b[39m\u001b[92m+ StatsAPI v1.7.0\u001b[39m\n",
      "  \u001b[90m[2913bbd2] \u001b[39m\u001b[92m+ StatsBase v0.34.3\u001b[39m\n",
      "  \u001b[90m[62fd8b95] \u001b[39m\u001b[92m+ TensorCore v0.1.1\u001b[39m\n",
      "  \u001b[90m[3bb67fe8] \u001b[39m\u001b[92m+ TranscodingStreams v0.10.9\u001b[39m\n",
      "  \u001b[90m[5c2747f8] \u001b[39m\u001b[92m+ URIs v1.5.1\u001b[39m\n",
      "  \u001b[90m[1cfade01] \u001b[39m\u001b[92m+ UnicodeFun v0.4.1\u001b[39m\n",
      "  \u001b[90m[1986cc42] \u001b[39m\u001b[92m+ Unitful v1.20.0\u001b[39m\n",
      "  \u001b[90m[45397f5d] \u001b[39m\u001b[92m+ UnitfulLatexify v1.6.3\u001b[39m\n",
      "  \u001b[90m[41fe7b60] \u001b[39m\u001b[92m+ Unzip v0.2.0\u001b[39m\n",
      "  \u001b[90m[6e34b625] \u001b[39m\u001b[92m+ Bzip2_jll v1.0.8+1\u001b[39m\n",
      "  \u001b[90m[83423d85] \u001b[39m\u001b[92m+ Cairo_jll v1.18.0+2\u001b[39m\n",
      "  \u001b[90m[2702e6a9] \u001b[39m\u001b[92m+ EpollShim_jll v0.0.20230411+0\u001b[39m\n",
      "  \u001b[90m[2e619515] \u001b[39m\u001b[92m+ Expat_jll v2.6.2+0\u001b[39m\n",
      "\u001b[33m⌅\u001b[39m \u001b[90m[b22a6f82] \u001b[39m\u001b[92m+ FFMPEG_jll v4.4.4+1\u001b[39m\n",
      "  \u001b[90m[a3f928ae] \u001b[39m\u001b[92m+ Fontconfig_jll v2.13.96+0\u001b[39m\n",
      "  \u001b[90m[d7e528f0] \u001b[39m\u001b[92m+ FreeType2_jll v2.13.2+0\u001b[39m\n",
      "  \u001b[90m[559328eb] \u001b[39m\u001b[92m+ FriBidi_jll v1.0.14+0\u001b[39m\n",
      "  \u001b[90m[0656b61e] \u001b[39m\u001b[92m+ GLFW_jll v3.3.9+0\u001b[39m\n",
      "  \u001b[90m[d2c73de3] \u001b[39m\u001b[92m+ GR_jll v0.73.5+0\u001b[39m\n",
      "  \u001b[90m[78b55507] \u001b[39m\u001b[92m+ Gettext_jll v0.21.0+0\u001b[39m\n",
      "  \u001b[90m[7746bdde] \u001b[39m\u001b[92m+ Glib_jll v2.80.2+0\u001b[39m\n",
      "  \u001b[90m[3b182d85] \u001b[39m\u001b[92m+ Graphite2_jll v1.3.14+0\u001b[39m\n",
      "  \u001b[90m[2e76f6c2] \u001b[39m\u001b[92m+ HarfBuzz_jll v2.8.1+1\u001b[39m\n",
      "  \u001b[90m[aacddb02] \u001b[39m\u001b[92m+ JpegTurbo_jll v3.0.3+0\u001b[39m\n",
      "  \u001b[90m[c1c5ebd0] \u001b[39m\u001b[92m+ LAME_jll v3.100.2+0\u001b[39m\n",
      "\u001b[33m⌅\u001b[39m \u001b[90m[88015f11] \u001b[39m\u001b[92m+ LERC_jll v3.0.0+1\u001b[39m\n",
      "  \u001b[90m[1d63c593] \u001b[39m\u001b[92m+ LLVMOpenMP_jll v15.0.7+0\u001b[39m\n",
      "  \u001b[90m[dd4b983a] \u001b[39m\u001b[92m+ LZO_jll v2.10.2+0\u001b[39m\n",
      "\u001b[33m⌅\u001b[39m \u001b[90m[e9f186c6] \u001b[39m\u001b[92m+ Libffi_jll v3.2.2+1\u001b[39m\n",
      "  \u001b[90m[d4300ac3] \u001b[39m\u001b[92m+ Libgcrypt_jll v1.8.11+0\u001b[39m\n",
      "  \u001b[90m[7e76a0d4] \u001b[39m\u001b[92m+ Libglvnd_jll v1.6.0+0\u001b[39m\n",
      "  \u001b[90m[7add5ba3] \u001b[39m\u001b[92m+ Libgpg_error_jll v1.49.0+0\u001b[39m\n",
      "  \u001b[90m[94ce4f54] \u001b[39m\u001b[92m+ Libiconv_jll v1.17.0+0\u001b[39m\n",
      "  \u001b[90m[4b2f31a3] \u001b[39m\u001b[92m+ Libmount_jll v2.40.1+0\u001b[39m\n",
      "\u001b[33m⌅\u001b[39m \u001b[90m[89763e89] \u001b[39m\u001b[92m+ Libtiff_jll v4.5.1+1\u001b[39m\n",
      "  \u001b[90m[38a345b3] \u001b[39m\u001b[92m+ Libuuid_jll v2.40.1+0\u001b[39m\n",
      "  \u001b[90m[e7412a2a] \u001b[39m\u001b[92m+ Ogg_jll v1.3.5+1\u001b[39m\n",
      "  \u001b[90m[458c3c95] \u001b[39m\u001b[92m+ OpenSSL_jll v3.0.13+1\u001b[39m\n",
      "  \u001b[90m[91d4177d] \u001b[39m\u001b[92m+ Opus_jll v1.3.2+0\u001b[39m\n",
      "  \u001b[90m[30392449] \u001b[39m\u001b[92m+ Pixman_jll v0.43.4+0\u001b[39m\n",
      "\u001b[33m⌅\u001b[39m \u001b[90m[c0090381] \u001b[39m\u001b[92m+ Qt6Base_jll v6.5.3+1\u001b[39m\n",
      "  \u001b[90m[a44049a8] \u001b[39m\u001b[92m+ Vulkan_Loader_jll v1.3.243+0\u001b[39m\n",
      "  \u001b[90m[a2964d1f] \u001b[39m\u001b[92m+ Wayland_jll v1.21.0+1\u001b[39m\n",
      "  \u001b[90m[2381bf8a] \u001b[39m\u001b[92m+ Wayland_protocols_jll v1.31.0+0\u001b[39m\n",
      "  \u001b[90m[02c8fc9c] \u001b[39m\u001b[92m+ XML2_jll v2.12.7+0\u001b[39m\n",
      "  \u001b[90m[aed1982a] \u001b[39m\u001b[92m+ XSLT_jll v1.1.34+0\u001b[39m\n",
      "  \u001b[90m[ffd25f8a] \u001b[39m\u001b[92m+ XZ_jll v5.4.6+0\u001b[39m\n",
      "  \u001b[90m[f67eecfb] \u001b[39m\u001b[92m+ Xorg_libICE_jll v1.1.1+0\u001b[39m\n",
      "  \u001b[90m[c834827a] \u001b[39m\u001b[92m+ Xorg_libSM_jll v1.2.4+0\u001b[39m\n",
      "  \u001b[90m[4f6342f7] \u001b[39m\u001b[92m+ Xorg_libX11_jll v1.8.6+0\u001b[39m\n",
      "  \u001b[90m[0c0b7dd1] \u001b[39m\u001b[92m+ Xorg_libXau_jll v1.0.11+0\u001b[39m\n",
      "  \u001b[90m[935fb764] \u001b[39m\u001b[92m+ Xorg_libXcursor_jll v1.2.0+4\u001b[39m\n",
      "  \u001b[90m[a3789734] \u001b[39m\u001b[92m+ Xorg_libXdmcp_jll v1.1.4+0\u001b[39m\n",
      "  \u001b[90m[1082639a] \u001b[39m\u001b[92m+ Xorg_libXext_jll v1.3.6+0\u001b[39m\n",
      "  \u001b[90m[d091e8ba] \u001b[39m\u001b[92m+ Xorg_libXfixes_jll v5.0.3+4\u001b[39m\n",
      "  \u001b[90m[a51aa0fd] \u001b[39m\u001b[92m+ Xorg_libXi_jll v1.7.10+4\u001b[39m\n",
      "  \u001b[90m[d1454406] \u001b[39m\u001b[92m+ Xorg_libXinerama_jll v1.1.4+4\u001b[39m\n",
      "  \u001b[90m[ec84b674] \u001b[39m\u001b[92m+ Xorg_libXrandr_jll v1.5.2+4\u001b[39m\n",
      "  \u001b[90m[ea2f1a96] \u001b[39m\u001b[92m+ Xorg_libXrender_jll v0.9.11+0\u001b[39m\n",
      "  \u001b[90m[14d82f49] \u001b[39m\u001b[92m+ Xorg_libpthread_stubs_jll v0.1.1+0\u001b[39m\n",
      "  \u001b[90m[c7cfdc94] \u001b[39m\u001b[92m+ Xorg_libxcb_jll v1.15.0+0\u001b[39m\n",
      "  \u001b[90m[cc61e674] \u001b[39m\u001b[92m+ Xorg_libxkbfile_jll v1.1.2+0\u001b[39m\n",
      "  \u001b[90m[e920d4aa] \u001b[39m\u001b[92m+ Xorg_xcb_util_cursor_jll v0.1.4+0\u001b[39m\n",
      "  \u001b[90m[12413925] \u001b[39m\u001b[92m+ Xorg_xcb_util_image_jll v0.4.0+1\u001b[39m\n",
      "  \u001b[90m[2def613f] \u001b[39m\u001b[92m+ Xorg_xcb_util_jll v0.4.0+1\u001b[39m\n",
      "  \u001b[90m[975044d2] \u001b[39m\u001b[92m+ Xorg_xcb_util_keysyms_jll v0.4.0+1\u001b[39m\n",
      "  \u001b[90m[0d47668e] \u001b[39m\u001b[92m+ Xorg_xcb_util_renderutil_jll v0.3.9+1\u001b[39m\n",
      "  \u001b[90m[c22f9ab0] \u001b[39m\u001b[92m+ Xorg_xcb_util_wm_jll v0.4.1+1\u001b[39m\n",
      "  \u001b[90m[35661453] \u001b[39m\u001b[92m+ Xorg_xkbcomp_jll v1.4.6+0\u001b[39m\n",
      "  \u001b[90m[33bec58e] \u001b[39m\u001b[92m+ Xorg_xkeyboard_config_jll v2.39.0+0\u001b[39m\n",
      "  \u001b[90m[c5fb5394] \u001b[39m\u001b[92m+ Xorg_xtrans_jll v1.5.0+0\u001b[39m\n",
      "  \u001b[90m[3161d3a3] \u001b[39m\u001b[92m+ Zstd_jll v1.5.6+0\u001b[39m\n",
      "  \u001b[90m[35ca27e7] \u001b[39m\u001b[92m+ eudev_jll v3.2.9+0\u001b[39m\n",
      "\u001b[33m⌅\u001b[39m \u001b[90m[214eeab7] \u001b[39m\u001b[92m+ fzf_jll v0.43.0+0\u001b[39m\n",
      "  \u001b[90m[1a1c6b14] \u001b[39m\u001b[92m+ gperf_jll v3.1.1+0\u001b[39m\n",
      "  \u001b[90m[a4ae2306] \u001b[39m\u001b[92m+ libaom_jll v3.9.0+0\u001b[39m\n",
      "  \u001b[90m[0ac62f75] \u001b[39m\u001b[92m+ libass_jll v0.15.1+0\u001b[39m\n",
      "  \u001b[90m[2db6ffa8] \u001b[39m\u001b[92m+ libevdev_jll v1.11.0+0\u001b[39m\n",
      "  \u001b[90m[f638f0a6] \u001b[39m\u001b[92m+ libfdk_aac_jll v2.0.2+0\u001b[39m\n",
      "  \u001b[90m[36db933b] \u001b[39m\u001b[92m+ libinput_jll v1.18.0+0\u001b[39m\n",
      "  \u001b[90m[b53b4c65] \u001b[39m\u001b[92m+ libpng_jll v1.6.43+1\u001b[39m\n",
      "  \u001b[90m[f27f6e37] \u001b[39m\u001b[92m+ libvorbis_jll v1.3.7+1\u001b[39m\n",
      "  \u001b[90m[009596ad] \u001b[39m\u001b[92m+ mtdev_jll v1.1.6+0\u001b[39m\n",
      "  \u001b[90m[1270edf5] \u001b[39m\u001b[92m+ x264_jll v2021.5.5+0\u001b[39m\n",
      "  \u001b[90m[dfaa095f] \u001b[39m\u001b[92m+ x265_jll v3.5.0+0\u001b[39m\n",
      "  \u001b[90m[d8fb68d0] \u001b[39m\u001b[92m+ xkbcommon_jll v1.4.1+1\u001b[39m\n",
      "  \u001b[90m[0dad84c5] \u001b[39m\u001b[92m+ ArgTools v1.1.1\u001b[39m\n",
      "  \u001b[90m[2a0f44e3] \u001b[39m\u001b[92m+ Base64\u001b[39m\n",
      "  \u001b[90m[ade2ca70] \u001b[39m\u001b[92m+ Dates\u001b[39m\n",
      "  \u001b[90m[f43a241f] \u001b[39m\u001b[92m+ Downloads v1.6.0\u001b[39m\n",
      "  \u001b[90m[7b1f6079] \u001b[39m\u001b[92m+ FileWatching\u001b[39m\n",
      "  \u001b[90m[b77e0a4c] \u001b[39m\u001b[92m+ InteractiveUtils\u001b[39m\n",
      "  \u001b[90m[b27032c2] \u001b[39m\u001b[92m+ LibCURL v0.6.3\u001b[39m\n",
      "  \u001b[90m[76f85450] \u001b[39m\u001b[92m+ LibGit2\u001b[39m\n",
      "  \u001b[90m[56ddb016] \u001b[39m\u001b[92m+ Logging\u001b[39m\n",
      "  \u001b[90m[d6f4376e] \u001b[39m\u001b[92m+ Markdown\u001b[39m\n",
      "  \u001b[90m[a63ad114] \u001b[39m\u001b[92m+ Mmap\u001b[39m\n",
      "  \u001b[90m[ca575930] \u001b[39m\u001b[92m+ NetworkOptions v1.2.0\u001b[39m\n",
      "  \u001b[90m[44cfe95a] \u001b[39m\u001b[92m+ Pkg v1.9.2\u001b[39m\n",
      "  \u001b[90m[de0858da] \u001b[39m\u001b[92m+ Printf\u001b[39m\n",
      "  \u001b[90m[3fa0cd96] \u001b[39m\u001b[92m+ REPL\u001b[39m\n",
      "  \u001b[90m[9a3f8284] \u001b[39m\u001b[92m+ Random\u001b[39m\n",
      "  \u001b[90m[ea8e919c] \u001b[39m\u001b[92m+ SHA v0.7.0\u001b[39m\n",
      "  \u001b[90m[9e88b42a] \u001b[39m\u001b[92m+ Serialization\u001b[39m\n",
      "  \u001b[90m[6462fe0b] \u001b[39m\u001b[92m+ Sockets\u001b[39m\n",
      "  \u001b[90m[2f01184e] \u001b[39m\u001b[92m+ SparseArrays\u001b[39m\n",
      "  \u001b[90m[10745b16] \u001b[39m\u001b[92m+ Statistics v1.9.0\u001b[39m\n",
      "  \u001b[90m[fa267f1f] \u001b[39m\u001b[92m+ TOML v1.0.3\u001b[39m\n",
      "  \u001b[90m[a4e569a6] \u001b[39m\u001b[92m+ Tar v1.10.0\u001b[39m\n",
      "  \u001b[90m[8dfed614] \u001b[39m\u001b[92m+ Test\u001b[39m\n",
      "  \u001b[90m[cf7118a7] \u001b[39m\u001b[92m+ UUIDs\u001b[39m\n",
      "  \u001b[90m[4ec0a83e] \u001b[39m\u001b[92m+ Unicode\u001b[39m\n",
      "  \u001b[90m[deac9b47] \u001b[39m\u001b[92m+ LibCURL_jll v7.84.0+0\u001b[39m\n",
      "  \u001b[90m[29816b5a] \u001b[39m\u001b[92m+ LibSSH2_jll v1.10.2+0\u001b[39m\n",
      "  \u001b[90m[c8ffd9c3] \u001b[39m\u001b[92m+ MbedTLS_jll v2.28.2+0\u001b[39m\n",
      "  \u001b[90m[14a3606d] \u001b[39m\u001b[92m+ MozillaCACerts_jll v2022.10.11\u001b[39m\n",
      "  \u001b[90m[05823500] \u001b[39m\u001b[92m+ OpenLibm_jll v0.8.1+0\u001b[39m\n",
      "  \u001b[90m[efcefdf7] \u001b[39m\u001b[92m+ PCRE2_jll v10.42.0+0\u001b[39m\n",
      "  \u001b[90m[bea87d4a] \u001b[39m\u001b[92m+ SuiteSparse_jll v5.10.1+6\u001b[39m\n",
      "  \u001b[90m[83775a58] \u001b[39m\u001b[92m+ Zlib_jll v1.2.13+0\u001b[39m\n",
      "  \u001b[90m[8e850ede] \u001b[39m\u001b[92m+ nghttp2_jll v1.48.0+0\u001b[39m\n",
      "  \u001b[90m[3f19e933] \u001b[39m\u001b[92m+ p7zip_jll v17.4.0+0\u001b[39m\n",
      "\u001b[36m\u001b[1m        Info\u001b[22m\u001b[39m Packages marked with \u001b[33m⌅\u001b[39m have new versions available but compatibility constraints restrict them from upgrading. To see why use `status --outdated -m`\n",
      "\u001b[32m\u001b[1mPrecompiling\u001b[22m\u001b[39m project...\n",
      "\u001b[32m  ✓ \u001b[39m\u001b[90mLogExpFunctions\u001b[39m\n",
      "\u001b[32m  ✓ \u001b[39m\u001b[90mTranscodingStreams\u001b[39m\n",
      "\u001b[32m  ✓ \u001b[39m\u001b[90mTranscodingStreams → TestExt\u001b[39m\n",
      "\u001b[32m  ✓ \u001b[39m\u001b[90mCodecZlib\u001b[39m\n",
      "\u001b[32m  ✓ \u001b[39m\u001b[90mPlotThemes\u001b[39m\n",
      "\u001b[32m  ✓ \u001b[39m\u001b[90mStatsBase\u001b[39m\n",
      "\u001b[32m  ✓ \u001b[39m\u001b[90mHTTP\u001b[39m\n",
      "\u001b[32m  ✓ \u001b[39m\u001b[90mGR\u001b[39m\n",
      "\u001b[32m  ✓ \u001b[39mPlots\n",
      "\u001b[32m  ✓ \u001b[39m\u001b[90mPlots → UnitfulExt\u001b[39m\n",
      "  10 dependencies successfully precompiled in 47 seconds. 138 already precompiled.\n"
     ]
    }
   ],
   "source": [
    "Pkg.add(\"Plots\") # This takes a while"
   ]
  },
  {
   "cell_type": "code",
   "execution_count": 13,
   "metadata": {},
   "outputs": [],
   "source": [
    "using Plots # this also might take some time"
   ]
  },
  {
   "cell_type": "code",
   "execution_count": 19,
   "metadata": {},
   "outputs": [
    {
     "data": {
      "image/png": "[encoded data removed]",
      "image/svg+xml": [
       "<?xml version=\"1.0\" encoding=\"utf-8\"?>\n",
       "<svg xmlns=\"http://www.w3.org/2000/svg\" xmlns:xlink=\"http://www.w3.org/1999/xlink\" width=\"600\" height=\"400\" viewBox=\"0 0 2400 1600\">\n",
       "<defs>\n",
       "  <clipPath id=\"clip520\">\n",
       "    <rect x=\"0\" y=\"0\" width=\"2400\" height=\"1600\"/>\n",
       "  </clipPath>\n",
       "</defs>\n",
       "<path clip-path=\"url(#clip520)\" d=\"M0 1600 L2400 1600 L2400 8.88178e-14 L0 8.88178e-14  Z\" fill=\"#ffffff\" fill-rule=\"evenodd\" fill-opacity=\"1\"/>\n",
       "<defs>\n",
       "  <clipPath id=\"clip521\">\n",
       "    <rect x=\"480\" y=\"0\" width=\"1681\" height=\"1600\"/>\n",
       "  </clipPath>\n",
       "</defs>\n",
       "<path clip-path=\"url(#clip520)\" d=\"M272.297 1423.18 L2352.76 1423.18 L2352.76 47.2441 L272.297 47.2441  Z\" fill=\"#ffffff\" fill-rule=\"evenodd\" fill-opacity=\"1\"/>\n",
       "<defs>\n",
       "  <clipPath id=\"clip522\">\n",
       "    <rect x=\"272\" y=\"47\" width=\"2081\" height=\"1377\"/>\n",
       "  </clipPath>\n",
       "</defs>\n",
       "<polyline clip-path=\"url(#clip522)\" style=\"stroke:#000000; stroke-linecap:round; stroke-linejoin:round; stroke-width:2; stroke-opacity:0.1; fill:none\" points=\"329.806,1423.18 329.806,47.2441 \"/>\n",
       "<polyline clip-path=\"url(#clip522)\" style=\"stroke:#000000; stroke-linecap:round; stroke-linejoin:round; stroke-width:2; stroke-opacity:0.1; fill:none\" points=\"741.258,1423.18 741.258,47.2441 \"/>\n",
       "<polyline clip-path=\"url(#clip522)\" style=\"stroke:#000000; stroke-linecap:round; stroke-linejoin:round; stroke-width:2; stroke-opacity:0.1; fill:none\" points=\"1152.71,1423.18 1152.71,47.2441 \"/>\n",
       "<polyline clip-path=\"url(#clip522)\" style=\"stroke:#000000; stroke-linecap:round; stroke-linejoin:round; stroke-width:2; stroke-opacity:0.1; fill:none\" points=\"1564.16,1423.18 1564.16,47.2441 \"/>\n",
       "<polyline clip-path=\"url(#clip522)\" style=\"stroke:#000000; stroke-linecap:round; stroke-linejoin:round; stroke-width:2; stroke-opacity:0.1; fill:none\" points=\"1975.62,1423.18 1975.62,47.2441 \"/>\n",
       "<polyline clip-path=\"url(#clip520)\" style=\"stroke:#000000; stroke-linecap:round; stroke-linejoin:round; stroke-width:4; stroke-opacity:1; fill:none\" points=\"272.297,1423.18 2352.76,1423.18 \"/>\n",
       "<polyline clip-path=\"url(#clip520)\" style=\"stroke:#000000; stroke-linecap:round; stroke-linejoin:round; stroke-width:4; stroke-opacity:1; fill:none\" points=\"329.806,1423.18 329.806,1404.28 \"/>\n",
       "<polyline clip-path=\"url(#clip520)\" style=\"stroke:#000000; stroke-linecap:round; stroke-linejoin:round; stroke-width:4; stroke-opacity:1; fill:none\" points=\"741.258,1423.18 741.258,1404.28 \"/>\n",
       "<polyline clip-path=\"url(#clip520)\" style=\"stroke:#000000; stroke-linecap:round; stroke-linejoin:round; stroke-width:4; stroke-opacity:1; fill:none\" points=\"1152.71,1423.18 1152.71,1404.28 \"/>\n",
       "<polyline clip-path=\"url(#clip520)\" style=\"stroke:#000000; stroke-linecap:round; stroke-linejoin:round; stroke-width:4; stroke-opacity:1; fill:none\" points=\"1564.16,1423.18 1564.16,1404.28 \"/>\n",
       "<polyline clip-path=\"url(#clip520)\" style=\"stroke:#000000; stroke-linecap:round; stroke-linejoin:round; stroke-width:4; stroke-opacity:1; fill:none\" points=\"1975.62,1423.18 1975.62,1404.28 \"/>\n",
       "<path clip-path=\"url(#clip520)\" d=\"M329.806 1454.1 Q326.195 1454.1 324.366 1457.66 Q322.561 1461.2 322.561 1468.33 Q322.561 1475.44 324.366 1479.01 Q326.195 1482.55 329.806 1482.55 Q333.44 1482.55 335.246 1479.01 Q337.074 1475.44 337.074 1468.33 Q337.074 1461.2 335.246 1457.66 Q333.44 1454.1 329.806 1454.1 M329.806 1450.39 Q335.616 1450.39 338.672 1455 Q341.75 1459.58 341.75 1468.33 Q341.75 1477.06 338.672 1481.67 Q335.616 1486.25 329.806 1486.25 Q323.996 1486.25 320.917 1481.67 Q317.862 1477.06 317.862 1468.33 Q317.862 1459.58 320.917 1455 Q323.996 1450.39 329.806 1450.39 Z\" fill=\"#000000\" fill-rule=\"nonzero\" fill-opacity=\"1\" /><path clip-path=\"url(#clip520)\" d=\"M745.506 1466.95 Q748.863 1467.66 750.738 1469.93 Q752.636 1472.2 752.636 1475.53 Q752.636 1480.65 749.117 1483.45 Q745.599 1486.25 739.117 1486.25 Q736.941 1486.25 734.627 1485.81 Q732.335 1485.39 729.881 1484.54 L729.881 1480.02 Q731.826 1481.16 734.14 1481.74 Q736.455 1482.32 738.978 1482.32 Q743.377 1482.32 745.668 1480.58 Q747.983 1478.84 747.983 1475.53 Q747.983 1472.48 745.83 1470.77 Q743.701 1469.03 739.881 1469.03 L735.853 1469.03 L735.853 1465.19 L740.066 1465.19 Q743.515 1465.19 745.344 1463.82 Q747.173 1462.43 747.173 1459.84 Q747.173 1457.18 745.275 1455.77 Q743.4 1454.33 739.881 1454.33 Q737.96 1454.33 735.761 1454.75 Q733.562 1455.16 730.923 1456.04 L730.923 1451.88 Q733.585 1451.14 735.9 1450.77 Q738.238 1450.39 740.298 1450.39 Q745.622 1450.39 748.724 1452.83 Q751.826 1455.23 751.826 1459.35 Q751.826 1462.22 750.182 1464.21 Q748.539 1466.18 745.506 1466.95 Z\" fill=\"#000000\" fill-rule=\"nonzero\" fill-opacity=\"1\" /><path clip-path=\"url(#clip520)\" d=\"M1153.12 1466.44 Q1149.97 1466.44 1148.12 1468.59 Q1146.29 1470.74 1146.29 1474.49 Q1146.29 1478.22 1148.12 1480.39 Q1149.97 1482.55 1153.12 1482.55 Q1156.26 1482.55 1158.09 1480.39 Q1159.94 1478.22 1159.94 1474.49 Q1159.94 1470.74 1158.09 1468.59 Q1156.26 1466.44 1153.12 1466.44 M1162.4 1451.78 L1162.4 1456.04 Q1160.64 1455.21 1158.83 1454.77 Q1157.05 1454.33 1155.29 1454.33 Q1150.66 1454.33 1148.21 1457.45 Q1145.78 1460.58 1145.43 1466.9 Q1146.8 1464.89 1148.86 1463.82 Q1150.92 1462.73 1153.39 1462.73 Q1158.6 1462.73 1161.61 1465.9 Q1164.64 1469.05 1164.64 1474.49 Q1164.64 1479.82 1161.5 1483.03 Q1158.35 1486.25 1153.12 1486.25 Q1147.12 1486.25 1143.95 1481.67 Q1140.78 1477.06 1140.78 1468.33 Q1140.78 1460.14 1144.67 1455.28 Q1148.56 1450.39 1155.11 1450.39 Q1156.87 1450.39 1158.65 1450.74 Q1160.45 1451.09 1162.4 1451.78 Z\" fill=\"#000000\" fill-rule=\"nonzero\" fill-opacity=\"1\" /><path clip-path=\"url(#clip520)\" d=\"M1554.46 1484.86 L1554.46 1480.6 Q1556.22 1481.44 1558.03 1481.88 Q1559.83 1482.32 1561.57 1482.32 Q1566.2 1482.32 1568.63 1479.21 Q1571.08 1476.09 1571.43 1469.75 Q1570.09 1471.74 1568.03 1472.8 Q1565.97 1473.87 1563.47 1473.87 Q1558.28 1473.87 1555.25 1470.74 Q1552.24 1467.59 1552.24 1462.15 Q1552.24 1456.83 1555.39 1453.61 Q1558.54 1450.39 1563.77 1450.39 Q1569.77 1450.39 1572.91 1455 Q1576.08 1459.58 1576.08 1468.33 Q1576.08 1476.51 1572.2 1481.39 Q1568.33 1486.25 1561.78 1486.25 Q1560.02 1486.25 1558.21 1485.9 Q1556.41 1485.56 1554.46 1484.86 M1563.77 1470.21 Q1566.92 1470.21 1568.75 1468.06 Q1570.6 1465.9 1570.6 1462.15 Q1570.6 1458.43 1568.75 1456.27 Q1566.92 1454.1 1563.77 1454.1 Q1560.62 1454.1 1558.77 1456.27 Q1556.94 1458.43 1556.94 1462.15 Q1556.94 1465.9 1558.77 1468.06 Q1560.62 1470.21 1563.77 1470.21 Z\" fill=\"#000000\" fill-rule=\"nonzero\" fill-opacity=\"1\" /><path clip-path=\"url(#clip520)\" d=\"M1951.1 1481.64 L1958.74 1481.64 L1958.74 1455.28 L1950.43 1456.95 L1950.43 1452.69 L1958.69 1451.02 L1963.37 1451.02 L1963.37 1481.64 L1971.01 1481.64 L1971.01 1485.58 L1951.1 1485.58 L1951.1 1481.64 Z\" fill=\"#000000\" fill-rule=\"nonzero\" fill-opacity=\"1\" /><path clip-path=\"url(#clip520)\" d=\"M1984.48 1481.64 L2000.8 1481.64 L2000.8 1485.58 L1978.86 1485.58 L1978.86 1481.64 Q1981.52 1478.89 1986.1 1474.26 Q1990.71 1469.61 1991.89 1468.27 Q1994.13 1465.74 1995.01 1464.01 Q1995.92 1462.25 1995.92 1460.56 Q1995.92 1457.8 1993.97 1456.07 Q1992.05 1454.33 1988.95 1454.33 Q1986.75 1454.33 1984.3 1455.09 Q1981.87 1455.86 1979.09 1457.41 L1979.09 1452.69 Q1981.91 1451.55 1984.37 1450.97 Q1986.82 1450.39 1988.86 1450.39 Q1994.23 1450.39 1997.42 1453.08 Q2000.62 1455.77 2000.62 1460.26 Q2000.62 1462.39 1999.81 1464.31 Q1999.02 1466.2 1996.91 1468.8 Q1996.33 1469.47 1993.23 1472.69 Q1990.13 1475.88 1984.48 1481.64 Z\" fill=\"#000000\" fill-rule=\"nonzero\" fill-opacity=\"1\" /><path clip-path=\"url(#clip520)\" d=\"M1060.51 1524.18 L1060.51 1530.96 Q1057.26 1527.94 1053.57 1526.44 Q1049.91 1524.95 1045.77 1524.95 Q1037.62 1524.95 1033.29 1529.95 Q1028.97 1534.91 1028.97 1544.33 Q1028.97 1553.72 1033.29 1558.72 Q1037.62 1563.68 1045.77 1563.68 Q1049.91 1563.68 1053.57 1562.19 Q1057.26 1560.69 1060.51 1557.67 L1060.51 1564.38 Q1057.13 1566.68 1053.35 1567.82 Q1049.59 1568.97 1045.39 1568.97 Q1034.6 1568.97 1028.39 1562.38 Q1022.19 1555.76 1022.19 1544.33 Q1022.19 1532.87 1028.39 1526.28 Q1034.6 1519.66 1045.39 1519.66 Q1049.65 1519.66 1053.41 1520.81 Q1057.2 1521.92 1060.51 1524.18 Z\" fill=\"#000000\" fill-rule=\"nonzero\" fill-opacity=\"1\" /><path clip-path=\"url(#clip520)\" d=\"M1069.58 1553.98 L1069.58 1532.4 L1075.44 1532.4 L1075.44 1553.75 Q1075.44 1558.81 1077.41 1561.36 Q1079.38 1563.87 1083.33 1563.87 Q1088.07 1563.87 1090.81 1560.85 Q1093.58 1557.83 1093.58 1552.61 L1093.58 1532.4 L1099.43 1532.4 L1099.43 1568.04 L1093.58 1568.04 L1093.58 1562.57 Q1091.45 1565.82 1088.61 1567.41 Q1085.81 1568.97 1082.09 1568.97 Q1075.94 1568.97 1072.76 1565.15 Q1069.58 1561.33 1069.58 1553.98 M1084.32 1531.54 L1084.32 1531.54 Z\" fill=\"#000000\" fill-rule=\"nonzero\" fill-opacity=\"1\" /><path clip-path=\"url(#clip520)\" d=\"M1132.15 1537.87 Q1131.17 1537.3 1129.99 1537.04 Q1128.84 1536.76 1127.44 1536.76 Q1122.48 1536.76 1119.8 1540 Q1117.16 1543.22 1117.16 1549.27 L1117.16 1568.04 L1111.27 1568.04 L1111.27 1532.4 L1117.16 1532.4 L1117.16 1537.93 Q1119.01 1534.69 1121.97 1533.13 Q1124.93 1531.54 1129.16 1531.54 Q1129.77 1531.54 1130.5 1531.63 Q1131.23 1531.7 1132.12 1531.85 L1132.15 1537.87 Z\" fill=\"#000000\" fill-rule=\"nonzero\" fill-opacity=\"1\" /><path clip-path=\"url(#clip520)\" d=\"M1157.81 1537.87 Q1156.82 1537.3 1155.64 1537.04 Q1154.5 1536.76 1153.1 1536.76 Q1148.13 1536.76 1145.46 1540 Q1142.82 1543.22 1142.82 1549.27 L1142.82 1568.04 L1136.93 1568.04 L1136.93 1532.4 L1142.82 1532.4 L1142.82 1537.93 Q1144.66 1534.69 1147.62 1533.13 Q1150.58 1531.54 1154.82 1531.54 Q1155.42 1531.54 1156.15 1531.63 Q1156.88 1531.7 1157.78 1531.85 L1157.81 1537.87 Z\" fill=\"#000000\" fill-rule=\"nonzero\" fill-opacity=\"1\" /><path clip-path=\"url(#clip520)\" d=\"M1193.01 1548.76 L1193.01 1551.62 L1166.08 1551.62 Q1166.47 1557.67 1169.71 1560.85 Q1172.99 1564 1178.81 1564 Q1182.19 1564 1185.34 1563.17 Q1188.52 1562.35 1191.64 1560.69 L1191.64 1566.23 Q1188.49 1567.57 1185.18 1568.27 Q1181.87 1568.97 1178.46 1568.97 Q1169.93 1568.97 1164.94 1564 Q1159.97 1559.04 1159.97 1550.57 Q1159.97 1541.82 1164.68 1536.69 Q1169.43 1531.54 1177.45 1531.54 Q1184.64 1531.54 1188.81 1536.18 Q1193.01 1540.8 1193.01 1548.76 M1187.15 1547.04 Q1187.09 1542.23 1184.45 1539.37 Q1181.84 1536.5 1177.51 1536.5 Q1172.61 1536.5 1169.65 1539.27 Q1166.72 1542.04 1166.27 1547.07 L1187.15 1547.04 Z\" fill=\"#000000\" fill-rule=\"nonzero\" fill-opacity=\"1\" /><path clip-path=\"url(#clip520)\" d=\"M1232.25 1546.53 L1232.25 1568.04 L1226.4 1568.04 L1226.4 1546.72 Q1226.4 1541.66 1224.42 1539.14 Q1222.45 1536.63 1218.5 1536.63 Q1213.76 1536.63 1211.03 1539.65 Q1208.29 1542.68 1208.29 1547.9 L1208.29 1568.04 L1202.4 1568.04 L1202.4 1532.4 L1208.29 1532.4 L1208.29 1537.93 Q1210.39 1534.72 1213.22 1533.13 Q1216.09 1531.54 1219.81 1531.54 Q1225.95 1531.54 1229.1 1535.36 Q1232.25 1539.14 1232.25 1546.53 Z\" fill=\"#000000\" fill-rule=\"nonzero\" fill-opacity=\"1\" /><path clip-path=\"url(#clip520)\" d=\"M1249.73 1522.27 L1249.73 1532.4 L1261.79 1532.4 L1261.79 1536.95 L1249.73 1536.95 L1249.73 1556.3 Q1249.73 1560.66 1250.91 1561.9 Q1252.12 1563.14 1255.78 1563.14 L1261.79 1563.14 L1261.79 1568.04 L1255.78 1568.04 Q1249 1568.04 1246.42 1565.53 Q1243.84 1562.98 1243.84 1556.3 L1243.84 1536.95 L1239.54 1536.95 L1239.54 1532.4 L1243.84 1532.4 L1243.84 1522.27 L1249.73 1522.27 Z\" fill=\"#000000\" fill-rule=\"nonzero\" fill-opacity=\"1\" /><path clip-path=\"url(#clip520)\" d=\"M1315.87 1533.76 L1315.87 1539.24 Q1313.39 1537.87 1310.87 1537.2 Q1308.39 1536.5 1305.84 1536.5 Q1300.14 1536.5 1296.99 1540.13 Q1293.84 1543.73 1293.84 1550.25 Q1293.84 1556.78 1296.99 1560.4 Q1300.14 1564 1305.84 1564 Q1308.39 1564 1310.87 1563.33 Q1313.39 1562.63 1315.87 1561.26 L1315.87 1566.68 Q1313.42 1567.82 1310.78 1568.39 Q1308.17 1568.97 1305.21 1568.97 Q1297.15 1568.97 1292.41 1563.91 Q1287.67 1558.85 1287.67 1550.25 Q1287.67 1541.53 1292.44 1536.53 Q1297.25 1531.54 1305.59 1531.54 Q1308.29 1531.54 1310.87 1532.11 Q1313.45 1532.65 1315.87 1533.76 Z\" fill=\"#000000\" fill-rule=\"nonzero\" fill-opacity=\"1\" /><path clip-path=\"url(#clip520)\" d=\"M1342.25 1550.12 Q1335.16 1550.12 1332.42 1551.75 Q1329.68 1553.37 1329.68 1557.29 Q1329.68 1560.4 1331.72 1562.25 Q1333.79 1564.07 1337.32 1564.07 Q1342.19 1564.07 1345.12 1560.63 Q1348.08 1557.16 1348.08 1551.43 L1348.08 1550.12 L1342.25 1550.12 M1353.94 1547.71 L1353.94 1568.04 L1348.08 1568.04 L1348.08 1562.63 Q1346.07 1565.88 1343.08 1567.44 Q1340.09 1568.97 1335.76 1568.97 Q1330.29 1568.97 1327.04 1565.91 Q1323.83 1562.82 1323.83 1557.67 Q1323.83 1551.65 1327.84 1548.6 Q1331.88 1545.54 1339.87 1545.54 L1348.08 1545.54 L1348.08 1544.97 Q1348.08 1540.93 1345.41 1538.73 Q1342.76 1536.5 1337.96 1536.5 Q1334.9 1536.5 1332.01 1537.23 Q1329.11 1537.97 1326.44 1539.43 L1326.44 1534.02 Q1329.65 1532.78 1332.67 1532.17 Q1335.7 1531.54 1338.56 1531.54 Q1346.3 1531.54 1350.12 1535.55 Q1353.94 1539.56 1353.94 1547.71 Z\" fill=\"#000000\" fill-rule=\"nonzero\" fill-opacity=\"1\" /><path clip-path=\"url(#clip520)\" d=\"M1371.66 1562.7 L1371.66 1581.6 L1365.78 1581.6 L1365.78 1532.4 L1371.66 1532.4 L1371.66 1537.81 Q1373.51 1534.62 1376.31 1533.1 Q1379.14 1531.54 1383.06 1531.54 Q1389.55 1531.54 1393.59 1536.69 Q1397.67 1541.85 1397.67 1550.25 Q1397.67 1558.65 1393.59 1563.81 Q1389.55 1568.97 1383.06 1568.97 Q1379.14 1568.97 1376.31 1567.44 Q1373.51 1565.88 1371.66 1562.7 M1391.59 1550.25 Q1391.59 1543.79 1388.91 1540.13 Q1386.27 1536.44 1381.63 1536.44 Q1376.98 1536.44 1374.31 1540.13 Q1371.66 1543.79 1371.66 1550.25 Q1371.66 1556.71 1374.31 1560.4 Q1376.98 1564.07 1381.63 1564.07 Q1386.27 1564.07 1388.91 1560.4 Q1391.59 1556.71 1391.59 1550.25 Z\" fill=\"#000000\" fill-rule=\"nonzero\" fill-opacity=\"1\" /><path clip-path=\"url(#clip520)\" d=\"M1407.38 1532.4 L1413.23 1532.4 L1413.23 1568.04 L1407.38 1568.04 L1407.38 1532.4 M1407.38 1518.52 L1413.23 1518.52 L1413.23 1525.93 L1407.38 1525.93 L1407.38 1518.52 Z\" fill=\"#000000\" fill-rule=\"nonzero\" fill-opacity=\"1\" /><path clip-path=\"url(#clip520)\" d=\"M1431.28 1522.27 L1431.28 1532.4 L1443.34 1532.4 L1443.34 1536.95 L1431.28 1536.95 L1431.28 1556.3 Q1431.28 1560.66 1432.46 1561.9 Q1433.67 1563.14 1437.33 1563.14 L1443.34 1563.14 L1443.34 1568.04 L1437.33 1568.04 Q1430.55 1568.04 1427.97 1565.53 Q1425.39 1562.98 1425.39 1556.3 L1425.39 1536.95 L1421.09 1536.95 L1421.09 1532.4 L1425.39 1532.4 L1425.39 1522.27 L1431.28 1522.27 Z\" fill=\"#000000\" fill-rule=\"nonzero\" fill-opacity=\"1\" /><path clip-path=\"url(#clip520)\" d=\"M1467.24 1550.12 Q1460.15 1550.12 1457.41 1551.75 Q1454.67 1553.37 1454.67 1557.29 Q1454.67 1560.4 1456.71 1562.25 Q1458.78 1564.07 1462.31 1564.07 Q1467.18 1564.07 1470.11 1560.63 Q1473.07 1557.16 1473.07 1551.43 L1473.07 1550.12 L1467.24 1550.12 M1478.93 1547.71 L1478.93 1568.04 L1473.07 1568.04 L1473.07 1562.63 Q1471.06 1565.88 1468.07 1567.44 Q1465.08 1568.97 1460.75 1568.97 Q1455.28 1568.97 1452.03 1565.91 Q1448.82 1562.82 1448.82 1557.67 Q1448.82 1551.65 1452.83 1548.6 Q1456.87 1545.54 1464.86 1545.54 L1473.07 1545.54 L1473.07 1544.97 Q1473.07 1540.93 1470.4 1538.73 Q1467.75 1536.5 1462.95 1536.5 Q1459.89 1536.5 1457 1537.23 Q1454.1 1537.97 1451.43 1539.43 L1451.43 1534.02 Q1454.64 1532.78 1457.66 1532.17 Q1460.69 1531.54 1463.55 1531.54 Q1471.29 1531.54 1475.11 1535.55 Q1478.93 1539.56 1478.93 1547.71 Z\" fill=\"#000000\" fill-rule=\"nonzero\" fill-opacity=\"1\" /><path clip-path=\"url(#clip520)\" d=\"M1490.99 1518.52 L1496.85 1518.52 L1496.85 1568.04 L1490.99 1568.04 L1490.99 1518.52 Z\" fill=\"#000000\" fill-rule=\"nonzero\" fill-opacity=\"1\" /><path clip-path=\"url(#clip520)\" d=\"M1510.6 1559.96 L1517.31 1559.96 L1517.31 1565.43 L1512.09 1575.62 L1507.99 1575.62 L1510.6 1565.43 L1510.6 1559.96 Z\" fill=\"#000000\" fill-rule=\"nonzero\" fill-opacity=\"1\" /><path clip-path=\"url(#clip520)\" d=\"M1550.32 1518.52 L1556.21 1518.52 L1556.21 1547.77 L1573.68 1532.4 L1581.16 1532.4 L1562.25 1549.07 L1581.95 1568.04 L1574.32 1568.04 L1556.21 1550.63 L1556.21 1568.04 L1550.32 1568.04 L1550.32 1518.52 Z\" fill=\"#000000\" fill-rule=\"nonzero\" fill-opacity=\"1\" /><polyline clip-path=\"url(#clip522)\" style=\"stroke:#000000; stroke-linecap:round; stroke-linejoin:round; stroke-width:2; stroke-opacity:0.1; fill:none\" points=\"272.297,1226.83 2352.76,1226.83 \"/>\n",
       "<polyline clip-path=\"url(#clip522)\" style=\"stroke:#000000; stroke-linecap:round; stroke-linejoin:round; stroke-width:2; stroke-opacity:0.1; fill:none\" points=\"272.297,989.776 2352.76,989.776 \"/>\n",
       "<polyline clip-path=\"url(#clip522)\" style=\"stroke:#000000; stroke-linecap:round; stroke-linejoin:round; stroke-width:2; stroke-opacity:0.1; fill:none\" points=\"272.297,752.72 2352.76,752.72 \"/>\n",
       "<polyline clip-path=\"url(#clip522)\" style=\"stroke:#000000; stroke-linecap:round; stroke-linejoin:round; stroke-width:2; stroke-opacity:0.1; fill:none\" points=\"272.297,515.663 2352.76,515.663 \"/>\n",
       "<polyline clip-path=\"url(#clip522)\" style=\"stroke:#000000; stroke-linecap:round; stroke-linejoin:round; stroke-width:2; stroke-opacity:0.1; fill:none\" points=\"272.297,278.607 2352.76,278.607 \"/>\n",
       "<polyline clip-path=\"url(#clip520)\" style=\"stroke:#000000; stroke-linecap:round; stroke-linejoin:round; stroke-width:4; stroke-opacity:1; fill:none\" points=\"272.297,1423.18 272.297,47.2441 \"/>\n",
       "<polyline clip-path=\"url(#clip520)\" style=\"stroke:#000000; stroke-linecap:round; stroke-linejoin:round; stroke-width:4; stroke-opacity:1; fill:none\" points=\"272.297,1226.83 291.194,1226.83 \"/>\n",
       "<polyline clip-path=\"url(#clip520)\" style=\"stroke:#000000; stroke-linecap:round; stroke-linejoin:round; stroke-width:4; stroke-opacity:1; fill:none\" points=\"272.297,989.776 291.194,989.776 \"/>\n",
       "<polyline clip-path=\"url(#clip520)\" style=\"stroke:#000000; stroke-linecap:round; stroke-linejoin:round; stroke-width:4; stroke-opacity:1; fill:none\" points=\"272.297,752.72 291.194,752.72 \"/>\n",
       "<polyline clip-path=\"url(#clip520)\" style=\"stroke:#000000; stroke-linecap:round; stroke-linejoin:round; stroke-width:4; stroke-opacity:1; fill:none\" points=\"272.297,515.663 291.194,515.663 \"/>\n",
       "<polyline clip-path=\"url(#clip520)\" style=\"stroke:#000000; stroke-linecap:round; stroke-linejoin:round; stroke-width:4; stroke-opacity:1; fill:none\" points=\"272.297,278.607 291.194,278.607 \"/>\n",
       "<path clip-path=\"url(#clip520)\" d=\"M115.256 1227.28 L144.931 1227.28 L144.931 1231.22 L115.256 1231.22 L115.256 1227.28 Z\" fill=\"#000000\" fill-rule=\"nonzero\" fill-opacity=\"1\" /><path clip-path=\"url(#clip520)\" d=\"M155.834 1240.18 L163.473 1240.18 L163.473 1213.81 L155.163 1215.48 L155.163 1211.22 L163.427 1209.55 L168.102 1209.55 L168.102 1240.18 L175.741 1240.18 L175.741 1244.11 L155.834 1244.11 L155.834 1240.18 Z\" fill=\"#000000\" fill-rule=\"nonzero\" fill-opacity=\"1\" /><path clip-path=\"url(#clip520)\" d=\"M189.213 1240.18 L205.533 1240.18 L205.533 1244.11 L183.588 1244.11 L183.588 1240.18 Q186.251 1237.42 190.834 1232.79 Q195.44 1228.14 196.621 1226.8 Q198.866 1224.27 199.746 1222.54 Q200.649 1220.78 200.649 1219.09 Q200.649 1216.33 198.704 1214.6 Q196.783 1212.86 193.681 1212.86 Q191.482 1212.86 189.028 1213.63 Q186.598 1214.39 183.82 1215.94 L183.82 1211.22 Q186.644 1210.08 189.098 1209.51 Q191.551 1208.93 193.588 1208.93 Q198.959 1208.93 202.153 1211.61 Q205.348 1214.3 205.348 1218.79 Q205.348 1220.92 204.537 1222.84 Q203.75 1224.74 201.644 1227.33 Q201.065 1228 197.963 1231.22 Q194.862 1234.41 189.213 1240.18 Z\" fill=\"#000000\" fill-rule=\"nonzero\" fill-opacity=\"1\" /><path clip-path=\"url(#clip520)\" d=\"M215.394 1209.55 L233.75 1209.55 L233.75 1213.49 L219.676 1213.49 L219.676 1221.96 Q220.695 1221.61 221.713 1221.45 Q222.732 1221.27 223.75 1221.27 Q229.537 1221.27 232.917 1224.44 Q236.297 1227.61 236.297 1233.02 Q236.297 1238.6 232.824 1241.7 Q229.352 1244.78 223.033 1244.78 Q220.857 1244.78 218.588 1244.41 Q216.343 1244.04 213.936 1243.3 L213.936 1238.6 Q216.019 1239.74 218.241 1240.29 Q220.463 1240.85 222.94 1240.85 Q226.945 1240.85 229.283 1238.74 Q231.621 1236.64 231.621 1233.02 Q231.621 1229.41 229.283 1227.31 Q226.945 1225.2 222.94 1225.2 Q221.065 1225.2 219.19 1225.62 Q217.338 1226.03 215.394 1226.91 L215.394 1209.55 Z\" fill=\"#000000\" fill-rule=\"nonzero\" fill-opacity=\"1\" /><path clip-path=\"url(#clip520)\" d=\"M114.26 990.227 L143.936 990.227 L143.936 994.162 L114.26 994.162 L114.26 990.227 Z\" fill=\"#000000\" fill-rule=\"nonzero\" fill-opacity=\"1\" /><path clip-path=\"url(#clip520)\" d=\"M154.839 1003.12 L162.477 1003.12 L162.477 976.755 L154.167 978.422 L154.167 974.163 L162.431 972.496 L167.107 972.496 L167.107 1003.12 L174.746 1003.12 L174.746 1007.06 L154.839 1007.06 L154.839 1003.12 Z\" fill=\"#000000\" fill-rule=\"nonzero\" fill-opacity=\"1\" /><path clip-path=\"url(#clip520)\" d=\"M194.19 975.575 Q190.579 975.575 188.75 979.139 Q186.945 982.681 186.945 989.811 Q186.945 996.917 188.75 1000.48 Q190.579 1004.02 194.19 1004.02 Q197.825 1004.02 199.63 1000.48 Q201.459 996.917 201.459 989.811 Q201.459 982.681 199.63 979.139 Q197.825 975.575 194.19 975.575 M194.19 971.871 Q200 971.871 203.056 976.477 Q206.135 981.061 206.135 989.811 Q206.135 998.537 203.056 1003.14 Q200 1007.73 194.19 1007.73 Q188.38 1007.73 185.301 1003.14 Q182.246 998.537 182.246 989.811 Q182.246 981.061 185.301 976.477 Q188.38 971.871 194.19 971.871 Z\" fill=\"#000000\" fill-rule=\"nonzero\" fill-opacity=\"1\" /><path clip-path=\"url(#clip520)\" d=\"M224.352 975.575 Q220.741 975.575 218.912 979.139 Q217.107 982.681 217.107 989.811 Q217.107 996.917 218.912 1000.48 Q220.741 1004.02 224.352 1004.02 Q227.986 1004.02 229.792 1000.48 Q231.621 996.917 231.621 989.811 Q231.621 982.681 229.792 979.139 Q227.986 975.575 224.352 975.575 M224.352 971.871 Q230.162 971.871 233.218 976.477 Q236.297 981.061 236.297 989.811 Q236.297 998.537 233.218 1003.14 Q230.162 1007.73 224.352 1007.73 Q218.542 1007.73 215.463 1003.14 Q212.408 998.537 212.408 989.811 Q212.408 981.061 215.463 976.477 Q218.542 971.871 224.352 971.871 Z\" fill=\"#000000\" fill-rule=\"nonzero\" fill-opacity=\"1\" /><path clip-path=\"url(#clip520)\" d=\"M145.417 753.171 L175.093 753.171 L175.093 757.106 L145.417 757.106 L145.417 753.171 Z\" fill=\"#000000\" fill-rule=\"nonzero\" fill-opacity=\"1\" /><path clip-path=\"url(#clip520)\" d=\"M184.005 735.44 L206.227 735.44 L206.227 737.43 L193.681 770 L188.797 770 L200.602 739.375 L184.005 739.375 L184.005 735.44 Z\" fill=\"#000000\" fill-rule=\"nonzero\" fill-opacity=\"1\" /><path clip-path=\"url(#clip520)\" d=\"M215.394 735.44 L233.75 735.44 L233.75 739.375 L219.676 739.375 L219.676 747.847 Q220.695 747.5 221.713 747.338 Q222.732 747.152 223.75 747.152 Q229.537 747.152 232.917 750.324 Q236.297 753.495 236.297 758.912 Q236.297 764.49 232.824 767.592 Q229.352 770.671 223.033 770.671 Q220.857 770.671 218.588 770.301 Q216.343 769.93 213.936 769.189 L213.936 764.49 Q216.019 765.625 218.241 766.18 Q220.463 766.736 222.94 766.736 Q226.945 766.736 229.283 764.629 Q231.621 762.523 231.621 758.912 Q231.621 755.301 229.283 753.194 Q226.945 751.088 222.94 751.088 Q221.065 751.088 219.19 751.504 Q217.338 751.921 215.394 752.801 L215.394 735.44 Z\" fill=\"#000000\" fill-rule=\"nonzero\" fill-opacity=\"1\" /><path clip-path=\"url(#clip520)\" d=\"M144.422 516.115 L174.098 516.115 L174.098 520.05 L144.422 520.05 L144.422 516.115 Z\" fill=\"#000000\" fill-rule=\"nonzero\" fill-opacity=\"1\" /><path clip-path=\"url(#clip520)\" d=\"M184.237 498.383 L202.593 498.383 L202.593 502.318 L188.519 502.318 L188.519 510.791 Q189.538 510.443 190.556 510.281 Q191.575 510.096 192.593 510.096 Q198.38 510.096 201.76 513.267 Q205.139 516.439 205.139 521.855 Q205.139 527.434 201.667 530.536 Q198.195 533.615 191.875 533.615 Q189.7 533.615 187.431 533.244 Q185.186 532.874 182.778 532.133 L182.778 527.434 Q184.862 528.568 187.084 529.124 Q189.306 529.679 191.783 529.679 Q195.787 529.679 198.125 527.573 Q200.463 525.466 200.463 521.855 Q200.463 518.244 198.125 516.138 Q195.787 514.031 191.783 514.031 Q189.908 514.031 188.033 514.448 Q186.181 514.865 184.237 515.744 L184.237 498.383 Z\" fill=\"#000000\" fill-rule=\"nonzero\" fill-opacity=\"1\" /><path clip-path=\"url(#clip520)\" d=\"M224.352 501.462 Q220.741 501.462 218.912 505.027 Q217.107 508.568 217.107 515.698 Q217.107 522.804 218.912 526.369 Q220.741 529.911 224.352 529.911 Q227.986 529.911 229.792 526.369 Q231.621 522.804 231.621 515.698 Q231.621 508.568 229.792 505.027 Q227.986 501.462 224.352 501.462 M224.352 497.758 Q230.162 497.758 233.218 502.365 Q236.297 506.948 236.297 515.698 Q236.297 524.425 233.218 529.031 Q230.162 533.615 224.352 533.615 Q218.542 533.615 215.463 529.031 Q212.408 524.425 212.408 515.698 Q212.408 506.948 215.463 502.365 Q218.542 497.758 224.352 497.758 Z\" fill=\"#000000\" fill-rule=\"nonzero\" fill-opacity=\"1\" /><path clip-path=\"url(#clip520)\" d=\"M145.417 279.058 L175.093 279.058 L175.093 282.993 L145.417 282.993 L145.417 279.058 Z\" fill=\"#000000\" fill-rule=\"nonzero\" fill-opacity=\"1\" /><path clip-path=\"url(#clip520)\" d=\"M189.213 291.952 L205.533 291.952 L205.533 295.887 L183.588 295.887 L183.588 291.952 Q186.251 289.197 190.834 284.568 Q195.44 279.915 196.621 278.572 Q198.866 276.049 199.746 274.313 Q200.649 272.554 200.649 270.864 Q200.649 268.109 198.704 266.373 Q196.783 264.637 193.681 264.637 Q191.482 264.637 189.028 265.401 Q186.598 266.165 183.82 267.716 L183.82 262.994 Q186.644 261.859 189.098 261.281 Q191.551 260.702 193.588 260.702 Q198.959 260.702 202.153 263.387 Q205.348 266.072 205.348 270.563 Q205.348 272.693 204.537 274.614 Q203.75 276.512 201.644 279.105 Q201.065 279.776 197.963 282.993 Q194.862 286.188 189.213 291.952 Z\" fill=\"#000000\" fill-rule=\"nonzero\" fill-opacity=\"1\" /><path clip-path=\"url(#clip520)\" d=\"M215.394 261.327 L233.75 261.327 L233.75 265.262 L219.676 265.262 L219.676 273.734 Q220.695 273.387 221.713 273.225 Q222.732 273.04 223.75 273.04 Q229.537 273.04 232.917 276.211 Q236.297 279.382 236.297 284.799 Q236.297 290.378 232.824 293.48 Q229.352 296.558 223.033 296.558 Q220.857 296.558 218.588 296.188 Q216.343 295.817 213.936 295.077 L213.936 290.378 Q216.019 291.512 218.241 292.067 Q220.463 292.623 222.94 292.623 Q226.945 292.623 229.283 290.517 Q231.621 288.41 231.621 284.799 Q231.621 281.188 229.283 279.081 Q226.945 276.975 222.94 276.975 Q221.065 276.975 219.19 277.392 Q217.338 277.808 215.394 278.688 L215.394 261.327 Z\" fill=\"#000000\" fill-rule=\"nonzero\" fill-opacity=\"1\" /><path clip-path=\"url(#clip520)\" d=\"M64.0042 988.854 L16.4842 1007 L16.4842 1000.28 L56.4926 985.225 L16.4842 970.138 L16.4842 963.454 L64.0042 981.565 L64.0042 988.854 Z\" fill=\"#000000\" fill-rule=\"nonzero\" fill-opacity=\"1\" /><path clip-path=\"url(#clip520)\" d=\"M46.0847 945.63 Q46.0847 952.728 47.7079 955.465 Q49.3312 958.203 53.2461 958.203 Q56.3653 958.203 58.2114 956.166 Q60.0256 954.097 60.0256 950.564 Q60.0256 945.694 56.5881 942.766 Q53.1188 939.806 47.3897 939.806 L46.0847 939.806 L46.0847 945.63 M43.6657 933.949 L64.0042 933.949 L64.0042 939.806 L58.5933 939.806 Q61.8398 941.811 63.3994 944.803 Q64.9272 947.795 64.9272 952.123 Q64.9272 957.598 61.8716 960.844 Q58.7843 964.059 53.6281 964.059 Q47.6125 964.059 44.5569 960.049 Q41.5014 956.007 41.5014 948.018 L41.5014 939.806 L40.9285 939.806 Q36.8862 939.806 34.6901 942.479 Q32.4621 945.121 32.4621 949.927 Q32.4621 952.983 33.1941 955.879 Q33.9262 958.776 35.3903 961.449 L29.9795 961.449 Q28.7381 958.235 28.1334 955.211 Q27.4968 952.187 27.4968 949.323 Q27.4968 941.588 31.5072 937.769 Q35.5176 933.949 43.6657 933.949 Z\" fill=\"#000000\" fill-rule=\"nonzero\" fill-opacity=\"1\" /><path clip-path=\"url(#clip520)\" d=\"M14.479 921.886 L14.479 916.03 L64.0042 916.03 L64.0042 921.886 L14.479 921.886 Z\" fill=\"#000000\" fill-rule=\"nonzero\" fill-opacity=\"1\" /><path clip-path=\"url(#clip520)\" d=\"M49.9359 904.381 L28.3562 904.381 L28.3562 898.524 L49.7131 898.524 Q54.7739 898.524 57.3202 896.551 Q59.8346 894.577 59.8346 890.631 Q59.8346 885.888 56.8109 883.151 Q53.7872 880.382 48.5673 880.382 L28.3562 880.382 L28.3562 874.525 L64.0042 874.525 L64.0042 880.382 L58.5296 880.382 Q61.7762 882.514 63.3676 885.347 Q64.9272 888.148 64.9272 891.872 Q64.9272 898.015 61.1078 901.198 Q57.2883 904.381 49.9359 904.381 M27.4968 889.644 L27.4968 889.644 Z\" fill=\"#000000\" fill-rule=\"nonzero\" fill-opacity=\"1\" /><path clip-path=\"url(#clip520)\" d=\"M44.7161 831.971 L47.5806 831.971 L47.5806 858.898 Q53.6281 858.516 56.8109 855.269 Q59.9619 851.991 59.9619 846.166 Q59.9619 842.792 59.1344 839.641 Q58.3069 836.459 56.6518 833.339 L62.1899 833.339 Q63.5267 836.49 64.227 839.801 Q64.9272 843.111 64.9272 846.516 Q64.9272 855.046 59.9619 860.043 Q54.9967 865.009 46.5303 865.009 Q37.7774 865.009 32.6531 860.298 Q27.4968 855.556 27.4968 847.535 Q27.4968 840.342 32.1438 836.172 Q36.7589 831.971 44.7161 831.971 M42.9973 837.827 Q38.1912 837.891 35.3266 840.533 Q32.4621 843.143 32.4621 847.471 Q32.4621 852.373 35.2312 855.333 Q38.0002 858.261 43.0292 858.707 L42.9973 837.827 Z\" fill=\"#000000\" fill-rule=\"nonzero\" fill-opacity=\"1\" /><path clip-path=\"url(#clip520)\" d=\"M14.479 783.591 L19.3487 783.591 L19.3487 789.193 Q19.3487 792.344 20.6219 793.585 Q21.895 794.795 25.2052 794.795 L28.3562 794.795 L28.3562 785.151 L32.9077 785.151 L32.9077 794.795 L64.0042 794.795 L64.0042 800.683 L32.9077 800.683 L32.9077 806.285 L28.3562 806.285 L28.3562 800.683 L25.8736 800.683 Q19.9216 800.683 17.2162 797.914 Q14.479 795.145 14.479 789.13 L14.479 783.591 Z\" fill=\"#000000\" fill-rule=\"nonzero\" fill-opacity=\"1\" /><path clip-path=\"url(#clip520)\" d=\"M49.9359 779.294 L28.3562 779.294 L28.3562 773.438 L49.7131 773.438 Q54.7739 773.438 57.3202 771.465 Q59.8346 769.491 59.8346 765.545 Q59.8346 760.802 56.8109 758.065 Q53.7872 755.296 48.5673 755.296 L28.3562 755.296 L28.3562 749.439 L64.0042 749.439 L64.0042 755.296 L58.5296 755.296 Q61.7762 757.428 63.3676 760.261 Q64.9272 763.062 64.9272 766.786 Q64.9272 772.929 61.1078 776.112 Q57.2883 779.294 49.9359 779.294 M27.4968 764.558 L27.4968 764.558 Z\" fill=\"#000000\" fill-rule=\"nonzero\" fill-opacity=\"1\" /><path clip-path=\"url(#clip520)\" d=\"M42.4881 707.744 L64.0042 707.744 L64.0042 713.6 L42.679 713.6 Q37.6183 713.6 35.1038 715.574 Q32.5894 717.547 32.5894 721.494 Q32.5894 726.236 35.6131 728.974 Q38.6368 731.711 43.8567 731.711 L64.0042 731.711 L64.0042 737.599 L28.3562 737.599 L28.3562 731.711 L33.8944 731.711 Q30.6797 729.61 29.0883 726.777 Q27.4968 723.913 27.4968 720.189 Q27.4968 714.046 31.3163 710.895 Q35.1038 707.744 42.4881 707.744 Z\" fill=\"#000000\" fill-rule=\"nonzero\" fill-opacity=\"1\" /><path clip-path=\"url(#clip520)\" d=\"M29.7248 670.409 L35.1993 670.409 Q33.8307 672.892 33.1623 675.406 Q32.4621 677.889 32.4621 680.435 Q32.4621 686.132 36.0905 689.283 Q39.6872 692.434 46.212 692.434 Q52.7369 692.434 56.3653 689.283 Q59.9619 686.132 59.9619 680.435 Q59.9619 677.889 59.2935 675.406 Q58.5933 672.892 57.2247 670.409 L62.6355 670.409 Q63.7814 672.86 64.3543 675.502 Q64.9272 678.112 64.9272 681.072 Q64.9272 689.124 59.8664 693.867 Q54.8057 698.609 46.212 698.609 Q37.491 698.609 32.4939 693.835 Q27.4968 689.029 27.4968 680.69 Q27.4968 677.984 28.0697 675.406 Q28.6108 672.828 29.7248 670.409 Z\" fill=\"#000000\" fill-rule=\"nonzero\" fill-opacity=\"1\" /><path clip-path=\"url(#clip520)\" d=\"M18.2347 654.431 L28.3562 654.431 L28.3562 642.368 L32.9077 642.368 L32.9077 654.431 L52.2594 654.431 Q56.6199 654.431 57.8613 653.253 Q59.1026 652.044 59.1026 648.384 L59.1026 642.368 L64.0042 642.368 L64.0042 648.384 Q64.0042 655.163 61.4897 657.741 Q58.9434 660.319 52.2594 660.319 L32.9077 660.319 L32.9077 664.616 L28.3562 664.616 L28.3562 660.319 L18.2347 660.319 L18.2347 654.431 Z\" fill=\"#000000\" fill-rule=\"nonzero\" fill-opacity=\"1\" /><path clip-path=\"url(#clip520)\" d=\"M28.3562 634.666 L28.3562 628.809 L64.0042 628.809 L64.0042 634.666 L28.3562 634.666 M14.479 634.666 L14.479 628.809 L21.895 628.809 L21.895 634.666 L14.479 634.666 Z\" fill=\"#000000\" fill-rule=\"nonzero\" fill-opacity=\"1\" /><path clip-path=\"url(#clip520)\" d=\"M32.4621 602.742 Q32.4621 607.452 36.1542 610.189 Q39.8145 612.927 46.212 612.927 Q52.6095 612.927 56.3017 610.221 Q59.9619 607.484 59.9619 602.742 Q59.9619 598.063 56.2698 595.326 Q52.5777 592.588 46.212 592.588 Q39.8781 592.588 36.186 595.326 Q32.4621 598.063 32.4621 602.742 M27.4968 602.742 Q27.4968 595.103 32.4621 590.742 Q37.4273 586.382 46.212 586.382 Q54.9649 586.382 59.9619 590.742 Q64.9272 595.103 64.9272 602.742 Q64.9272 610.412 59.9619 614.773 Q54.9649 619.101 46.212 619.101 Q37.4273 619.101 32.4621 614.773 Q27.4968 610.412 27.4968 602.742 Z\" fill=\"#000000\" fill-rule=\"nonzero\" fill-opacity=\"1\" /><path clip-path=\"url(#clip520)\" d=\"M42.4881 547.042 L64.0042 547.042 L64.0042 552.898 L42.679 552.898 Q37.6183 552.898 35.1038 554.871 Q32.5894 556.845 32.5894 560.792 Q32.5894 565.534 35.6131 568.271 Q38.6368 571.009 43.8567 571.009 L64.0042 571.009 L64.0042 576.897 L28.3562 576.897 L28.3562 571.009 L33.8944 571.009 Q30.6797 568.908 29.0883 566.075 Q27.4968 563.211 27.4968 559.487 Q27.4968 553.344 31.3163 550.193 Q35.1038 547.042 42.4881 547.042 Z\" fill=\"#000000\" fill-rule=\"nonzero\" fill-opacity=\"1\" /><path clip-path=\"url(#clip520)\" d=\"M55.9197 533.865 L55.9197 527.149 L61.3942 527.149 L71.5793 532.369 L71.5793 536.475 L61.3942 533.865 L55.9197 533.865 Z\" fill=\"#000000\" fill-rule=\"nonzero\" fill-opacity=\"1\" /><path clip-path=\"url(#clip520)\" d=\"M28.3562 498.121 L28.3562 491.915 L58.275 480.775 L28.3562 469.635 L28.3562 463.428 L64.0042 476.796 L64.0042 484.753 L28.3562 498.121 Z\" fill=\"#000000\" fill-rule=\"nonzero\" fill-opacity=\"1\" /><polyline clip-path=\"url(#clip522)\" style=\"stroke:#6b9e32; stroke-linecap:round; stroke-linejoin:round; stroke-width:8; stroke-opacity:1; fill:none\" points=\"331.177,1384.24 351.003,174.132 370.828,147.96 390.653,136.133 410.478,128.738 430.304,123.492 450.129,119.647 469.954,116.638 489.779,114.205 509.605,112.159 529.43,110.422 549.255,108.896 569.08,107.559 588.905,106.383 608.731,105.337 628.556,104.396 648.381,103.54 668.206,102.753 688.032,102.019 707.857,101.324 727.682,100.657 747.507,100.079 767.332,99.5581 787.158,99.0538 806.983,98.5706 826.808,98.1115 846.633,97.6793 866.459,97.2757 886.284,96.8837 906.109,96.5152 925.934,96.1605 945.76,95.8301 965.585,95.505 985.41,95.192 1005.24,94.9034 1025.06,94.622 1044.89,94.3434 1064.71,94.0755 1084.54,93.8312 1104.36,93.5871 1124.19,93.3512 1144.01,93.1195 1163.84,92.8992 1183.66,92.6807 1203.49,92.4822 1223.31,92.2855 1243.14,92.0882 1262.96,91.899 1282.79,91.715 1302.61,91.5351 1322.44,91.3613 1342.26,91.1902 1362.09,91.0248 1381.91,90.8715 1401.74,90.7199 1421.56,90.5678 1441.39,90.4163 1461.22,90.2732 1481.04,90.1304 1500.87,89.9914 1520.69,89.8572 1540.52,89.7233 1560.34,89.5939 1580.17,89.4681 1599.99,89.3418 1619.82,89.2204 1639.64,89.1026 1659.47,88.9914 1679.29,88.881 1699.12,88.7706 1718.94,88.6608 1738.77,88.5524 1758.59,88.4456 1778.42,88.3441 1798.24,88.2435 1818.07,88.1416 1837.89,88.0439 1857.72,87.9474 1877.55,87.8534 1897.37,87.7605 1917.2,87.6677 1937.02,87.5782 1956.85,87.49 1976.67,87.4031 1996.5,87.3166 2016.32,87.2314 2036.15,87.1486 2055.97,87.0674 2075.8,86.9873 2095.62,86.9098 2115.45,86.835 2135.27,86.7609 2155.1,86.6864 2174.92,86.6126 2194.75,86.5399 2214.57,86.4665 2234.4,86.3946 2254.22,86.3242 2274.05,86.2533 2293.87,86.1857 \"/>\n",
       "</svg>\n"
      ],
      "text/html": [
       "<?xml version=\"1.0\" encoding=\"utf-8\"?>\n",
       "<svg xmlns=\"http://www.w3.org/2000/svg\" xmlns:xlink=\"http://www.w3.org/1999/xlink\" width=\"600\" height=\"400\" viewBox=\"0 0 2400 1600\">\n",
       "<defs>\n",
       "  <clipPath id=\"clip570\">\n",
       "    <rect x=\"0\" y=\"0\" width=\"2400\" height=\"1600\"/>\n",
       "  </clipPath>\n",
       "</defs>\n",
       "<path clip-path=\"url(#clip570)\" d=\"M0 1600 L2400 1600 L2400 8.88178e-14 L0 8.88178e-14  Z\" fill=\"#ffffff\" fill-rule=\"evenodd\" fill-opacity=\"1\"/>\n",
       "<defs>\n",
       "  <clipPath id=\"clip571\">\n",
       "    <rect x=\"480\" y=\"0\" width=\"1681\" height=\"1600\"/>\n",
       "  </clipPath>\n",
       "</defs>\n",
       "<path clip-path=\"url(#clip570)\" d=\"M272.297 1423.18 L2352.76 1423.18 L2352.76 47.2441 L272.297 47.2441  Z\" fill=\"#ffffff\" fill-rule=\"evenodd\" fill-opacity=\"1\"/>\n",
       "<defs>\n",
       "  <clipPath id=\"clip572\">\n",
       "    <rect x=\"272\" y=\"47\" width=\"2081\" height=\"1377\"/>\n",
       "  </clipPath>\n",
       "</defs>\n",
       "<polyline clip-path=\"url(#clip572)\" style=\"stroke:#000000; stroke-linecap:round; stroke-linejoin:round; stroke-width:2; stroke-opacity:0.1; fill:none\" points=\"329.806,1423.18 329.806,47.2441 \"/>\n",
       "<polyline clip-path=\"url(#clip572)\" style=\"stroke:#000000; stroke-linecap:round; stroke-linejoin:round; stroke-width:2; stroke-opacity:0.1; fill:none\" points=\"741.258,1423.18 741.258,47.2441 \"/>\n",
       "<polyline clip-path=\"url(#clip572)\" style=\"stroke:#000000; stroke-linecap:round; stroke-linejoin:round; stroke-width:2; stroke-opacity:0.1; fill:none\" points=\"1152.71,1423.18 1152.71,47.2441 \"/>\n",
       "<polyline clip-path=\"url(#clip572)\" style=\"stroke:#000000; stroke-linecap:round; stroke-linejoin:round; stroke-width:2; stroke-opacity:0.1; fill:none\" points=\"1564.16,1423.18 1564.16,47.2441 \"/>\n",
       "<polyline clip-path=\"url(#clip572)\" style=\"stroke:#000000; stroke-linecap:round; stroke-linejoin:round; stroke-width:2; stroke-opacity:0.1; fill:none\" points=\"1975.62,1423.18 1975.62,47.2441 \"/>\n",
       "<polyline clip-path=\"url(#clip570)\" style=\"stroke:#000000; stroke-linecap:round; stroke-linejoin:round; stroke-width:4; stroke-opacity:1; fill:none\" points=\"272.297,1423.18 2352.76,1423.18 \"/>\n",
       "<polyline clip-path=\"url(#clip570)\" style=\"stroke:#000000; stroke-linecap:round; stroke-linejoin:round; stroke-width:4; stroke-opacity:1; fill:none\" points=\"329.806,1423.18 329.806,1404.28 \"/>\n",
       "<polyline clip-path=\"url(#clip570)\" style=\"stroke:#000000; stroke-linecap:round; stroke-linejoin:round; stroke-width:4; stroke-opacity:1; fill:none\" points=\"741.258,1423.18 741.258,1404.28 \"/>\n",
       "<polyline clip-path=\"url(#clip570)\" style=\"stroke:#000000; stroke-linecap:round; stroke-linejoin:round; stroke-width:4; stroke-opacity:1; fill:none\" points=\"1152.71,1423.18 1152.71,1404.28 \"/>\n",
       "<polyline clip-path=\"url(#clip570)\" style=\"stroke:#000000; stroke-linecap:round; stroke-linejoin:round; stroke-width:4; stroke-opacity:1; fill:none\" points=\"1564.16,1423.18 1564.16,1404.28 \"/>\n",
       "<polyline clip-path=\"url(#clip570)\" style=\"stroke:#000000; stroke-linecap:round; stroke-linejoin:round; stroke-width:4; stroke-opacity:1; fill:none\" points=\"1975.62,1423.18 1975.62,1404.28 \"/>\n",
       "<path clip-path=\"url(#clip570)\" d=\"M329.806 1454.1 Q326.195 1454.1 324.366 1457.66 Q322.561 1461.2 322.561 1468.33 Q322.561 1475.44 324.366 1479.01 Q326.195 1482.55 329.806 1482.55 Q333.44 1482.55 335.246 1479.01 Q337.074 1475.44 337.074 1468.33 Q337.074 1461.2 335.246 1457.66 Q333.44 1454.1 329.806 1454.1 M329.806 1450.39 Q335.616 1450.39 338.672 1455 Q341.75 1459.58 341.75 1468.33 Q341.75 1477.06 338.672 1481.67 Q335.616 1486.25 329.806 1486.25 Q323.996 1486.25 320.917 1481.67 Q317.862 1477.06 317.862 1468.33 Q317.862 1459.58 320.917 1455 Q323.996 1450.39 329.806 1450.39 Z\" fill=\"#000000\" fill-rule=\"nonzero\" fill-opacity=\"1\" /><path clip-path=\"url(#clip570)\" d=\"M745.506 1466.95 Q748.863 1467.66 750.738 1469.93 Q752.636 1472.2 752.636 1475.53 Q752.636 1480.65 749.117 1483.45 Q745.599 1486.25 739.117 1486.25 Q736.941 1486.25 734.627 1485.81 Q732.335 1485.39 729.881 1484.54 L729.881 1480.02 Q731.826 1481.16 734.14 1481.74 Q736.455 1482.32 738.978 1482.32 Q743.377 1482.32 745.668 1480.58 Q747.983 1478.84 747.983 1475.53 Q747.983 1472.48 745.83 1470.77 Q743.701 1469.03 739.881 1469.03 L735.853 1469.03 L735.853 1465.19 L740.066 1465.19 Q743.515 1465.19 745.344 1463.82 Q747.173 1462.43 747.173 1459.84 Q747.173 1457.18 745.275 1455.77 Q743.4 1454.33 739.881 1454.33 Q737.96 1454.33 735.761 1454.75 Q733.562 1455.16 730.923 1456.04 L730.923 1451.88 Q733.585 1451.14 735.9 1450.77 Q738.238 1450.39 740.298 1450.39 Q745.622 1450.39 748.724 1452.83 Q751.826 1455.23 751.826 1459.35 Q751.826 1462.22 750.182 1464.21 Q748.539 1466.18 745.506 1466.95 Z\" fill=\"#000000\" fill-rule=\"nonzero\" fill-opacity=\"1\" /><path clip-path=\"url(#clip570)\" d=\"M1153.12 1466.44 Q1149.97 1466.44 1148.12 1468.59 Q1146.29 1470.74 1146.29 1474.49 Q1146.29 1478.22 1148.12 1480.39 Q1149.97 1482.55 1153.12 1482.55 Q1156.26 1482.55 1158.09 1480.39 Q1159.94 1478.22 1159.94 1474.49 Q1159.94 1470.74 1158.09 1468.59 Q1156.26 1466.44 1153.12 1466.44 M1162.4 1451.78 L1162.4 1456.04 Q1160.64 1455.21 1158.83 1454.77 Q1157.05 1454.33 1155.29 1454.33 Q1150.66 1454.33 1148.21 1457.45 Q1145.78 1460.58 1145.43 1466.9 Q1146.8 1464.89 1148.86 1463.82 Q1150.92 1462.73 1153.39 1462.73 Q1158.6 1462.73 1161.61 1465.9 Q1164.64 1469.05 1164.64 1474.49 Q1164.64 1479.82 1161.5 1483.03 Q1158.35 1486.25 1153.12 1486.25 Q1147.12 1486.25 1143.95 1481.67 Q1140.78 1477.06 1140.78 1468.33 Q1140.78 1460.14 1144.67 1455.28 Q1148.56 1450.39 1155.11 1450.39 Q1156.87 1450.39 1158.65 1450.74 Q1160.45 1451.09 1162.4 1451.78 Z\" fill=\"#000000\" fill-rule=\"nonzero\" fill-opacity=\"1\" /><path clip-path=\"url(#clip570)\" d=\"M1554.46 1484.86 L1554.46 1480.6 Q1556.22 1481.44 1558.03 1481.88 Q1559.83 1482.32 1561.57 1482.32 Q1566.2 1482.32 1568.63 1479.21 Q1571.08 1476.09 1571.43 1469.75 Q1570.09 1471.74 1568.03 1472.8 Q1565.97 1473.87 1563.47 1473.87 Q1558.28 1473.87 1555.25 1470.74 Q1552.24 1467.59 1552.24 1462.15 Q1552.24 1456.83 1555.39 1453.61 Q1558.54 1450.39 1563.77 1450.39 Q1569.77 1450.39 1572.91 1455 Q1576.08 1459.58 1576.08 1468.33 Q1576.08 1476.51 1572.2 1481.39 Q1568.33 1486.25 1561.78 1486.25 Q1560.02 1486.25 1558.21 1485.9 Q1556.41 1485.56 1554.46 1484.86 M1563.77 1470.21 Q1566.92 1470.21 1568.75 1468.06 Q1570.6 1465.9 1570.6 1462.15 Q1570.6 1458.43 1568.75 1456.27 Q1566.92 1454.1 1563.77 1454.1 Q1560.62 1454.1 1558.77 1456.27 Q1556.94 1458.43 1556.94 1462.15 Q1556.94 1465.9 1558.77 1468.06 Q1560.62 1470.21 1563.77 1470.21 Z\" fill=\"#000000\" fill-rule=\"nonzero\" fill-opacity=\"1\" /><path clip-path=\"url(#clip570)\" d=\"M1951.1 1481.64 L1958.74 1481.64 L1958.74 1455.28 L1950.43 1456.95 L1950.43 1452.69 L1958.69 1451.02 L1963.37 1451.02 L1963.37 1481.64 L1971.01 1481.64 L1971.01 1485.58 L1951.1 1485.58 L1951.1 1481.64 Z\" fill=\"#000000\" fill-rule=\"nonzero\" fill-opacity=\"1\" /><path clip-path=\"url(#clip570)\" d=\"M1984.48 1481.64 L2000.8 1481.64 L2000.8 1485.58 L1978.86 1485.58 L1978.86 1481.64 Q1981.52 1478.89 1986.1 1474.26 Q1990.71 1469.61 1991.89 1468.27 Q1994.13 1465.74 1995.01 1464.01 Q1995.92 1462.25 1995.92 1460.56 Q1995.92 1457.8 1993.97 1456.07 Q1992.05 1454.33 1988.95 1454.33 Q1986.75 1454.33 1984.3 1455.09 Q1981.87 1455.86 1979.09 1457.41 L1979.09 1452.69 Q1981.91 1451.55 1984.37 1450.97 Q1986.82 1450.39 1988.86 1450.39 Q1994.23 1450.39 1997.42 1453.08 Q2000.62 1455.77 2000.62 1460.26 Q2000.62 1462.39 1999.81 1464.31 Q1999.02 1466.2 1996.91 1468.8 Q1996.33 1469.47 1993.23 1472.69 Q1990.13 1475.88 1984.48 1481.64 Z\" fill=\"#000000\" fill-rule=\"nonzero\" fill-opacity=\"1\" /><path clip-path=\"url(#clip570)\" d=\"M1060.51 1524.18 L1060.51 1530.96 Q1057.26 1527.94 1053.57 1526.44 Q1049.91 1524.95 1045.77 1524.95 Q1037.62 1524.95 1033.29 1529.95 Q1028.97 1534.91 1028.97 1544.33 Q1028.97 1553.72 1033.29 1558.72 Q1037.62 1563.68 1045.77 1563.68 Q1049.91 1563.68 1053.57 1562.19 Q1057.26 1560.69 1060.51 1557.67 L1060.51 1564.38 Q1057.13 1566.68 1053.35 1567.82 Q1049.59 1568.97 1045.39 1568.97 Q1034.6 1568.97 1028.39 1562.38 Q1022.19 1555.76 1022.19 1544.33 Q1022.19 1532.87 1028.39 1526.28 Q1034.6 1519.66 1045.39 1519.66 Q1049.65 1519.66 1053.41 1520.81 Q1057.2 1521.92 1060.51 1524.18 Z\" fill=\"#000000\" fill-rule=\"nonzero\" fill-opacity=\"1\" /><path clip-path=\"url(#clip570)\" d=\"M1069.58 1553.98 L1069.58 1532.4 L1075.44 1532.4 L1075.44 1553.75 Q1075.44 1558.81 1077.41 1561.36 Q1079.38 1563.87 1083.33 1563.87 Q1088.07 1563.87 1090.81 1560.85 Q1093.58 1557.83 1093.58 1552.61 L1093.58 1532.4 L1099.43 1532.4 L1099.43 1568.04 L1093.58 1568.04 L1093.58 1562.57 Q1091.45 1565.82 1088.61 1567.41 Q1085.81 1568.97 1082.09 1568.97 Q1075.94 1568.97 1072.76 1565.15 Q1069.58 1561.33 1069.58 1553.98 M1084.32 1531.54 L1084.32 1531.54 Z\" fill=\"#000000\" fill-rule=\"nonzero\" fill-opacity=\"1\" /><path clip-path=\"url(#clip570)\" d=\"M1132.15 1537.87 Q1131.17 1537.3 1129.99 1537.04 Q1128.84 1536.76 1127.44 1536.76 Q1122.48 1536.76 1119.8 1540 Q1117.16 1543.22 1117.16 1549.27 L1117.16 1568.04 L1111.27 1568.04 L1111.27 1532.4 L1117.16 1532.4 L1117.16 1537.93 Q1119.01 1534.69 1121.97 1533.13 Q1124.93 1531.54 1129.16 1531.54 Q1129.77 1531.54 1130.5 1531.63 Q1131.23 1531.7 1132.12 1531.85 L1132.15 1537.87 Z\" fill=\"#000000\" fill-rule=\"nonzero\" fill-opacity=\"1\" /><path clip-path=\"url(#clip570)\" d=\"M1157.81 1537.87 Q1156.82 1537.3 1155.64 1537.04 Q1154.5 1536.76 1153.1 1536.76 Q1148.13 1536.76 1145.46 1540 Q1142.82 1543.22 1142.82 1549.27 L1142.82 1568.04 L1136.93 1568.04 L1136.93 1532.4 L1142.82 1532.4 L1142.82 1537.93 Q1144.66 1534.69 1147.62 1533.13 Q1150.58 1531.54 1154.82 1531.54 Q1155.42 1531.54 1156.15 1531.63 Q1156.88 1531.7 1157.78 1531.85 L1157.81 1537.87 Z\" fill=\"#000000\" fill-rule=\"nonzero\" fill-opacity=\"1\" /><path clip-path=\"url(#clip570)\" d=\"M1193.01 1548.76 L1193.01 1551.62 L1166.08 1551.62 Q1166.47 1557.67 1169.71 1560.85 Q1172.99 1564 1178.81 1564 Q1182.19 1564 1185.34 1563.17 Q1188.52 1562.35 1191.64 1560.69 L1191.64 1566.23 Q1188.49 1567.57 1185.18 1568.27 Q1181.87 1568.97 1178.46 1568.97 Q1169.93 1568.97 1164.94 1564 Q1159.97 1559.04 1159.97 1550.57 Q1159.97 1541.82 1164.68 1536.69 Q1169.43 1531.54 1177.45 1531.54 Q1184.64 1531.54 1188.81 1536.18 Q1193.01 1540.8 1193.01 1548.76 M1187.15 1547.04 Q1187.09 1542.23 1184.45 1539.37 Q1181.84 1536.5 1177.51 1536.5 Q1172.61 1536.5 1169.65 1539.27 Q1166.72 1542.04 1166.27 1547.07 L1187.15 1547.04 Z\" fill=\"#000000\" fill-rule=\"nonzero\" fill-opacity=\"1\" /><path clip-path=\"url(#clip570)\" d=\"M1232.25 1546.53 L1232.25 1568.04 L1226.4 1568.04 L1226.4 1546.72 Q1226.4 1541.66 1224.42 1539.14 Q1222.45 1536.63 1218.5 1536.63 Q1213.76 1536.63 1211.03 1539.65 Q1208.29 1542.68 1208.29 1547.9 L1208.29 1568.04 L1202.4 1568.04 L1202.4 1532.4 L1208.29 1532.4 L1208.29 1537.93 Q1210.39 1534.72 1213.22 1533.13 Q1216.09 1531.54 1219.81 1531.54 Q1225.95 1531.54 1229.1 1535.36 Q1232.25 1539.14 1232.25 1546.53 Z\" fill=\"#000000\" fill-rule=\"nonzero\" fill-opacity=\"1\" /><path clip-path=\"url(#clip570)\" d=\"M1249.73 1522.27 L1249.73 1532.4 L1261.79 1532.4 L1261.79 1536.95 L1249.73 1536.95 L1249.73 1556.3 Q1249.73 1560.66 1250.91 1561.9 Q1252.12 1563.14 1255.78 1563.14 L1261.79 1563.14 L1261.79 1568.04 L1255.78 1568.04 Q1249 1568.04 1246.42 1565.53 Q1243.84 1562.98 1243.84 1556.3 L1243.84 1536.95 L1239.54 1536.95 L1239.54 1532.4 L1243.84 1532.4 L1243.84 1522.27 L1249.73 1522.27 Z\" fill=\"#000000\" fill-rule=\"nonzero\" fill-opacity=\"1\" /><path clip-path=\"url(#clip570)\" d=\"M1315.87 1533.76 L1315.87 1539.24 Q1313.39 1537.87 1310.87 1537.2 Q1308.39 1536.5 1305.84 1536.5 Q1300.14 1536.5 1296.99 1540.13 Q1293.84 1543.73 1293.84 1550.25 Q1293.84 1556.78 1296.99 1560.4 Q1300.14 1564 1305.84 1564 Q1308.39 1564 1310.87 1563.33 Q1313.39 1562.63 1315.87 1561.26 L1315.87 1566.68 Q1313.42 1567.82 1310.78 1568.39 Q1308.17 1568.97 1305.21 1568.97 Q1297.15 1568.97 1292.41 1563.91 Q1287.67 1558.85 1287.67 1550.25 Q1287.67 1541.53 1292.44 1536.53 Q1297.25 1531.54 1305.59 1531.54 Q1308.29 1531.54 1310.87 1532.11 Q1313.45 1532.65 1315.87 1533.76 Z\" fill=\"#000000\" fill-rule=\"nonzero\" fill-opacity=\"1\" /><path clip-path=\"url(#clip570)\" d=\"M1342.25 1550.12 Q1335.16 1550.12 1332.42 1551.75 Q1329.68 1553.37 1329.68 1557.29 Q1329.68 1560.4 1331.72 1562.25 Q1333.79 1564.07 1337.32 1564.07 Q1342.19 1564.07 1345.12 1560.63 Q1348.08 1557.16 1348.08 1551.43 L1348.08 1550.12 L1342.25 1550.12 M1353.94 1547.71 L1353.94 1568.04 L1348.08 1568.04 L1348.08 1562.63 Q1346.07 1565.88 1343.08 1567.44 Q1340.09 1568.97 1335.76 1568.97 Q1330.29 1568.97 1327.04 1565.91 Q1323.83 1562.82 1323.83 1557.67 Q1323.83 1551.65 1327.84 1548.6 Q1331.88 1545.54 1339.87 1545.54 L1348.08 1545.54 L1348.08 1544.97 Q1348.08 1540.93 1345.41 1538.73 Q1342.76 1536.5 1337.96 1536.5 Q1334.9 1536.5 1332.01 1537.23 Q1329.11 1537.97 1326.44 1539.43 L1326.44 1534.02 Q1329.65 1532.78 1332.67 1532.17 Q1335.7 1531.54 1338.56 1531.54 Q1346.3 1531.54 1350.12 1535.55 Q1353.94 1539.56 1353.94 1547.71 Z\" fill=\"#000000\" fill-rule=\"nonzero\" fill-opacity=\"1\" /><path clip-path=\"url(#clip570)\" d=\"M1371.66 1562.7 L1371.66 1581.6 L1365.78 1581.6 L1365.78 1532.4 L1371.66 1532.4 L1371.66 1537.81 Q1373.51 1534.62 1376.31 1533.1 Q1379.14 1531.54 1383.06 1531.54 Q1389.55 1531.54 1393.59 1536.69 Q1397.67 1541.85 1397.67 1550.25 Q1397.67 1558.65 1393.59 1563.81 Q1389.55 1568.97 1383.06 1568.97 Q1379.14 1568.97 1376.31 1567.44 Q1373.51 1565.88 1371.66 1562.7 M1391.59 1550.25 Q1391.59 1543.79 1388.91 1540.13 Q1386.27 1536.44 1381.63 1536.44 Q1376.98 1536.44 1374.31 1540.13 Q1371.66 1543.79 1371.66 1550.25 Q1371.66 1556.71 1374.31 1560.4 Q1376.98 1564.07 1381.63 1564.07 Q1386.27 1564.07 1388.91 1560.4 Q1391.59 1556.71 1391.59 1550.25 Z\" fill=\"#000000\" fill-rule=\"nonzero\" fill-opacity=\"1\" /><path clip-path=\"url(#clip570)\" d=\"M1407.38 1532.4 L1413.23 1532.4 L1413.23 1568.04 L1407.38 1568.04 L1407.38 1532.4 M1407.38 1518.52 L1413.23 1518.52 L1413.23 1525.93 L1407.38 1525.93 L1407.38 1518.52 Z\" fill=\"#000000\" fill-rule=\"nonzero\" fill-opacity=\"1\" /><path clip-path=\"url(#clip570)\" d=\"M1431.28 1522.27 L1431.28 1532.4 L1443.34 1532.4 L1443.34 1536.95 L1431.28 1536.95 L1431.28 1556.3 Q1431.28 1560.66 1432.46 1561.9 Q1433.67 1563.14 1437.33 1563.14 L1443.34 1563.14 L1443.34 1568.04 L1437.33 1568.04 Q1430.55 1568.04 1427.97 1565.53 Q1425.39 1562.98 1425.39 1556.3 L1425.39 1536.95 L1421.09 1536.95 L1421.09 1532.4 L1425.39 1532.4 L1425.39 1522.27 L1431.28 1522.27 Z\" fill=\"#000000\" fill-rule=\"nonzero\" fill-opacity=\"1\" /><path clip-path=\"url(#clip570)\" d=\"M1467.24 1550.12 Q1460.15 1550.12 1457.41 1551.75 Q1454.67 1553.37 1454.67 1557.29 Q1454.67 1560.4 1456.71 1562.25 Q1458.78 1564.07 1462.31 1564.07 Q1467.18 1564.07 1470.11 1560.63 Q1473.07 1557.16 1473.07 1551.43 L1473.07 1550.12 L1467.24 1550.12 M1478.93 1547.71 L1478.93 1568.04 L1473.07 1568.04 L1473.07 1562.63 Q1471.06 1565.88 1468.07 1567.44 Q1465.08 1568.97 1460.75 1568.97 Q1455.28 1568.97 1452.03 1565.91 Q1448.82 1562.82 1448.82 1557.67 Q1448.82 1551.65 1452.83 1548.6 Q1456.87 1545.54 1464.86 1545.54 L1473.07 1545.54 L1473.07 1544.97 Q1473.07 1540.93 1470.4 1538.73 Q1467.75 1536.5 1462.95 1536.5 Q1459.89 1536.5 1457 1537.23 Q1454.1 1537.97 1451.43 1539.43 L1451.43 1534.02 Q1454.64 1532.78 1457.66 1532.17 Q1460.69 1531.54 1463.55 1531.54 Q1471.29 1531.54 1475.11 1535.55 Q1478.93 1539.56 1478.93 1547.71 Z\" fill=\"#000000\" fill-rule=\"nonzero\" fill-opacity=\"1\" /><path clip-path=\"url(#clip570)\" d=\"M1490.99 1518.52 L1496.85 1518.52 L1496.85 1568.04 L1490.99 1568.04 L1490.99 1518.52 Z\" fill=\"#000000\" fill-rule=\"nonzero\" fill-opacity=\"1\" /><path clip-path=\"url(#clip570)\" d=\"M1510.6 1559.96 L1517.31 1559.96 L1517.31 1565.43 L1512.09 1575.62 L1507.99 1575.62 L1510.6 1565.43 L1510.6 1559.96 Z\" fill=\"#000000\" fill-rule=\"nonzero\" fill-opacity=\"1\" /><path clip-path=\"url(#clip570)\" d=\"M1550.32 1518.52 L1556.21 1518.52 L1556.21 1547.77 L1573.68 1532.4 L1581.16 1532.4 L1562.25 1549.07 L1581.95 1568.04 L1574.32 1568.04 L1556.21 1550.63 L1556.21 1568.04 L1550.32 1568.04 L1550.32 1518.52 Z\" fill=\"#000000\" fill-rule=\"nonzero\" fill-opacity=\"1\" /><polyline clip-path=\"url(#clip572)\" style=\"stroke:#000000; stroke-linecap:round; stroke-linejoin:round; stroke-width:2; stroke-opacity:0.1; fill:none\" points=\"272.297,1226.83 2352.76,1226.83 \"/>\n",
       "<polyline clip-path=\"url(#clip572)\" style=\"stroke:#000000; stroke-linecap:round; stroke-linejoin:round; stroke-width:2; stroke-opacity:0.1; fill:none\" points=\"272.297,989.776 2352.76,989.776 \"/>\n",
       "<polyline clip-path=\"url(#clip572)\" style=\"stroke:#000000; stroke-linecap:round; stroke-linejoin:round; stroke-width:2; stroke-opacity:0.1; fill:none\" points=\"272.297,752.72 2352.76,752.72 \"/>\n",
       "<polyline clip-path=\"url(#clip572)\" style=\"stroke:#000000; stroke-linecap:round; stroke-linejoin:round; stroke-width:2; stroke-opacity:0.1; fill:none\" points=\"272.297,515.663 2352.76,515.663 \"/>\n",
       "<polyline clip-path=\"url(#clip572)\" style=\"stroke:#000000; stroke-linecap:round; stroke-linejoin:round; stroke-width:2; stroke-opacity:0.1; fill:none\" points=\"272.297,278.607 2352.76,278.607 \"/>\n",
       "<polyline clip-path=\"url(#clip570)\" style=\"stroke:#000000; stroke-linecap:round; stroke-linejoin:round; stroke-width:4; stroke-opacity:1; fill:none\" points=\"272.297,1423.18 272.297,47.2441 \"/>\n",
       "<polyline clip-path=\"url(#clip570)\" style=\"stroke:#000000; stroke-linecap:round; stroke-linejoin:round; stroke-width:4; stroke-opacity:1; fill:none\" points=\"272.297,1226.83 291.194,1226.83 \"/>\n",
       "<polyline clip-path=\"url(#clip570)\" style=\"stroke:#000000; stroke-linecap:round; stroke-linejoin:round; stroke-width:4; stroke-opacity:1; fill:none\" points=\"272.297,989.776 291.194,989.776 \"/>\n",
       "<polyline clip-path=\"url(#clip570)\" style=\"stroke:#000000; stroke-linecap:round; stroke-linejoin:round; stroke-width:4; stroke-opacity:1; fill:none\" points=\"272.297,752.72 291.194,752.72 \"/>\n",
       "<polyline clip-path=\"url(#clip570)\" style=\"stroke:#000000; stroke-linecap:round; stroke-linejoin:round; stroke-width:4; stroke-opacity:1; fill:none\" points=\"272.297,515.663 291.194,515.663 \"/>\n",
       "<polyline clip-path=\"url(#clip570)\" style=\"stroke:#000000; stroke-linecap:round; stroke-linejoin:round; stroke-width:4; stroke-opacity:1; fill:none\" points=\"272.297,278.607 291.194,278.607 \"/>\n",
       "<path clip-path=\"url(#clip570)\" d=\"M115.256 1227.28 L144.931 1227.28 L144.931 1231.22 L115.256 1231.22 L115.256 1227.28 Z\" fill=\"#000000\" fill-rule=\"nonzero\" fill-opacity=\"1\" /><path clip-path=\"url(#clip570)\" d=\"M155.834 1240.18 L163.473 1240.18 L163.473 1213.81 L155.163 1215.48 L155.163 1211.22 L163.427 1209.55 L168.102 1209.55 L168.102 1240.18 L175.741 1240.18 L175.741 1244.11 L155.834 1244.11 L155.834 1240.18 Z\" fill=\"#000000\" fill-rule=\"nonzero\" fill-opacity=\"1\" /><path clip-path=\"url(#clip570)\" d=\"M189.213 1240.18 L205.533 1240.18 L205.533 1244.11 L183.588 1244.11 L183.588 1240.18 Q186.251 1237.42 190.834 1232.79 Q195.44 1228.14 196.621 1226.8 Q198.866 1224.27 199.746 1222.54 Q200.649 1220.78 200.649 1219.09 Q200.649 1216.33 198.704 1214.6 Q196.783 1212.86 193.681 1212.86 Q191.482 1212.86 189.028 1213.63 Q186.598 1214.39 183.82 1215.94 L183.82 1211.22 Q186.644 1210.08 189.098 1209.51 Q191.551 1208.93 193.588 1208.93 Q198.959 1208.93 202.153 1211.61 Q205.348 1214.3 205.348 1218.79 Q205.348 1220.92 204.537 1222.84 Q203.75 1224.74 201.644 1227.33 Q201.065 1228 197.963 1231.22 Q194.862 1234.41 189.213 1240.18 Z\" fill=\"#000000\" fill-rule=\"nonzero\" fill-opacity=\"1\" /><path clip-path=\"url(#clip570)\" d=\"M215.394 1209.55 L233.75 1209.55 L233.75 1213.49 L219.676 1213.49 L219.676 1221.96 Q220.695 1221.61 221.713 1221.45 Q222.732 1221.27 223.75 1221.27 Q229.537 1221.27 232.917 1224.44 Q236.297 1227.61 236.297 1233.02 Q236.297 1238.6 232.824 1241.7 Q229.352 1244.78 223.033 1244.78 Q220.857 1244.78 218.588 1244.41 Q216.343 1244.04 213.936 1243.3 L213.936 1238.6 Q216.019 1239.74 218.241 1240.29 Q220.463 1240.85 222.94 1240.85 Q226.945 1240.85 229.283 1238.74 Q231.621 1236.64 231.621 1233.02 Q231.621 1229.41 229.283 1227.31 Q226.945 1225.2 222.94 1225.2 Q221.065 1225.2 219.19 1225.62 Q217.338 1226.03 215.394 1226.91 L215.394 1209.55 Z\" fill=\"#000000\" fill-rule=\"nonzero\" fill-opacity=\"1\" /><path clip-path=\"url(#clip570)\" d=\"M114.26 990.227 L143.936 990.227 L143.936 994.162 L114.26 994.162 L114.26 990.227 Z\" fill=\"#000000\" fill-rule=\"nonzero\" fill-opacity=\"1\" /><path clip-path=\"url(#clip570)\" d=\"M154.839 1003.12 L162.477 1003.12 L162.477 976.755 L154.167 978.422 L154.167 974.163 L162.431 972.496 L167.107 972.496 L167.107 1003.12 L174.746 1003.12 L174.746 1007.06 L154.839 1007.06 L154.839 1003.12 Z\" fill=\"#000000\" fill-rule=\"nonzero\" fill-opacity=\"1\" /><path clip-path=\"url(#clip570)\" d=\"M194.19 975.575 Q190.579 975.575 188.75 979.139 Q186.945 982.681 186.945 989.811 Q186.945 996.917 188.75 1000.48 Q190.579 1004.02 194.19 1004.02 Q197.825 1004.02 199.63 1000.48 Q201.459 996.917 201.459 989.811 Q201.459 982.681 199.63 979.139 Q197.825 975.575 194.19 975.575 M194.19 971.871 Q200 971.871 203.056 976.477 Q206.135 981.061 206.135 989.811 Q206.135 998.537 203.056 1003.14 Q200 1007.73 194.19 1007.73 Q188.38 1007.73 185.301 1003.14 Q182.246 998.537 182.246 989.811 Q182.246 981.061 185.301 976.477 Q188.38 971.871 194.19 971.871 Z\" fill=\"#000000\" fill-rule=\"nonzero\" fill-opacity=\"1\" /><path clip-path=\"url(#clip570)\" d=\"M224.352 975.575 Q220.741 975.575 218.912 979.139 Q217.107 982.681 217.107 989.811 Q217.107 996.917 218.912 1000.48 Q220.741 1004.02 224.352 1004.02 Q227.986 1004.02 229.792 1000.48 Q231.621 996.917 231.621 989.811 Q231.621 982.681 229.792 979.139 Q227.986 975.575 224.352 975.575 M224.352 971.871 Q230.162 971.871 233.218 976.477 Q236.297 981.061 236.297 989.811 Q236.297 998.537 233.218 1003.14 Q230.162 1007.73 224.352 1007.73 Q218.542 1007.73 215.463 1003.14 Q212.408 998.537 212.408 989.811 Q212.408 981.061 215.463 976.477 Q218.542 971.871 224.352 971.871 Z\" fill=\"#000000\" fill-rule=\"nonzero\" fill-opacity=\"1\" /><path clip-path=\"url(#clip570)\" d=\"M145.417 753.171 L175.093 753.171 L175.093 757.106 L145.417 757.106 L145.417 753.171 Z\" fill=\"#000000\" fill-rule=\"nonzero\" fill-opacity=\"1\" /><path clip-path=\"url(#clip570)\" d=\"M184.005 735.44 L206.227 735.44 L206.227 737.43 L193.681 770 L188.797 770 L200.602 739.375 L184.005 739.375 L184.005 735.44 Z\" fill=\"#000000\" fill-rule=\"nonzero\" fill-opacity=\"1\" /><path clip-path=\"url(#clip570)\" d=\"M215.394 735.44 L233.75 735.44 L233.75 739.375 L219.676 739.375 L219.676 747.847 Q220.695 747.5 221.713 747.338 Q222.732 747.152 223.75 747.152 Q229.537 747.152 232.917 750.324 Q236.297 753.495 236.297 758.912 Q236.297 764.49 232.824 767.592 Q229.352 770.671 223.033 770.671 Q220.857 770.671 218.588 770.301 Q216.343 769.93 213.936 769.189 L213.936 764.49 Q216.019 765.625 218.241 766.18 Q220.463 766.736 222.94 766.736 Q226.945 766.736 229.283 764.629 Q231.621 762.523 231.621 758.912 Q231.621 755.301 229.283 753.194 Q226.945 751.088 222.94 751.088 Q221.065 751.088 219.19 751.504 Q217.338 751.921 215.394 752.801 L215.394 735.44 Z\" fill=\"#000000\" fill-rule=\"nonzero\" fill-opacity=\"1\" /><path clip-path=\"url(#clip570)\" d=\"M144.422 516.115 L174.098 516.115 L174.098 520.05 L144.422 520.05 L144.422 516.115 Z\" fill=\"#000000\" fill-rule=\"nonzero\" fill-opacity=\"1\" /><path clip-path=\"url(#clip570)\" d=\"M184.237 498.383 L202.593 498.383 L202.593 502.318 L188.519 502.318 L188.519 510.791 Q189.538 510.443 190.556 510.281 Q191.575 510.096 192.593 510.096 Q198.38 510.096 201.76 513.267 Q205.139 516.439 205.139 521.855 Q205.139 527.434 201.667 530.536 Q198.195 533.615 191.875 533.615 Q189.7 533.615 187.431 533.244 Q185.186 532.874 182.778 532.133 L182.778 527.434 Q184.862 528.568 187.084 529.124 Q189.306 529.679 191.783 529.679 Q195.787 529.679 198.125 527.573 Q200.463 525.466 200.463 521.855 Q200.463 518.244 198.125 516.138 Q195.787 514.031 191.783 514.031 Q189.908 514.031 188.033 514.448 Q186.181 514.865 184.237 515.744 L184.237 498.383 Z\" fill=\"#000000\" fill-rule=\"nonzero\" fill-opacity=\"1\" /><path clip-path=\"url(#clip570)\" d=\"M224.352 501.462 Q220.741 501.462 218.912 505.027 Q217.107 508.568 217.107 515.698 Q217.107 522.804 218.912 526.369 Q220.741 529.911 224.352 529.911 Q227.986 529.911 229.792 526.369 Q231.621 522.804 231.621 515.698 Q231.621 508.568 229.792 505.027 Q227.986 501.462 224.352 501.462 M224.352 497.758 Q230.162 497.758 233.218 502.365 Q236.297 506.948 236.297 515.698 Q236.297 524.425 233.218 529.031 Q230.162 533.615 224.352 533.615 Q218.542 533.615 215.463 529.031 Q212.408 524.425 212.408 515.698 Q212.408 506.948 215.463 502.365 Q218.542 497.758 224.352 497.758 Z\" fill=\"#000000\" fill-rule=\"nonzero\" fill-opacity=\"1\" /><path clip-path=\"url(#clip570)\" d=\"M145.417 279.058 L175.093 279.058 L175.093 282.993 L145.417 282.993 L145.417 279.058 Z\" fill=\"#000000\" fill-rule=\"nonzero\" fill-opacity=\"1\" /><path clip-path=\"url(#clip570)\" d=\"M189.213 291.952 L205.533 291.952 L205.533 295.887 L183.588 295.887 L183.588 291.952 Q186.251 289.197 190.834 284.568 Q195.44 279.915 196.621 278.572 Q198.866 276.049 199.746 274.313 Q200.649 272.554 200.649 270.864 Q200.649 268.109 198.704 266.373 Q196.783 264.637 193.681 264.637 Q191.482 264.637 189.028 265.401 Q186.598 266.165 183.82 267.716 L183.82 262.994 Q186.644 261.859 189.098 261.281 Q191.551 260.702 193.588 260.702 Q198.959 260.702 202.153 263.387 Q205.348 266.072 205.348 270.563 Q205.348 272.693 204.537 274.614 Q203.75 276.512 201.644 279.105 Q201.065 279.776 197.963 282.993 Q194.862 286.188 189.213 291.952 Z\" fill=\"#000000\" fill-rule=\"nonzero\" fill-opacity=\"1\" /><path clip-path=\"url(#clip570)\" d=\"M215.394 261.327 L233.75 261.327 L233.75 265.262 L219.676 265.262 L219.676 273.734 Q220.695 273.387 221.713 273.225 Q222.732 273.04 223.75 273.04 Q229.537 273.04 232.917 276.211 Q236.297 279.382 236.297 284.799 Q236.297 290.378 232.824 293.48 Q229.352 296.558 223.033 296.558 Q220.857 296.558 218.588 296.188 Q216.343 295.817 213.936 295.077 L213.936 290.378 Q216.019 291.512 218.241 292.067 Q220.463 292.623 222.94 292.623 Q226.945 292.623 229.283 290.517 Q231.621 288.41 231.621 284.799 Q231.621 281.188 229.283 279.081 Q226.945 276.975 222.94 276.975 Q221.065 276.975 219.19 277.392 Q217.338 277.808 215.394 278.688 L215.394 261.327 Z\" fill=\"#000000\" fill-rule=\"nonzero\" fill-opacity=\"1\" /><path clip-path=\"url(#clip570)\" d=\"M64.0042 988.854 L16.4842 1007 L16.4842 1000.28 L56.4926 985.225 L16.4842 970.138 L16.4842 963.454 L64.0042 981.565 L64.0042 988.854 Z\" fill=\"#000000\" fill-rule=\"nonzero\" fill-opacity=\"1\" /><path clip-path=\"url(#clip570)\" d=\"M46.0847 945.63 Q46.0847 952.728 47.7079 955.465 Q49.3312 958.203 53.2461 958.203 Q56.3653 958.203 58.2114 956.166 Q60.0256 954.097 60.0256 950.564 Q60.0256 945.694 56.5881 942.766 Q53.1188 939.806 47.3897 939.806 L46.0847 939.806 L46.0847 945.63 M43.6657 933.949 L64.0042 933.949 L64.0042 939.806 L58.5933 939.806 Q61.8398 941.811 63.3994 944.803 Q64.9272 947.795 64.9272 952.123 Q64.9272 957.598 61.8716 960.844 Q58.7843 964.059 53.6281 964.059 Q47.6125 964.059 44.5569 960.049 Q41.5014 956.007 41.5014 948.018 L41.5014 939.806 L40.9285 939.806 Q36.8862 939.806 34.6901 942.479 Q32.4621 945.121 32.4621 949.927 Q32.4621 952.983 33.1941 955.879 Q33.9262 958.776 35.3903 961.449 L29.9795 961.449 Q28.7381 958.235 28.1334 955.211 Q27.4968 952.187 27.4968 949.323 Q27.4968 941.588 31.5072 937.769 Q35.5176 933.949 43.6657 933.949 Z\" fill=\"#000000\" fill-rule=\"nonzero\" fill-opacity=\"1\" /><path clip-path=\"url(#clip570)\" d=\"M14.479 921.886 L14.479 916.03 L64.0042 916.03 L64.0042 921.886 L14.479 921.886 Z\" fill=\"#000000\" fill-rule=\"nonzero\" fill-opacity=\"1\" /><path clip-path=\"url(#clip570)\" d=\"M49.9359 904.381 L28.3562 904.381 L28.3562 898.524 L49.7131 898.524 Q54.7739 898.524 57.3202 896.551 Q59.8346 894.577 59.8346 890.631 Q59.8346 885.888 56.8109 883.151 Q53.7872 880.382 48.5673 880.382 L28.3562 880.382 L28.3562 874.525 L64.0042 874.525 L64.0042 880.382 L58.5296 880.382 Q61.7762 882.514 63.3676 885.347 Q64.9272 888.148 64.9272 891.872 Q64.9272 898.015 61.1078 901.198 Q57.2883 904.381 49.9359 904.381 M27.4968 889.644 L27.4968 889.644 Z\" fill=\"#000000\" fill-rule=\"nonzero\" fill-opacity=\"1\" /><path clip-path=\"url(#clip570)\" d=\"M44.7161 831.971 L47.5806 831.971 L47.5806 858.898 Q53.6281 858.516 56.8109 855.269 Q59.9619 851.991 59.9619 846.166 Q59.9619 842.792 59.1344 839.641 Q58.3069 836.459 56.6518 833.339 L62.1899 833.339 Q63.5267 836.49 64.227 839.801 Q64.9272 843.111 64.9272 846.516 Q64.9272 855.046 59.9619 860.043 Q54.9967 865.009 46.5303 865.009 Q37.7774 865.009 32.6531 860.298 Q27.4968 855.556 27.4968 847.535 Q27.4968 840.342 32.1438 836.172 Q36.7589 831.971 44.7161 831.971 M42.9973 837.827 Q38.1912 837.891 35.3266 840.533 Q32.4621 843.143 32.4621 847.471 Q32.4621 852.373 35.2312 855.333 Q38.0002 858.261 43.0292 858.707 L42.9973 837.827 Z\" fill=\"#000000\" fill-rule=\"nonzero\" fill-opacity=\"1\" /><path clip-path=\"url(#clip570)\" d=\"M14.479 783.591 L19.3487 783.591 L19.3487 789.193 Q19.3487 792.344 20.6219 793.585 Q21.895 794.795 25.2052 794.795 L28.3562 794.795 L28.3562 785.151 L32.9077 785.151 L32.9077 794.795 L64.0042 794.795 L64.0042 800.683 L32.9077 800.683 L32.9077 806.285 L28.3562 806.285 L28.3562 800.683 L25.8736 800.683 Q19.9216 800.683 17.2162 797.914 Q14.479 795.145 14.479 789.13 L14.479 783.591 Z\" fill=\"#000000\" fill-rule=\"nonzero\" fill-opacity=\"1\" /><path clip-path=\"url(#clip570)\" d=\"M49.9359 779.294 L28.3562 779.294 L28.3562 773.438 L49.7131 773.438 Q54.7739 773.438 57.3202 771.465 Q59.8346 769.491 59.8346 765.545 Q59.8346 760.802 56.8109 758.065 Q53.7872 755.296 48.5673 755.296 L28.3562 755.296 L28.3562 749.439 L64.0042 749.439 L64.0042 755.296 L58.5296 755.296 Q61.7762 757.428 63.3676 760.261 Q64.9272 763.062 64.9272 766.786 Q64.9272 772.929 61.1078 776.112 Q57.2883 779.294 49.9359 779.294 M27.4968 764.558 L27.4968 764.558 Z\" fill=\"#000000\" fill-rule=\"nonzero\" fill-opacity=\"1\" /><path clip-path=\"url(#clip570)\" d=\"M42.4881 707.744 L64.0042 707.744 L64.0042 713.6 L42.679 713.6 Q37.6183 713.6 35.1038 715.574 Q32.5894 717.547 32.5894 721.494 Q32.5894 726.236 35.6131 728.974 Q38.6368 731.711 43.8567 731.711 L64.0042 731.711 L64.0042 737.599 L28.3562 737.599 L28.3562 731.711 L33.8944 731.711 Q30.6797 729.61 29.0883 726.777 Q27.4968 723.913 27.4968 720.189 Q27.4968 714.046 31.3163 710.895 Q35.1038 707.744 42.4881 707.744 Z\" fill=\"#000000\" fill-rule=\"nonzero\" fill-opacity=\"1\" /><path clip-path=\"url(#clip570)\" d=\"M29.7248 670.409 L35.1993 670.409 Q33.8307 672.892 33.1623 675.406 Q32.4621 677.889 32.4621 680.435 Q32.4621 686.132 36.0905 689.283 Q39.6872 692.434 46.212 692.434 Q52.7369 692.434 56.3653 689.283 Q59.9619 686.132 59.9619 680.435 Q59.9619 677.889 59.2935 675.406 Q58.5933 672.892 57.2247 670.409 L62.6355 670.409 Q63.7814 672.86 64.3543 675.502 Q64.9272 678.112 64.9272 681.072 Q64.9272 689.124 59.8664 693.867 Q54.8057 698.609 46.212 698.609 Q37.491 698.609 32.4939 693.835 Q27.4968 689.029 27.4968 680.69 Q27.4968 677.984 28.0697 675.406 Q28.6108 672.828 29.7248 670.409 Z\" fill=\"#000000\" fill-rule=\"nonzero\" fill-opacity=\"1\" /><path clip-path=\"url(#clip570)\" d=\"M18.2347 654.431 L28.3562 654.431 L28.3562 642.368 L32.9077 642.368 L32.9077 654.431 L52.2594 654.431 Q56.6199 654.431 57.8613 653.253 Q59.1026 652.044 59.1026 648.384 L59.1026 642.368 L64.0042 642.368 L64.0042 648.384 Q64.0042 655.163 61.4897 657.741 Q58.9434 660.319 52.2594 660.319 L32.9077 660.319 L32.9077 664.616 L28.3562 664.616 L28.3562 660.319 L18.2347 660.319 L18.2347 654.431 Z\" fill=\"#000000\" fill-rule=\"nonzero\" fill-opacity=\"1\" /><path clip-path=\"url(#clip570)\" d=\"M28.3562 634.666 L28.3562 628.809 L64.0042 628.809 L64.0042 634.666 L28.3562 634.666 M14.479 634.666 L14.479 628.809 L21.895 628.809 L21.895 634.666 L14.479 634.666 Z\" fill=\"#000000\" fill-rule=\"nonzero\" fill-opacity=\"1\" /><path clip-path=\"url(#clip570)\" d=\"M32.4621 602.742 Q32.4621 607.452 36.1542 610.189 Q39.8145 612.927 46.212 612.927 Q52.6095 612.927 56.3017 610.221 Q59.9619 607.484 59.9619 602.742 Q59.9619 598.063 56.2698 595.326 Q52.5777 592.588 46.212 592.588 Q39.8781 592.588 36.186 595.326 Q32.4621 598.063 32.4621 602.742 M27.4968 602.742 Q27.4968 595.103 32.4621 590.742 Q37.4273 586.382 46.212 586.382 Q54.9649 586.382 59.9619 590.742 Q64.9272 595.103 64.9272 602.742 Q64.9272 610.412 59.9619 614.773 Q54.9649 619.101 46.212 619.101 Q37.4273 619.101 32.4621 614.773 Q27.4968 610.412 27.4968 602.742 Z\" fill=\"#000000\" fill-rule=\"nonzero\" fill-opacity=\"1\" /><path clip-path=\"url(#clip570)\" d=\"M42.4881 547.042 L64.0042 547.042 L64.0042 552.898 L42.679 552.898 Q37.6183 552.898 35.1038 554.871 Q32.5894 556.845 32.5894 560.792 Q32.5894 565.534 35.6131 568.271 Q38.6368 571.009 43.8567 571.009 L64.0042 571.009 L64.0042 576.897 L28.3562 576.897 L28.3562 571.009 L33.8944 571.009 Q30.6797 568.908 29.0883 566.075 Q27.4968 563.211 27.4968 559.487 Q27.4968 553.344 31.3163 550.193 Q35.1038 547.042 42.4881 547.042 Z\" fill=\"#000000\" fill-rule=\"nonzero\" fill-opacity=\"1\" /><path clip-path=\"url(#clip570)\" d=\"M55.9197 533.865 L55.9197 527.149 L61.3942 527.149 L71.5793 532.369 L71.5793 536.475 L61.3942 533.865 L55.9197 533.865 Z\" fill=\"#000000\" fill-rule=\"nonzero\" fill-opacity=\"1\" /><path clip-path=\"url(#clip570)\" d=\"M28.3562 498.121 L28.3562 491.915 L58.275 480.775 L28.3562 469.635 L28.3562 463.428 L64.0042 476.796 L64.0042 484.753 L28.3562 498.121 Z\" fill=\"#000000\" fill-rule=\"nonzero\" fill-opacity=\"1\" /><polyline clip-path=\"url(#clip572)\" style=\"stroke:#6b9e32; stroke-linecap:round; stroke-linejoin:round; stroke-width:8; stroke-opacity:1; fill:none\" points=\"331.177,1384.24 351.003,174.132 370.828,147.96 390.653,136.133 410.478,128.738 430.304,123.492 450.129,119.647 469.954,116.638 489.779,114.205 509.605,112.159 529.43,110.422 549.255,108.896 569.08,107.559 588.905,106.383 608.731,105.337 628.556,104.396 648.381,103.54 668.206,102.753 688.032,102.019 707.857,101.324 727.682,100.657 747.507,100.079 767.332,99.5581 787.158,99.0538 806.983,98.5706 826.808,98.1115 846.633,97.6793 866.459,97.2757 886.284,96.8837 906.109,96.5152 925.934,96.1605 945.76,95.8301 965.585,95.505 985.41,95.192 1005.24,94.9034 1025.06,94.622 1044.89,94.3434 1064.71,94.0755 1084.54,93.8312 1104.36,93.5871 1124.19,93.3512 1144.01,93.1195 1163.84,92.8992 1183.66,92.6807 1203.49,92.4822 1223.31,92.2855 1243.14,92.0882 1262.96,91.899 1282.79,91.715 1302.61,91.5351 1322.44,91.3613 1342.26,91.1902 1362.09,91.0248 1381.91,90.8715 1401.74,90.7199 1421.56,90.5678 1441.39,90.4163 1461.22,90.2732 1481.04,90.1304 1500.87,89.9914 1520.69,89.8572 1540.52,89.7233 1560.34,89.5939 1580.17,89.4681 1599.99,89.3418 1619.82,89.2204 1639.64,89.1026 1659.47,88.9914 1679.29,88.881 1699.12,88.7706 1718.94,88.6608 1738.77,88.5524 1758.59,88.4456 1778.42,88.3441 1798.24,88.2435 1818.07,88.1416 1837.89,88.0439 1857.72,87.9474 1877.55,87.8534 1897.37,87.7605 1917.2,87.6677 1937.02,87.5782 1956.85,87.49 1976.67,87.4031 1996.5,87.3166 2016.32,87.2314 2036.15,87.1486 2055.97,87.0674 2075.8,86.9873 2095.62,86.9098 2115.45,86.835 2135.27,86.7609 2155.1,86.6864 2174.92,86.6126 2194.75,86.5399 2214.57,86.4665 2234.4,86.3946 2254.22,86.3242 2274.05,86.2533 2293.87,86.1857 \"/>\n",
       "</svg>\n"
      ]
     },
     "metadata": {},
     "output_type": "display_data"
    }
   ],
   "source": [
    "function v_plot(k, v)\n",
    "    Plots.plot(k, v, primary=false, xlabel = \"Current capital, k \", ylabel = \"Value function, v\", linewidth= 2)\n",
    "end\n",
    "\n",
    "v_plot(k, v)"
   ]
  },
  {
   "cell_type": "code",
   "execution_count": 20,
   "metadata": {},
   "outputs": [
    {
     "data": {
      "image/png": "[encoded data removed]",
      "image/svg+xml": [
       "<?xml version=\"1.0\" encoding=\"utf-8\"?>\n",
       "<svg xmlns=\"http://www.w3.org/2000/svg\" xmlns:xlink=\"http://www.w3.org/1999/xlink\" width=\"600\" height=\"400\" viewBox=\"0 0 2400 1600\">\n",
       "<defs>\n",
       "  <clipPath id=\"clip610\">\n",
       "    <rect x=\"0\" y=\"0\" width=\"2400\" height=\"1600\"/>\n",
       "  </clipPath>\n",
       "</defs>\n",
       "<path clip-path=\"url(#clip610)\" d=\"M0 1600 L2400 1600 L2400 8.88178e-14 L0 8.88178e-14  Z\" fill=\"#ffffff\" fill-rule=\"evenodd\" fill-opacity=\"1\"/>\n",
       "<defs>\n",
       "  <clipPath id=\"clip611\">\n",
       "    <rect x=\"480\" y=\"0\" width=\"1681\" height=\"1600\"/>\n",
       "  </clipPath>\n",
       "</defs>\n",
       "<path clip-path=\"url(#clip610)\" d=\"M247.459 1423.18 L2352.76 1423.18 L2352.76 47.2441 L247.459 47.2441  Z\" fill=\"#ffffff\" fill-rule=\"evenodd\" fill-opacity=\"1\"/>\n",
       "<defs>\n",
       "  <clipPath id=\"clip612\">\n",
       "    <rect x=\"247\" y=\"47\" width=\"2106\" height=\"1377\"/>\n",
       "  </clipPath>\n",
       "</defs>\n",
       "<polyline clip-path=\"url(#clip612)\" style=\"stroke:#000000; stroke-linecap:round; stroke-linejoin:round; stroke-width:2; stroke-opacity:0.1; fill:none\" points=\"305.655,1423.18 305.655,47.2441 \"/>\n",
       "<polyline clip-path=\"url(#clip612)\" style=\"stroke:#000000; stroke-linecap:round; stroke-linejoin:round; stroke-width:2; stroke-opacity:0.1; fill:none\" points=\"722.019,1423.18 722.019,47.2441 \"/>\n",
       "<polyline clip-path=\"url(#clip612)\" style=\"stroke:#000000; stroke-linecap:round; stroke-linejoin:round; stroke-width:2; stroke-opacity:0.1; fill:none\" points=\"1138.38,1423.18 1138.38,47.2441 \"/>\n",
       "<polyline clip-path=\"url(#clip612)\" style=\"stroke:#000000; stroke-linecap:round; stroke-linejoin:round; stroke-width:2; stroke-opacity:0.1; fill:none\" points=\"1554.75,1423.18 1554.75,47.2441 \"/>\n",
       "<polyline clip-path=\"url(#clip612)\" style=\"stroke:#000000; stroke-linecap:round; stroke-linejoin:round; stroke-width:2; stroke-opacity:0.1; fill:none\" points=\"1971.11,1423.18 1971.11,47.2441 \"/>\n",
       "<polyline clip-path=\"url(#clip610)\" style=\"stroke:#000000; stroke-linecap:round; stroke-linejoin:round; stroke-width:4; stroke-opacity:1; fill:none\" points=\"247.459,1423.18 2352.76,1423.18 \"/>\n",
       "<polyline clip-path=\"url(#clip610)\" style=\"stroke:#000000; stroke-linecap:round; stroke-linejoin:round; stroke-width:4; stroke-opacity:1; fill:none\" points=\"305.655,1423.18 305.655,1404.28 \"/>\n",
       "<polyline clip-path=\"url(#clip610)\" style=\"stroke:#000000; stroke-linecap:round; stroke-linejoin:round; stroke-width:4; stroke-opacity:1; fill:none\" points=\"722.019,1423.18 722.019,1404.28 \"/>\n",
       "<polyline clip-path=\"url(#clip610)\" style=\"stroke:#000000; stroke-linecap:round; stroke-linejoin:round; stroke-width:4; stroke-opacity:1; fill:none\" points=\"1138.38,1423.18 1138.38,1404.28 \"/>\n",
       "<polyline clip-path=\"url(#clip610)\" style=\"stroke:#000000; stroke-linecap:round; stroke-linejoin:round; stroke-width:4; stroke-opacity:1; fill:none\" points=\"1554.75,1423.18 1554.75,1404.28 \"/>\n",
       "<polyline clip-path=\"url(#clip610)\" style=\"stroke:#000000; stroke-linecap:round; stroke-linejoin:round; stroke-width:4; stroke-opacity:1; fill:none\" points=\"1971.11,1423.18 1971.11,1404.28 \"/>\n",
       "<path clip-path=\"url(#clip610)\" d=\"M305.655 1454.1 Q302.044 1454.1 300.215 1457.66 Q298.409 1461.2 298.409 1468.33 Q298.409 1475.44 300.215 1479.01 Q302.044 1482.55 305.655 1482.55 Q309.289 1482.55 311.094 1479.01 Q312.923 1475.44 312.923 1468.33 Q312.923 1461.2 311.094 1457.66 Q309.289 1454.1 305.655 1454.1 M305.655 1450.39 Q311.465 1450.39 314.52 1455 Q317.599 1459.58 317.599 1468.33 Q317.599 1477.06 314.52 1481.67 Q311.465 1486.25 305.655 1486.25 Q299.845 1486.25 296.766 1481.67 Q293.71 1477.06 293.71 1468.33 Q293.71 1459.58 296.766 1455 Q299.845 1450.39 305.655 1450.39 Z\" fill=\"#000000\" fill-rule=\"nonzero\" fill-opacity=\"1\" /><path clip-path=\"url(#clip610)\" d=\"M726.267 1466.95 Q729.624 1467.66 731.499 1469.93 Q733.397 1472.2 733.397 1475.53 Q733.397 1480.65 729.878 1483.45 Q726.36 1486.25 719.878 1486.25 Q717.702 1486.25 715.387 1485.81 Q713.096 1485.39 710.642 1484.54 L710.642 1480.02 Q712.587 1481.16 714.901 1481.74 Q717.216 1482.32 719.739 1482.32 Q724.137 1482.32 726.429 1480.58 Q728.744 1478.84 728.744 1475.53 Q728.744 1472.48 726.591 1470.77 Q724.462 1469.03 720.642 1469.03 L716.614 1469.03 L716.614 1465.19 L720.827 1465.19 Q724.276 1465.19 726.105 1463.82 Q727.934 1462.43 727.934 1459.84 Q727.934 1457.18 726.036 1455.77 Q724.161 1454.33 720.642 1454.33 Q718.721 1454.33 716.522 1454.75 Q714.323 1455.16 711.684 1456.04 L711.684 1451.88 Q714.346 1451.14 716.661 1450.77 Q718.999 1450.39 721.059 1450.39 Q726.383 1450.39 729.485 1452.83 Q732.586 1455.23 732.586 1459.35 Q732.586 1462.22 730.943 1464.21 Q729.299 1466.18 726.267 1466.95 Z\" fill=\"#000000\" fill-rule=\"nonzero\" fill-opacity=\"1\" /><path clip-path=\"url(#clip610)\" d=\"M1138.79 1466.44 Q1135.64 1466.44 1133.79 1468.59 Q1131.96 1470.74 1131.96 1474.49 Q1131.96 1478.22 1133.79 1480.39 Q1135.64 1482.55 1138.79 1482.55 Q1141.94 1482.55 1143.77 1480.39 Q1145.62 1478.22 1145.62 1474.49 Q1145.62 1470.74 1143.77 1468.59 Q1141.94 1466.44 1138.79 1466.44 M1148.07 1451.78 L1148.07 1456.04 Q1146.31 1455.21 1144.51 1454.77 Q1142.72 1454.33 1140.97 1454.33 Q1136.34 1454.33 1133.88 1457.45 Q1131.45 1460.58 1131.1 1466.9 Q1132.47 1464.89 1134.53 1463.82 Q1136.59 1462.73 1139.07 1462.73 Q1144.28 1462.73 1147.28 1465.9 Q1150.32 1469.05 1150.32 1474.49 Q1150.32 1479.82 1147.17 1483.03 Q1144.02 1486.25 1138.79 1486.25 Q1132.79 1486.25 1129.62 1481.67 Q1126.45 1477.06 1126.45 1468.33 Q1126.45 1460.14 1130.34 1455.28 Q1134.23 1450.39 1140.78 1450.39 Q1142.54 1450.39 1144.32 1450.74 Q1146.13 1451.09 1148.07 1451.78 Z\" fill=\"#000000\" fill-rule=\"nonzero\" fill-opacity=\"1\" /><path clip-path=\"url(#clip610)\" d=\"M1545.05 1484.86 L1545.05 1480.6 Q1546.81 1481.44 1548.61 1481.88 Q1550.42 1482.32 1552.16 1482.32 Q1556.79 1482.32 1559.22 1479.21 Q1561.67 1476.09 1562.02 1469.75 Q1560.67 1471.74 1558.61 1472.8 Q1556.55 1473.87 1554.05 1473.87 Q1548.87 1473.87 1545.84 1470.74 Q1542.83 1467.59 1542.83 1462.15 Q1542.83 1456.83 1545.98 1453.61 Q1549.12 1450.39 1554.36 1450.39 Q1560.35 1450.39 1563.5 1455 Q1566.67 1459.58 1566.67 1468.33 Q1566.67 1476.51 1562.78 1481.39 Q1558.92 1486.25 1552.36 1486.25 Q1550.61 1486.25 1548.8 1485.9 Q1546.99 1485.56 1545.05 1484.86 M1554.36 1470.21 Q1557.5 1470.21 1559.33 1468.06 Q1561.18 1465.9 1561.18 1462.15 Q1561.18 1458.43 1559.33 1456.27 Q1557.5 1454.1 1554.36 1454.1 Q1551.21 1454.1 1549.36 1456.27 Q1547.53 1458.43 1547.53 1462.15 Q1547.53 1465.9 1549.36 1468.06 Q1551.21 1470.21 1554.36 1470.21 Z\" fill=\"#000000\" fill-rule=\"nonzero\" fill-opacity=\"1\" /><path clip-path=\"url(#clip610)\" d=\"M1946.6 1481.64 L1954.24 1481.64 L1954.24 1455.28 L1945.93 1456.95 L1945.93 1452.69 L1954.19 1451.02 L1958.87 1451.02 L1958.87 1481.64 L1966.51 1481.64 L1966.51 1485.58 L1946.6 1485.58 L1946.6 1481.64 Z\" fill=\"#000000\" fill-rule=\"nonzero\" fill-opacity=\"1\" /><path clip-path=\"url(#clip610)\" d=\"M1979.98 1481.64 L1996.3 1481.64 L1996.3 1485.58 L1974.35 1485.58 L1974.35 1481.64 Q1977.02 1478.89 1981.6 1474.26 Q1986.21 1469.61 1987.39 1468.27 Q1989.63 1465.74 1990.51 1464.01 Q1991.41 1462.25 1991.41 1460.56 Q1991.41 1457.8 1989.47 1456.07 Q1987.55 1454.33 1984.45 1454.33 Q1982.25 1454.33 1979.79 1455.09 Q1977.36 1455.86 1974.59 1457.41 L1974.59 1452.69 Q1977.41 1451.55 1979.86 1450.97 Q1982.32 1450.39 1984.35 1450.39 Q1989.72 1450.39 1992.92 1453.08 Q1996.11 1455.77 1996.11 1460.26 Q1996.11 1462.39 1995.3 1464.31 Q1994.52 1466.2 1992.41 1468.8 Q1991.83 1469.47 1988.73 1472.69 Q1985.63 1475.88 1979.98 1481.64 Z\" fill=\"#000000\" fill-rule=\"nonzero\" fill-opacity=\"1\" /><path clip-path=\"url(#clip610)\" d=\"M951.235 1524.18 L951.235 1530.96 Q947.988 1527.94 944.296 1526.44 Q940.636 1524.95 936.498 1524.95 Q928.35 1524.95 924.021 1529.95 Q919.693 1534.91 919.693 1544.33 Q919.693 1553.72 924.021 1558.72 Q928.35 1563.68 936.498 1563.68 Q940.636 1563.68 944.296 1562.19 Q947.988 1560.69 951.235 1557.67 L951.235 1564.38 Q947.861 1566.68 944.073 1567.82 Q940.318 1568.97 936.116 1568.97 Q925.326 1568.97 919.12 1562.38 Q912.913 1555.76 912.913 1544.33 Q912.913 1532.87 919.12 1526.28 Q925.326 1519.66 936.116 1519.66 Q940.381 1519.66 944.137 1520.81 Q947.925 1521.92 951.235 1524.18 Z\" fill=\"#000000\" fill-rule=\"nonzero\" fill-opacity=\"1\" /><path clip-path=\"url(#clip610)\" d=\"M960.306 1553.98 L960.306 1532.4 L966.162 1532.4 L966.162 1553.75 Q966.162 1558.81 968.136 1561.36 Q970.109 1563.87 974.056 1563.87 Q978.798 1563.87 981.536 1560.85 Q984.305 1557.83 984.305 1552.61 L984.305 1532.4 L990.161 1532.4 L990.161 1568.04 L984.305 1568.04 L984.305 1562.57 Q982.172 1565.82 979.339 1567.41 Q976.538 1568.97 972.815 1568.97 Q966.672 1568.97 963.489 1565.15 Q960.306 1561.33 960.306 1553.98 M975.042 1531.54 L975.042 1531.54 Z\" fill=\"#000000\" fill-rule=\"nonzero\" fill-opacity=\"1\" /><path clip-path=\"url(#clip610)\" d=\"M1022.88 1537.87 Q1021.89 1537.3 1020.72 1537.04 Q1019.57 1536.76 1018.17 1536.76 Q1013.2 1536.76 1010.53 1540 Q1007.89 1543.22 1007.89 1549.27 L1007.89 1568.04 L1002 1568.04 L1002 1532.4 L1007.89 1532.4 L1007.89 1537.93 Q1009.74 1534.69 1012.7 1533.13 Q1015.66 1531.54 1019.89 1531.54 Q1020.49 1531.54 1021.23 1531.63 Q1021.96 1531.7 1022.85 1531.85 L1022.88 1537.87 Z\" fill=\"#000000\" fill-rule=\"nonzero\" fill-opacity=\"1\" /><path clip-path=\"url(#clip610)\" d=\"M1048.53 1537.87 Q1047.55 1537.3 1046.37 1537.04 Q1045.22 1536.76 1043.82 1536.76 Q1038.86 1536.76 1036.19 1540 Q1033.54 1543.22 1033.54 1549.27 L1033.54 1568.04 L1027.66 1568.04 L1027.66 1532.4 L1033.54 1532.4 L1033.54 1537.93 Q1035.39 1534.69 1038.35 1533.13 Q1041.31 1531.54 1045.54 1531.54 Q1046.15 1531.54 1046.88 1531.63 Q1047.61 1531.7 1048.5 1531.85 L1048.53 1537.87 Z\" fill=\"#000000\" fill-rule=\"nonzero\" fill-opacity=\"1\" /><path clip-path=\"url(#clip610)\" d=\"M1083.74 1548.76 L1083.74 1551.62 L1056.81 1551.62 Q1057.19 1557.67 1060.44 1560.85 Q1063.72 1564 1069.54 1564 Q1072.92 1564 1076.07 1563.17 Q1079.25 1562.35 1082.37 1560.69 L1082.37 1566.23 Q1079.22 1567.57 1075.91 1568.27 Q1072.6 1568.97 1069.19 1568.97 Q1060.66 1568.97 1055.66 1564 Q1050.7 1559.04 1050.7 1550.57 Q1050.7 1541.82 1055.41 1536.69 Q1060.15 1531.54 1068.17 1531.54 Q1075.37 1531.54 1079.54 1536.18 Q1083.74 1540.8 1083.74 1548.76 M1077.88 1547.04 Q1077.82 1542.23 1075.18 1539.37 Q1072.57 1536.5 1068.24 1536.5 Q1063.33 1536.5 1060.37 1539.27 Q1057.45 1542.04 1057 1547.07 L1077.88 1547.04 Z\" fill=\"#000000\" fill-rule=\"nonzero\" fill-opacity=\"1\" /><path clip-path=\"url(#clip610)\" d=\"M1122.98 1546.53 L1122.98 1568.04 L1117.13 1568.04 L1117.13 1546.72 Q1117.13 1541.66 1115.15 1539.14 Q1113.18 1536.63 1109.23 1536.63 Q1104.49 1536.63 1101.75 1539.65 Q1099.01 1542.68 1099.01 1547.9 L1099.01 1568.04 L1093.13 1568.04 L1093.13 1532.4 L1099.01 1532.4 L1099.01 1537.93 Q1101.12 1534.72 1103.95 1533.13 Q1106.81 1531.54 1110.54 1531.54 Q1116.68 1531.54 1119.83 1535.36 Q1122.98 1539.14 1122.98 1546.53 Z\" fill=\"#000000\" fill-rule=\"nonzero\" fill-opacity=\"1\" /><path clip-path=\"url(#clip610)\" d=\"M1140.46 1522.27 L1140.46 1532.4 L1152.52 1532.4 L1152.52 1536.95 L1140.46 1536.95 L1140.46 1556.3 Q1140.46 1560.66 1141.63 1561.9 Q1142.84 1563.14 1146.5 1563.14 L1152.52 1563.14 L1152.52 1568.04 L1146.5 1568.04 Q1139.72 1568.04 1137.15 1565.53 Q1134.57 1562.98 1134.57 1556.3 L1134.57 1536.95 L1130.27 1536.95 L1130.27 1532.4 L1134.57 1532.4 L1134.57 1522.27 L1140.46 1522.27 Z\" fill=\"#000000\" fill-rule=\"nonzero\" fill-opacity=\"1\" /><path clip-path=\"url(#clip610)\" d=\"M1206.6 1533.76 L1206.6 1539.24 Q1204.11 1537.87 1201.6 1537.2 Q1199.12 1536.5 1196.57 1536.5 Q1190.87 1536.5 1187.72 1540.13 Q1184.57 1543.73 1184.57 1550.25 Q1184.57 1556.78 1187.72 1560.4 Q1190.87 1564 1196.57 1564 Q1199.12 1564 1201.6 1563.33 Q1204.11 1562.63 1206.6 1561.26 L1206.6 1566.68 Q1204.14 1567.82 1201.5 1568.39 Q1198.89 1568.97 1195.93 1568.97 Q1187.88 1568.97 1183.14 1563.91 Q1178.39 1558.85 1178.39 1550.25 Q1178.39 1541.53 1183.17 1536.53 Q1187.98 1531.54 1196.31 1531.54 Q1199.02 1531.54 1201.6 1532.11 Q1204.18 1532.65 1206.6 1533.76 Z\" fill=\"#000000\" fill-rule=\"nonzero\" fill-opacity=\"1\" /><path clip-path=\"url(#clip610)\" d=\"M1232.98 1550.12 Q1225.88 1550.12 1223.15 1551.75 Q1220.41 1553.37 1220.41 1557.29 Q1220.41 1560.4 1222.45 1562.25 Q1224.51 1564.07 1228.05 1564.07 Q1232.92 1564.07 1235.85 1560.63 Q1238.81 1557.16 1238.81 1551.43 L1238.81 1550.12 L1232.98 1550.12 M1244.66 1547.71 L1244.66 1568.04 L1238.81 1568.04 L1238.81 1562.63 Q1236.8 1565.88 1233.81 1567.44 Q1230.82 1568.97 1226.49 1568.97 Q1221.01 1568.97 1217.77 1565.91 Q1214.55 1562.82 1214.55 1557.67 Q1214.55 1551.65 1218.56 1548.6 Q1222.6 1545.54 1230.59 1545.54 L1238.81 1545.54 L1238.81 1544.97 Q1238.81 1540.93 1236.13 1538.73 Q1233.49 1536.5 1228.68 1536.5 Q1225.63 1536.5 1222.73 1537.23 Q1219.84 1537.97 1217.16 1539.43 L1217.16 1534.02 Q1220.38 1532.78 1223.4 1532.17 Q1226.42 1531.54 1229.29 1531.54 Q1237.02 1531.54 1240.84 1535.55 Q1244.66 1539.56 1244.66 1547.71 Z\" fill=\"#000000\" fill-rule=\"nonzero\" fill-opacity=\"1\" /><path clip-path=\"url(#clip610)\" d=\"M1262.39 1562.7 L1262.39 1581.6 L1256.5 1581.6 L1256.5 1532.4 L1262.39 1532.4 L1262.39 1537.81 Q1264.24 1534.62 1267.04 1533.1 Q1269.87 1531.54 1273.79 1531.54 Q1280.28 1531.54 1284.32 1536.69 Q1288.39 1541.85 1288.39 1550.25 Q1288.39 1558.65 1284.32 1563.81 Q1280.28 1568.97 1273.79 1568.97 Q1269.87 1568.97 1267.04 1567.44 Q1264.24 1565.88 1262.39 1562.7 M1282.32 1550.25 Q1282.32 1543.79 1279.64 1540.13 Q1277 1536.44 1272.35 1536.44 Q1267.71 1536.44 1265.03 1540.13 Q1262.39 1543.79 1262.39 1550.25 Q1262.39 1556.71 1265.03 1560.4 Q1267.71 1564.07 1272.35 1564.07 Q1277 1564.07 1279.64 1560.4 Q1282.32 1556.71 1282.32 1550.25 Z\" fill=\"#000000\" fill-rule=\"nonzero\" fill-opacity=\"1\" /><path clip-path=\"url(#clip610)\" d=\"M1298.1 1532.4 L1303.96 1532.4 L1303.96 1568.04 L1298.1 1568.04 L1298.1 1532.4 M1298.1 1518.52 L1303.96 1518.52 L1303.96 1525.93 L1298.1 1525.93 L1298.1 1518.52 Z\" fill=\"#000000\" fill-rule=\"nonzero\" fill-opacity=\"1\" /><path clip-path=\"url(#clip610)\" d=\"M1322.01 1522.27 L1322.01 1532.4 L1334.07 1532.4 L1334.07 1536.95 L1322.01 1536.95 L1322.01 1556.3 Q1322.01 1560.66 1323.18 1561.9 Q1324.39 1563.14 1328.05 1563.14 L1334.07 1563.14 L1334.07 1568.04 L1328.05 1568.04 Q1321.27 1568.04 1318.7 1565.53 Q1316.12 1562.98 1316.12 1556.3 L1316.12 1536.95 L1311.82 1536.95 L1311.82 1532.4 L1316.12 1532.4 L1316.12 1522.27 L1322.01 1522.27 Z\" fill=\"#000000\" fill-rule=\"nonzero\" fill-opacity=\"1\" /><path clip-path=\"url(#clip610)\" d=\"M1357.97 1550.12 Q1350.87 1550.12 1348.14 1551.75 Q1345.4 1553.37 1345.4 1557.29 Q1345.4 1560.4 1347.44 1562.25 Q1349.51 1564.07 1353.04 1564.07 Q1357.91 1564.07 1360.84 1560.63 Q1363.8 1557.16 1363.8 1551.43 L1363.8 1550.12 L1357.97 1550.12 M1369.65 1547.71 L1369.65 1568.04 L1363.8 1568.04 L1363.8 1562.63 Q1361.79 1565.88 1358.8 1567.44 Q1355.81 1568.97 1351.48 1568.97 Q1346 1568.97 1342.76 1565.91 Q1339.54 1562.82 1339.54 1557.67 Q1339.54 1551.65 1343.55 1548.6 Q1347.6 1545.54 1355.58 1545.54 L1363.8 1545.54 L1363.8 1544.97 Q1363.8 1540.93 1361.12 1538.73 Q1358.48 1536.5 1353.67 1536.5 Q1350.62 1536.5 1347.72 1537.23 Q1344.83 1537.97 1342.15 1539.43 L1342.15 1534.02 Q1345.37 1532.78 1348.39 1532.17 Q1351.41 1531.54 1354.28 1531.54 Q1362.01 1531.54 1365.83 1535.55 Q1369.65 1539.56 1369.65 1547.71 Z\" fill=\"#000000\" fill-rule=\"nonzero\" fill-opacity=\"1\" /><path clip-path=\"url(#clip610)\" d=\"M1381.72 1518.52 L1387.57 1518.52 L1387.57 1568.04 L1381.72 1568.04 L1381.72 1518.52 Z\" fill=\"#000000\" fill-rule=\"nonzero\" fill-opacity=\"1\" /><path clip-path=\"url(#clip610)\" d=\"M1443.27 1533.45 L1443.27 1538.98 Q1440.79 1537.71 1438.12 1537.07 Q1435.44 1536.44 1432.58 1536.44 Q1428.22 1536.44 1426.02 1537.77 Q1423.86 1539.11 1423.86 1541.79 Q1423.86 1543.82 1425.42 1545 Q1426.98 1546.15 1431.69 1547.2 L1433.69 1547.64 Q1439.93 1548.98 1442.54 1551.43 Q1445.18 1553.85 1445.18 1558.21 Q1445.18 1563.17 1441.24 1566.07 Q1437.32 1568.97 1430.45 1568.97 Q1427.58 1568.97 1424.46 1568.39 Q1421.37 1567.85 1417.94 1566.74 L1417.94 1560.69 Q1421.18 1562.38 1424.33 1563.24 Q1427.49 1564.07 1430.57 1564.07 Q1434.71 1564.07 1436.94 1562.66 Q1439.17 1561.23 1439.17 1558.65 Q1439.17 1556.27 1437.54 1554.99 Q1435.95 1553.72 1430.51 1552.54 L1428.47 1552.07 Q1423.03 1550.92 1420.61 1548.56 Q1418.19 1546.18 1418.19 1542.04 Q1418.19 1537.01 1421.76 1534.27 Q1425.32 1531.54 1431.88 1531.54 Q1435.12 1531.54 1437.99 1532.01 Q1440.85 1532.49 1443.27 1533.45 Z\" fill=\"#000000\" fill-rule=\"nonzero\" fill-opacity=\"1\" /><path clip-path=\"url(#clip610)\" d=\"M1460.3 1522.27 L1460.3 1532.4 L1472.36 1532.4 L1472.36 1536.95 L1460.3 1536.95 L1460.3 1556.3 Q1460.3 1560.66 1461.48 1561.9 Q1462.69 1563.14 1466.35 1563.14 L1472.36 1563.14 L1472.36 1568.04 L1466.35 1568.04 Q1459.57 1568.04 1456.99 1565.53 Q1454.41 1562.98 1454.41 1556.3 L1454.41 1536.95 L1450.12 1536.95 L1450.12 1532.4 L1454.41 1532.4 L1454.41 1522.27 L1460.3 1522.27 Z\" fill=\"#000000\" fill-rule=\"nonzero\" fill-opacity=\"1\" /><path clip-path=\"url(#clip610)\" d=\"M1493.88 1536.5 Q1489.17 1536.5 1486.43 1540.19 Q1483.69 1543.85 1483.69 1550.25 Q1483.69 1556.65 1486.4 1560.34 Q1489.14 1564 1493.88 1564 Q1498.56 1564 1501.3 1560.31 Q1504.03 1556.62 1504.03 1550.25 Q1504.03 1543.92 1501.3 1540.23 Q1498.56 1536.5 1493.88 1536.5 M1493.88 1531.54 Q1501.52 1531.54 1505.88 1536.5 Q1510.24 1541.47 1510.24 1550.25 Q1510.24 1559 1505.88 1564 Q1501.52 1568.97 1493.88 1568.97 Q1486.21 1568.97 1481.85 1564 Q1477.52 1559 1477.52 1550.25 Q1477.52 1541.47 1481.85 1536.5 Q1486.21 1531.54 1493.88 1531.54 Z\" fill=\"#000000\" fill-rule=\"nonzero\" fill-opacity=\"1\" /><path clip-path=\"url(#clip610)\" d=\"M1545.6 1533.76 L1545.6 1539.24 Q1543.12 1537.87 1540.6 1537.2 Q1538.12 1536.5 1535.57 1536.5 Q1529.88 1536.5 1526.73 1540.13 Q1523.58 1543.73 1523.58 1550.25 Q1523.58 1556.78 1526.73 1560.4 Q1529.88 1564 1535.57 1564 Q1538.12 1564 1540.6 1563.33 Q1543.12 1562.63 1545.6 1561.26 L1545.6 1566.68 Q1543.15 1567.82 1540.51 1568.39 Q1537.9 1568.97 1534.94 1568.97 Q1526.89 1568.97 1522.14 1563.91 Q1517.4 1558.85 1517.4 1550.25 Q1517.4 1541.53 1522.17 1536.53 Q1526.98 1531.54 1535.32 1531.54 Q1538.03 1531.54 1540.6 1532.11 Q1543.18 1532.65 1545.6 1533.76 Z\" fill=\"#000000\" fill-rule=\"nonzero\" fill-opacity=\"1\" /><path clip-path=\"url(#clip610)\" d=\"M1555.56 1518.52 L1561.45 1518.52 L1561.45 1547.77 L1578.93 1532.4 L1586.4 1532.4 L1567.5 1549.07 L1587.2 1568.04 L1579.56 1568.04 L1561.45 1550.63 L1561.45 1568.04 L1555.56 1568.04 L1555.56 1518.52 Z\" fill=\"#000000\" fill-rule=\"nonzero\" fill-opacity=\"1\" /><path clip-path=\"url(#clip610)\" d=\"M1595.03 1559.96 L1601.75 1559.96 L1601.75 1565.43 L1596.53 1575.62 L1592.42 1575.62 L1595.03 1565.43 L1595.03 1559.96 Z\" fill=\"#000000\" fill-rule=\"nonzero\" fill-opacity=\"1\" /><path clip-path=\"url(#clip610)\" d=\"M1634.75 1518.52 L1640.64 1518.52 L1640.64 1547.77 L1658.11 1532.4 L1665.59 1532.4 L1646.69 1549.07 L1666.39 1568.04 L1658.75 1568.04 L1640.64 1550.63 L1640.64 1568.04 L1634.75 1568.04 L1634.75 1518.52 Z\" fill=\"#000000\" fill-rule=\"nonzero\" fill-opacity=\"1\" /><polyline clip-path=\"url(#clip612)\" style=\"stroke:#000000; stroke-linecap:round; stroke-linejoin:round; stroke-width:2; stroke-opacity:0.1; fill:none\" points=\"247.459,1385.49 2352.76,1385.49 \"/>\n",
       "<polyline clip-path=\"url(#clip612)\" style=\"stroke:#000000; stroke-linecap:round; stroke-linejoin:round; stroke-width:2; stroke-opacity:0.1; fill:none\" points=\"247.459,1073.68 2352.76,1073.68 \"/>\n",
       "<polyline clip-path=\"url(#clip612)\" style=\"stroke:#000000; stroke-linecap:round; stroke-linejoin:round; stroke-width:2; stroke-opacity:0.1; fill:none\" points=\"247.459,761.88 2352.76,761.88 \"/>\n",
       "<polyline clip-path=\"url(#clip612)\" style=\"stroke:#000000; stroke-linecap:round; stroke-linejoin:round; stroke-width:2; stroke-opacity:0.1; fill:none\" points=\"247.459,450.077 2352.76,450.077 \"/>\n",
       "<polyline clip-path=\"url(#clip612)\" style=\"stroke:#000000; stroke-linecap:round; stroke-linejoin:round; stroke-width:2; stroke-opacity:0.1; fill:none\" points=\"247.459,138.274 2352.76,138.274 \"/>\n",
       "<polyline clip-path=\"url(#clip610)\" style=\"stroke:#000000; stroke-linecap:round; stroke-linejoin:round; stroke-width:4; stroke-opacity:1; fill:none\" points=\"247.459,1423.18 247.459,47.2441 \"/>\n",
       "<polyline clip-path=\"url(#clip610)\" style=\"stroke:#000000; stroke-linecap:round; stroke-linejoin:round; stroke-width:4; stroke-opacity:1; fill:none\" points=\"247.459,1385.49 266.356,1385.49 \"/>\n",
       "<polyline clip-path=\"url(#clip610)\" style=\"stroke:#000000; stroke-linecap:round; stroke-linejoin:round; stroke-width:4; stroke-opacity:1; fill:none\" points=\"247.459,1073.68 266.356,1073.68 \"/>\n",
       "<polyline clip-path=\"url(#clip610)\" style=\"stroke:#000000; stroke-linecap:round; stroke-linejoin:round; stroke-width:4; stroke-opacity:1; fill:none\" points=\"247.459,761.88 266.356,761.88 \"/>\n",
       "<polyline clip-path=\"url(#clip610)\" style=\"stroke:#000000; stroke-linecap:round; stroke-linejoin:round; stroke-width:4; stroke-opacity:1; fill:none\" points=\"247.459,450.077 266.356,450.077 \"/>\n",
       "<polyline clip-path=\"url(#clip610)\" style=\"stroke:#000000; stroke-linecap:round; stroke-linejoin:round; stroke-width:4; stroke-opacity:1; fill:none\" points=\"247.459,138.274 266.356,138.274 \"/>\n",
       "<path clip-path=\"url(#clip610)\" d=\"M154.283 1371.28 Q150.672 1371.28 148.843 1374.85 Q147.038 1378.39 147.038 1385.52 Q147.038 1392.63 148.843 1396.19 Q150.672 1399.73 154.283 1399.73 Q157.917 1399.73 159.723 1396.19 Q161.552 1392.63 161.552 1385.52 Q161.552 1378.39 159.723 1374.85 Q157.917 1371.28 154.283 1371.28 M154.283 1367.58 Q160.093 1367.58 163.149 1372.19 Q166.227 1376.77 166.227 1385.52 Q166.227 1394.25 163.149 1398.85 Q160.093 1403.44 154.283 1403.44 Q148.473 1403.44 145.394 1398.85 Q142.339 1394.25 142.339 1385.52 Q142.339 1376.77 145.394 1372.19 Q148.473 1367.58 154.283 1367.58 Z\" fill=\"#000000\" fill-rule=\"nonzero\" fill-opacity=\"1\" /><path clip-path=\"url(#clip610)\" d=\"M174.445 1396.89 L179.329 1396.89 L179.329 1402.77 L174.445 1402.77 L174.445 1396.89 Z\" fill=\"#000000\" fill-rule=\"nonzero\" fill-opacity=\"1\" /><path clip-path=\"url(#clip610)\" d=\"M199.514 1371.28 Q195.903 1371.28 194.075 1374.85 Q192.269 1378.39 192.269 1385.52 Q192.269 1392.63 194.075 1396.19 Q195.903 1399.73 199.514 1399.73 Q203.149 1399.73 204.954 1396.19 Q206.783 1392.63 206.783 1385.52 Q206.783 1378.39 204.954 1374.85 Q203.149 1371.28 199.514 1371.28 M199.514 1367.58 Q205.324 1367.58 208.38 1372.19 Q211.459 1376.77 211.459 1385.52 Q211.459 1394.25 208.38 1398.85 Q205.324 1403.44 199.514 1403.44 Q193.704 1403.44 190.625 1398.85 Q187.57 1394.25 187.57 1385.52 Q187.57 1376.77 190.625 1372.19 Q193.704 1367.58 199.514 1367.58 Z\" fill=\"#000000\" fill-rule=\"nonzero\" fill-opacity=\"1\" /><path clip-path=\"url(#clip610)\" d=\"M149.306 1087.03 L165.626 1087.03 L165.626 1090.96 L143.681 1090.96 L143.681 1087.03 Q146.343 1084.27 150.927 1079.64 Q155.533 1074.99 156.714 1073.65 Q158.959 1071.12 159.839 1069.39 Q160.741 1067.63 160.741 1065.94 Q160.741 1063.18 158.797 1061.45 Q156.876 1059.71 153.774 1059.71 Q151.575 1059.71 149.121 1060.48 Q146.691 1061.24 143.913 1062.79 L143.913 1058.07 Q146.737 1056.94 149.191 1056.36 Q151.644 1055.78 153.681 1055.78 Q159.052 1055.78 162.246 1058.46 Q165.44 1061.15 165.44 1065.64 Q165.44 1067.77 164.63 1069.69 Q163.843 1071.59 161.737 1074.18 Q161.158 1074.85 158.056 1078.07 Q154.954 1081.26 149.306 1087.03 Z\" fill=\"#000000\" fill-rule=\"nonzero\" fill-opacity=\"1\" /><path clip-path=\"url(#clip610)\" d=\"M175.44 1085.08 L180.325 1085.08 L180.325 1090.96 L175.44 1090.96 L175.44 1085.08 Z\" fill=\"#000000\" fill-rule=\"nonzero\" fill-opacity=\"1\" /><path clip-path=\"url(#clip610)\" d=\"M190.556 1056.4 L208.912 1056.4 L208.912 1060.34 L194.838 1060.34 L194.838 1068.81 Q195.857 1068.46 196.875 1068.3 Q197.894 1068.12 198.912 1068.12 Q204.699 1068.12 208.079 1071.29 Q211.459 1074.46 211.459 1079.87 Q211.459 1085.45 207.987 1088.56 Q204.514 1091.63 198.195 1091.63 Q196.019 1091.63 193.75 1091.26 Q191.505 1090.89 189.098 1090.15 L189.098 1085.45 Q191.181 1086.59 193.403 1087.14 Q195.625 1087.7 198.102 1087.7 Q202.107 1087.7 204.445 1085.59 Q206.783 1083.49 206.783 1079.87 Q206.783 1076.26 204.445 1074.16 Q202.107 1072.05 198.102 1072.05 Q196.227 1072.05 194.352 1072.47 Q192.5 1072.88 190.556 1073.76 L190.556 1056.4 Z\" fill=\"#000000\" fill-rule=\"nonzero\" fill-opacity=\"1\" /><path clip-path=\"url(#clip610)\" d=\"M144.329 744.6 L162.686 744.6 L162.686 748.535 L148.612 748.535 L148.612 757.007 Q149.63 756.66 150.649 756.498 Q151.667 756.313 152.686 756.313 Q158.473 756.313 161.852 759.484 Q165.232 762.655 165.232 768.072 Q165.232 773.651 161.76 776.752 Q158.288 779.831 151.968 779.831 Q149.792 779.831 147.524 779.461 Q145.279 779.09 142.871 778.35 L142.871 773.651 Q144.954 774.785 147.177 775.34 Q149.399 775.896 151.876 775.896 Q155.88 775.896 158.218 773.789 Q160.556 771.683 160.556 768.072 Q160.556 764.461 158.218 762.354 Q155.88 760.248 151.876 760.248 Q150.001 760.248 148.126 760.665 Q146.274 761.081 144.329 761.961 L144.329 744.6 Z\" fill=\"#000000\" fill-rule=\"nonzero\" fill-opacity=\"1\" /><path clip-path=\"url(#clip610)\" d=\"M174.445 773.28 L179.329 773.28 L179.329 779.16 L174.445 779.16 L174.445 773.28 Z\" fill=\"#000000\" fill-rule=\"nonzero\" fill-opacity=\"1\" /><path clip-path=\"url(#clip610)\" d=\"M199.514 747.678 Q195.903 747.678 194.075 751.243 Q192.269 754.785 192.269 761.914 Q192.269 769.021 194.075 772.586 Q195.903 776.127 199.514 776.127 Q203.149 776.127 204.954 772.586 Q206.783 769.021 206.783 761.914 Q206.783 754.785 204.954 751.243 Q203.149 747.678 199.514 747.678 M199.514 743.975 Q205.324 743.975 208.38 748.581 Q211.459 753.165 211.459 761.914 Q211.459 770.641 208.38 775.248 Q205.324 779.831 199.514 779.831 Q193.704 779.831 190.625 775.248 Q187.57 770.641 187.57 761.914 Q187.57 753.165 190.625 748.581 Q193.704 743.975 199.514 743.975 Z\" fill=\"#000000\" fill-rule=\"nonzero\" fill-opacity=\"1\" /><path clip-path=\"url(#clip610)\" d=\"M144.098 432.797 L166.32 432.797 L166.32 434.788 L153.774 467.357 L148.89 467.357 L160.695 436.732 L144.098 436.732 L144.098 432.797 Z\" fill=\"#000000\" fill-rule=\"nonzero\" fill-opacity=\"1\" /><path clip-path=\"url(#clip610)\" d=\"M175.44 461.477 L180.325 461.477 L180.325 467.357 L175.44 467.357 L175.44 461.477 Z\" fill=\"#000000\" fill-rule=\"nonzero\" fill-opacity=\"1\" /><path clip-path=\"url(#clip610)\" d=\"M190.556 432.797 L208.912 432.797 L208.912 436.732 L194.838 436.732 L194.838 445.204 Q195.857 444.857 196.875 444.695 Q197.894 444.51 198.912 444.51 Q204.699 444.51 208.079 447.681 Q211.459 450.852 211.459 456.269 Q211.459 461.848 207.987 464.95 Q204.514 468.028 198.195 468.028 Q196.019 468.028 193.75 467.658 Q191.505 467.287 189.098 466.547 L189.098 461.848 Q191.181 462.982 193.403 463.537 Q195.625 464.093 198.102 464.093 Q202.107 464.093 204.445 461.987 Q206.783 459.88 206.783 456.269 Q206.783 452.658 204.445 450.551 Q202.107 448.445 198.102 448.445 Q196.227 448.445 194.352 448.862 Q192.5 449.278 190.556 450.158 L190.556 432.797 Z\" fill=\"#000000\" fill-rule=\"nonzero\" fill-opacity=\"1\" /><path clip-path=\"url(#clip610)\" d=\"M114.931 151.619 L122.57 151.619 L122.57 125.253 L114.26 126.92 L114.26 122.661 L122.524 120.994 L127.2 120.994 L127.2 151.619 L134.839 151.619 L134.839 155.554 L114.931 155.554 L114.931 151.619 Z\" fill=\"#000000\" fill-rule=\"nonzero\" fill-opacity=\"1\" /><path clip-path=\"url(#clip610)\" d=\"M154.283 124.073 Q150.672 124.073 148.843 127.638 Q147.038 131.179 147.038 138.309 Q147.038 145.415 148.843 148.98 Q150.672 152.522 154.283 152.522 Q157.917 152.522 159.723 148.98 Q161.552 145.415 161.552 138.309 Q161.552 131.179 159.723 127.638 Q157.917 124.073 154.283 124.073 M154.283 120.369 Q160.093 120.369 163.149 124.976 Q166.227 129.559 166.227 138.309 Q166.227 147.036 163.149 151.642 Q160.093 156.225 154.283 156.225 Q148.473 156.225 145.394 151.642 Q142.339 147.036 142.339 138.309 Q142.339 129.559 145.394 124.976 Q148.473 120.369 154.283 120.369 Z\" fill=\"#000000\" fill-rule=\"nonzero\" fill-opacity=\"1\" /><path clip-path=\"url(#clip610)\" d=\"M174.445 149.674 L179.329 149.674 L179.329 155.554 L174.445 155.554 L174.445 149.674 Z\" fill=\"#000000\" fill-rule=\"nonzero\" fill-opacity=\"1\" /><path clip-path=\"url(#clip610)\" d=\"M199.514 124.073 Q195.903 124.073 194.075 127.638 Q192.269 131.179 192.269 138.309 Q192.269 145.415 194.075 148.98 Q195.903 152.522 199.514 152.522 Q203.149 152.522 204.954 148.98 Q206.783 145.415 206.783 138.309 Q206.783 131.179 204.954 127.638 Q203.149 124.073 199.514 124.073 M199.514 120.369 Q205.324 120.369 208.38 124.976 Q211.459 129.559 211.459 138.309 Q211.459 147.036 208.38 151.642 Q205.324 156.225 199.514 156.225 Q193.704 156.225 190.625 151.642 Q187.57 147.036 187.57 138.309 Q187.57 129.559 190.625 124.976 Q193.704 120.369 199.514 120.369 Z\" fill=\"#000000\" fill-rule=\"nonzero\" fill-opacity=\"1\" /><path clip-path=\"url(#clip610)\" d=\"M21.7677 1008.27 L39.6235 1008.27 L39.6235 1000.18 Q39.6235 995.697 37.3 993.246 Q34.9765 990.795 30.6797 990.795 Q26.4147 990.795 24.0912 993.246 Q21.7677 995.697 21.7677 1000.18 L21.7677 1008.27 M16.4842 1014.7 L16.4842 1000.18 Q16.4842 992.196 20.1126 988.121 Q23.7092 984.016 30.6797 984.016 Q37.7138 984.016 41.3104 988.121 Q44.907 992.196 44.907 1000.18 L44.907 1008.27 L64.0042 1008.27 L64.0042 1014.7 L16.4842 1014.7 Z\" fill=\"#000000\" fill-rule=\"nonzero\" fill-opacity=\"1\" /><path clip-path=\"url(#clip610)\" d=\"M32.4621 964.155 Q32.4621 968.865 36.1542 971.602 Q39.8145 974.34 46.212 974.34 Q52.6095 974.34 56.3017 971.634 Q59.9619 968.897 59.9619 964.155 Q59.9619 959.476 56.2698 956.739 Q52.5777 954.001 46.212 954.001 Q39.8781 954.001 36.186 956.739 Q32.4621 959.476 32.4621 964.155 M27.4968 964.155 Q27.4968 956.516 32.4621 952.155 Q37.4273 947.795 46.212 947.795 Q54.9649 947.795 59.9619 952.155 Q64.9272 956.516 64.9272 964.155 Q64.9272 971.825 59.9619 976.186 Q54.9649 980.514 46.212 980.514 Q37.4273 980.514 32.4621 976.186 Q27.4968 971.825 27.4968 964.155 Z\" fill=\"#000000\" fill-rule=\"nonzero\" fill-opacity=\"1\" /><path clip-path=\"url(#clip610)\" d=\"M14.479 938.087 L14.479 932.231 L64.0042 932.231 L64.0042 938.087 L14.479 938.087 Z\" fill=\"#000000\" fill-rule=\"nonzero\" fill-opacity=\"1\" /><path clip-path=\"url(#clip610)\" d=\"M28.3562 919.977 L28.3562 914.12 L64.0042 914.12 L64.0042 919.977 L28.3562 919.977 M14.479 919.977 L14.479 914.12 L21.895 914.12 L21.895 919.977 L14.479 919.977 Z\" fill=\"#000000\" fill-rule=\"nonzero\" fill-opacity=\"1\" /><path clip-path=\"url(#clip610)\" d=\"M29.7248 876.212 L35.1993 876.212 Q33.8307 878.695 33.1623 881.209 Q32.4621 883.692 32.4621 886.238 Q32.4621 891.936 36.0905 895.087 Q39.6872 898.238 46.212 898.238 Q52.7369 898.238 56.3653 895.087 Q59.9619 891.936 59.9619 886.238 Q59.9619 883.692 59.2935 881.209 Q58.5933 878.695 57.2247 876.212 L62.6355 876.212 Q63.7814 878.663 64.3543 881.305 Q64.9272 883.915 64.9272 886.875 Q64.9272 894.928 59.8664 899.67 Q54.8057 904.412 46.212 904.412 Q37.491 904.412 32.4939 899.638 Q27.4968 894.832 27.4968 886.493 Q27.4968 883.788 28.0697 881.209 Q28.6108 878.631 29.7248 876.212 Z\" fill=\"#000000\" fill-rule=\"nonzero\" fill-opacity=\"1\" /><path clip-path=\"url(#clip610)\" d=\"M67.3143 851.195 Q73.68 853.678 75.6216 856.033 Q77.5631 858.388 77.5631 862.335 L77.5631 867.014 L72.6615 867.014 L72.6615 863.576 Q72.6615 861.157 71.5157 859.821 Q70.3699 858.484 66.1048 856.861 L63.4312 855.81 L28.3562 870.229 L28.3562 864.022 L56.238 852.882 L28.3562 841.742 L28.3562 835.536 L67.3143 851.195 Z\" fill=\"#000000\" fill-rule=\"nonzero\" fill-opacity=\"1\" /><path clip-path=\"url(#clip610)\" d=\"M14.479 788.684 L19.3487 788.684 L19.3487 794.286 Q19.3487 797.437 20.6219 798.678 Q21.895 799.888 25.2052 799.888 L28.3562 799.888 L28.3562 790.244 L32.9077 790.244 L32.9077 799.888 L64.0042 799.888 L64.0042 805.776 L32.9077 805.776 L32.9077 811.378 L28.3562 811.378 L28.3562 805.776 L25.8736 805.776 Q19.9216 805.776 17.2162 803.007 Q14.479 800.238 14.479 794.222 L14.479 788.684 Z\" fill=\"#000000\" fill-rule=\"nonzero\" fill-opacity=\"1\" /><path clip-path=\"url(#clip610)\" d=\"M49.9359 784.387 L28.3562 784.387 L28.3562 778.531 L49.7131 778.531 Q54.7739 778.531 57.3202 776.557 Q59.8346 774.584 59.8346 770.637 Q59.8346 765.895 56.8109 763.157 Q53.7872 760.388 48.5673 760.388 L28.3562 760.388 L28.3562 754.532 L64.0042 754.532 L64.0042 760.388 L58.5296 760.388 Q61.7762 762.521 63.3676 765.354 Q64.9272 768.155 64.9272 771.878 Q64.9272 778.021 61.1078 781.204 Q57.2883 784.387 49.9359 784.387 M27.4968 769.65 L27.4968 769.65 Z\" fill=\"#000000\" fill-rule=\"nonzero\" fill-opacity=\"1\" /><path clip-path=\"url(#clip610)\" d=\"M42.4881 712.837 L64.0042 712.837 L64.0042 718.693 L42.679 718.693 Q37.6183 718.693 35.1038 720.666 Q32.5894 722.64 32.5894 726.586 Q32.5894 731.329 35.6131 734.066 Q38.6368 736.803 43.8567 736.803 L64.0042 736.803 L64.0042 742.692 L28.3562 742.692 L28.3562 736.803 L33.8944 736.803 Q30.6797 734.703 29.0883 731.87 Q27.4968 729.005 27.4968 725.281 Q27.4968 719.139 31.3163 715.988 Q35.1038 712.837 42.4881 712.837 Z\" fill=\"#000000\" fill-rule=\"nonzero\" fill-opacity=\"1\" /><path clip-path=\"url(#clip610)\" d=\"M29.7248 675.502 L35.1993 675.502 Q33.8307 677.984 33.1623 680.499 Q32.4621 682.981 32.4621 685.528 Q32.4621 691.225 36.0905 694.376 Q39.6872 697.527 46.212 697.527 Q52.7369 697.527 56.3653 694.376 Q59.9619 691.225 59.9619 685.528 Q59.9619 682.981 59.2935 680.499 Q58.5933 677.984 57.2247 675.502 L62.6355 675.502 Q63.7814 677.952 64.3543 680.594 Q64.9272 683.204 64.9272 686.164 Q64.9272 694.217 59.8664 698.959 Q54.8057 703.702 46.212 703.702 Q37.491 703.702 32.4939 698.927 Q27.4968 694.121 27.4968 685.782 Q27.4968 683.077 28.0697 680.499 Q28.6108 677.921 29.7248 675.502 Z\" fill=\"#000000\" fill-rule=\"nonzero\" fill-opacity=\"1\" /><path clip-path=\"url(#clip610)\" d=\"M18.2347 659.524 L28.3562 659.524 L28.3562 647.461 L32.9077 647.461 L32.9077 659.524 L52.2594 659.524 Q56.6199 659.524 57.8613 658.346 Q59.1026 657.137 59.1026 653.476 L59.1026 647.461 L64.0042 647.461 L64.0042 653.476 Q64.0042 660.256 61.4897 662.834 Q58.9434 665.412 52.2594 665.412 L32.9077 665.412 L32.9077 669.709 L28.3562 669.709 L28.3562 665.412 L18.2347 665.412 L18.2347 659.524 Z\" fill=\"#000000\" fill-rule=\"nonzero\" fill-opacity=\"1\" /><path clip-path=\"url(#clip610)\" d=\"M28.3562 639.758 L28.3562 633.902 L64.0042 633.902 L64.0042 639.758 L28.3562 639.758 M14.479 639.758 L14.479 633.902 L21.895 633.902 L21.895 639.758 L14.479 639.758 Z\" fill=\"#000000\" fill-rule=\"nonzero\" fill-opacity=\"1\" /><path clip-path=\"url(#clip610)\" d=\"M32.4621 607.834 Q32.4621 612.545 36.1542 615.282 Q39.8145 618.019 46.212 618.019 Q52.6095 618.019 56.3017 615.314 Q59.9619 612.577 59.9619 607.834 Q59.9619 603.155 56.2698 600.418 Q52.5777 597.681 46.212 597.681 Q39.8781 597.681 36.186 600.418 Q32.4621 603.155 32.4621 607.834 M27.4968 607.834 Q27.4968 600.195 32.4621 595.835 Q37.4273 591.474 46.212 591.474 Q54.9649 591.474 59.9619 595.835 Q64.9272 600.195 64.9272 607.834 Q64.9272 615.505 59.9619 619.865 Q54.9649 624.194 46.212 624.194 Q37.4273 624.194 32.4621 619.865 Q27.4968 615.505 27.4968 607.834 Z\" fill=\"#000000\" fill-rule=\"nonzero\" fill-opacity=\"1\" /><path clip-path=\"url(#clip610)\" d=\"M42.4881 552.134 L64.0042 552.134 L64.0042 557.991 L42.679 557.991 Q37.6183 557.991 35.1038 559.964 Q32.5894 561.937 32.5894 565.884 Q32.5894 570.627 35.6131 573.364 Q38.6368 576.101 43.8567 576.101 L64.0042 576.101 L64.0042 581.989 L28.3562 581.989 L28.3562 576.101 L33.8944 576.101 Q30.6797 574 29.0883 571.168 Q27.4968 568.303 27.4968 564.579 Q27.4968 558.436 31.3163 555.285 Q35.1038 552.134 42.4881 552.134 Z\" fill=\"#000000\" fill-rule=\"nonzero\" fill-opacity=\"1\" /><path clip-path=\"url(#clip610)\" d=\"M55.9197 538.957 L55.9197 532.241 L61.3942 532.241 L71.5793 537.461 L71.5793 541.567 L61.3942 538.957 L55.9197 538.957 Z\" fill=\"#000000\" fill-rule=\"nonzero\" fill-opacity=\"1\" /><path clip-path=\"url(#clip610)\" d=\"M14.479 499.235 L14.479 493.347 L43.7294 493.347 L28.3562 475.873 L28.3562 468.393 L45.0344 487.3 L64.0042 467.598 L64.0042 475.237 L46.5939 493.347 L64.0042 493.347 L64.0042 499.235 L14.479 499.235 Z\" fill=\"#000000\" fill-rule=\"nonzero\" fill-opacity=\"1\" /><path clip-path=\"url(#clip610)\" d=\"M16.4842 455.726 L34.149 455.726 L34.149 461.136 L16.4842 461.136 L16.4842 455.726 Z\" fill=\"#000000\" fill-rule=\"nonzero\" fill-opacity=\"1\" /><polyline clip-path=\"url(#clip612)\" style=\"stroke:#6b9e32; stroke-linecap:round; stroke-linejoin:round; stroke-width:8; stroke-opacity:1; fill:none\" points=\"307.043,1384.24 327.105,1348.18 347.166,1330.15 367.228,1312.12 387.29,1294.1 407.352,1258.04 427.414,1240.01 447.476,1221.98 467.538,1203.95 487.6,1185.92 507.662,1167.9 527.724,1167.9 547.786,1149.87 567.847,1131.84 587.909,1113.81 607.971,1095.78 628.033,1077.75 648.095,1059.73 668.157,1041.7 688.219,1023.67 708.281,1023.67 728.343,1005.64 748.405,1005.64 768.467,987.611 788.529,969.583 808.59,951.554 828.652,933.526 848.714,915.497 868.776,915.497 888.838,897.469 908.9,879.44 928.962,861.412 949.024,861.412 969.086,843.383 989.148,825.355 1009.21,807.326 1029.27,807.326 1049.33,789.297 1069.4,789.297 1089.46,771.269 1109.52,753.24 1129.58,735.212 1149.64,717.183 1169.7,717.183 1189.77,699.155 1209.83,681.126 1229.89,681.126 1249.95,663.098 1270.01,645.069 1290.08,645.069 1310.14,627.041 1330.2,609.012 1350.26,609.012 1370.32,590.984 1390.39,590.984 1410.45,572.955 1430.51,554.927 1450.57,536.898 1470.63,536.898 1490.7,518.87 1510.76,500.841 1530.82,500.841 1550.88,482.813 1570.94,464.784 1591.01,464.784 1611.07,446.756 1631.13,446.756 1651.19,428.727 1671.25,428.727 1691.31,410.699 1711.38,392.67 1731.44,374.642 1751.5,374.642 1771.56,356.613 1791.62,356.613 1811.69,338.585 1831.75,320.556 1851.81,320.556 1871.87,302.528 1891.93,284.499 1912,284.499 1932.06,266.471 1952.12,266.471 1972.18,248.442 1992.24,230.414 2012.31,230.414 2032.37,212.385 2052.43,212.385 2072.49,194.357 2092.55,194.357 2112.61,176.328 2132.68,176.328 2152.74,158.3 2172.8,140.271 2192.86,122.243 2212.92,122.243 2232.99,104.214 2253.05,104.214 2273.11,86.1857 2293.17,86.1857 \"/>\n",
       "</svg>\n"
      ],
      "text/html": [
       "<?xml version=\"1.0\" encoding=\"utf-8\"?>\n",
       "<svg xmlns=\"http://www.w3.org/2000/svg\" xmlns:xlink=\"http://www.w3.org/1999/xlink\" width=\"600\" height=\"400\" viewBox=\"0 0 2400 1600\">\n",
       "<defs>\n",
       "  <clipPath id=\"clip660\">\n",
       "    <rect x=\"0\" y=\"0\" width=\"2400\" height=\"1600\"/>\n",
       "  </clipPath>\n",
       "</defs>\n",
       "<path clip-path=\"url(#clip660)\" d=\"M0 1600 L2400 1600 L2400 8.88178e-14 L0 8.88178e-14  Z\" fill=\"#ffffff\" fill-rule=\"evenodd\" fill-opacity=\"1\"/>\n",
       "<defs>\n",
       "  <clipPath id=\"clip661\">\n",
       "    <rect x=\"480\" y=\"0\" width=\"1681\" height=\"1600\"/>\n",
       "  </clipPath>\n",
       "</defs>\n",
       "<path clip-path=\"url(#clip660)\" d=\"M247.459 1423.18 L2352.76 1423.18 L2352.76 47.2441 L247.459 47.2441  Z\" fill=\"#ffffff\" fill-rule=\"evenodd\" fill-opacity=\"1\"/>\n",
       "<defs>\n",
       "  <clipPath id=\"clip662\">\n",
       "    <rect x=\"247\" y=\"47\" width=\"2106\" height=\"1377\"/>\n",
       "  </clipPath>\n",
       "</defs>\n",
       "<polyline clip-path=\"url(#clip662)\" style=\"stroke:#000000; stroke-linecap:round; stroke-linejoin:round; stroke-width:2; stroke-opacity:0.1; fill:none\" points=\"305.655,1423.18 305.655,47.2441 \"/>\n",
       "<polyline clip-path=\"url(#clip662)\" style=\"stroke:#000000; stroke-linecap:round; stroke-linejoin:round; stroke-width:2; stroke-opacity:0.1; fill:none\" points=\"722.019,1423.18 722.019,47.2441 \"/>\n",
       "<polyline clip-path=\"url(#clip662)\" style=\"stroke:#000000; stroke-linecap:round; stroke-linejoin:round; stroke-width:2; stroke-opacity:0.1; fill:none\" points=\"1138.38,1423.18 1138.38,47.2441 \"/>\n",
       "<polyline clip-path=\"url(#clip662)\" style=\"stroke:#000000; stroke-linecap:round; stroke-linejoin:round; stroke-width:2; stroke-opacity:0.1; fill:none\" points=\"1554.75,1423.18 1554.75,47.2441 \"/>\n",
       "<polyline clip-path=\"url(#clip662)\" style=\"stroke:#000000; stroke-linecap:round; stroke-linejoin:round; stroke-width:2; stroke-opacity:0.1; fill:none\" points=\"1971.11,1423.18 1971.11,47.2441 \"/>\n",
       "<polyline clip-path=\"url(#clip660)\" style=\"stroke:#000000; stroke-linecap:round; stroke-linejoin:round; stroke-width:4; stroke-opacity:1; fill:none\" points=\"247.459,1423.18 2352.76,1423.18 \"/>\n",
       "<polyline clip-path=\"url(#clip660)\" style=\"stroke:#000000; stroke-linecap:round; stroke-linejoin:round; stroke-width:4; stroke-opacity:1; fill:none\" points=\"305.655,1423.18 305.655,1404.28 \"/>\n",
       "<polyline clip-path=\"url(#clip660)\" style=\"stroke:#000000; stroke-linecap:round; stroke-linejoin:round; stroke-width:4; stroke-opacity:1; fill:none\" points=\"722.019,1423.18 722.019,1404.28 \"/>\n",
       "<polyline clip-path=\"url(#clip660)\" style=\"stroke:#000000; stroke-linecap:round; stroke-linejoin:round; stroke-width:4; stroke-opacity:1; fill:none\" points=\"1138.38,1423.18 1138.38,1404.28 \"/>\n",
       "<polyline clip-path=\"url(#clip660)\" style=\"stroke:#000000; stroke-linecap:round; stroke-linejoin:round; stroke-width:4; stroke-opacity:1; fill:none\" points=\"1554.75,1423.18 1554.75,1404.28 \"/>\n",
       "<polyline clip-path=\"url(#clip660)\" style=\"stroke:#000000; stroke-linecap:round; stroke-linejoin:round; stroke-width:4; stroke-opacity:1; fill:none\" points=\"1971.11,1423.18 1971.11,1404.28 \"/>\n",
       "<path clip-path=\"url(#clip660)\" d=\"M305.655 1454.1 Q302.044 1454.1 300.215 1457.66 Q298.409 1461.2 298.409 1468.33 Q298.409 1475.44 300.215 1479.01 Q302.044 1482.55 305.655 1482.55 Q309.289 1482.55 311.094 1479.01 Q312.923 1475.44 312.923 1468.33 Q312.923 1461.2 311.094 1457.66 Q309.289 1454.1 305.655 1454.1 M305.655 1450.39 Q311.465 1450.39 314.52 1455 Q317.599 1459.58 317.599 1468.33 Q317.599 1477.06 314.52 1481.67 Q311.465 1486.25 305.655 1486.25 Q299.845 1486.25 296.766 1481.67 Q293.71 1477.06 293.71 1468.33 Q293.71 1459.58 296.766 1455 Q299.845 1450.39 305.655 1450.39 Z\" fill=\"#000000\" fill-rule=\"nonzero\" fill-opacity=\"1\" /><path clip-path=\"url(#clip660)\" d=\"M726.267 1466.95 Q729.624 1467.66 731.499 1469.93 Q733.397 1472.2 733.397 1475.53 Q733.397 1480.65 729.878 1483.45 Q726.36 1486.25 719.878 1486.25 Q717.702 1486.25 715.387 1485.81 Q713.096 1485.39 710.642 1484.54 L710.642 1480.02 Q712.587 1481.16 714.901 1481.74 Q717.216 1482.32 719.739 1482.32 Q724.137 1482.32 726.429 1480.58 Q728.744 1478.84 728.744 1475.53 Q728.744 1472.48 726.591 1470.77 Q724.462 1469.03 720.642 1469.03 L716.614 1469.03 L716.614 1465.19 L720.827 1465.19 Q724.276 1465.19 726.105 1463.82 Q727.934 1462.43 727.934 1459.84 Q727.934 1457.18 726.036 1455.77 Q724.161 1454.33 720.642 1454.33 Q718.721 1454.33 716.522 1454.75 Q714.323 1455.16 711.684 1456.04 L711.684 1451.88 Q714.346 1451.14 716.661 1450.77 Q718.999 1450.39 721.059 1450.39 Q726.383 1450.39 729.485 1452.83 Q732.586 1455.23 732.586 1459.35 Q732.586 1462.22 730.943 1464.21 Q729.299 1466.18 726.267 1466.95 Z\" fill=\"#000000\" fill-rule=\"nonzero\" fill-opacity=\"1\" /><path clip-path=\"url(#clip660)\" d=\"M1138.79 1466.44 Q1135.64 1466.44 1133.79 1468.59 Q1131.96 1470.74 1131.96 1474.49 Q1131.96 1478.22 1133.79 1480.39 Q1135.64 1482.55 1138.79 1482.55 Q1141.94 1482.55 1143.77 1480.39 Q1145.62 1478.22 1145.62 1474.49 Q1145.62 1470.74 1143.77 1468.59 Q1141.94 1466.44 1138.79 1466.44 M1148.07 1451.78 L1148.07 1456.04 Q1146.31 1455.21 1144.51 1454.77 Q1142.72 1454.33 1140.97 1454.33 Q1136.34 1454.33 1133.88 1457.45 Q1131.45 1460.58 1131.1 1466.9 Q1132.47 1464.89 1134.53 1463.82 Q1136.59 1462.73 1139.07 1462.73 Q1144.28 1462.73 1147.28 1465.9 Q1150.32 1469.05 1150.32 1474.49 Q1150.32 1479.82 1147.17 1483.03 Q1144.02 1486.25 1138.79 1486.25 Q1132.79 1486.25 1129.62 1481.67 Q1126.45 1477.06 1126.45 1468.33 Q1126.45 1460.14 1130.34 1455.28 Q1134.23 1450.39 1140.78 1450.39 Q1142.54 1450.39 1144.32 1450.74 Q1146.13 1451.09 1148.07 1451.78 Z\" fill=\"#000000\" fill-rule=\"nonzero\" fill-opacity=\"1\" /><path clip-path=\"url(#clip660)\" d=\"M1545.05 1484.86 L1545.05 1480.6 Q1546.81 1481.44 1548.61 1481.88 Q1550.42 1482.32 1552.16 1482.32 Q1556.79 1482.32 1559.22 1479.21 Q1561.67 1476.09 1562.02 1469.75 Q1560.67 1471.74 1558.61 1472.8 Q1556.55 1473.87 1554.05 1473.87 Q1548.87 1473.87 1545.84 1470.74 Q1542.83 1467.59 1542.83 1462.15 Q1542.83 1456.83 1545.98 1453.61 Q1549.12 1450.39 1554.36 1450.39 Q1560.35 1450.39 1563.5 1455 Q1566.67 1459.58 1566.67 1468.33 Q1566.67 1476.51 1562.78 1481.39 Q1558.92 1486.25 1552.36 1486.25 Q1550.61 1486.25 1548.8 1485.9 Q1546.99 1485.56 1545.05 1484.86 M1554.36 1470.21 Q1557.5 1470.21 1559.33 1468.06 Q1561.18 1465.9 1561.18 1462.15 Q1561.18 1458.43 1559.33 1456.27 Q1557.5 1454.1 1554.36 1454.1 Q1551.21 1454.1 1549.36 1456.27 Q1547.53 1458.43 1547.53 1462.15 Q1547.53 1465.9 1549.36 1468.06 Q1551.21 1470.21 1554.36 1470.21 Z\" fill=\"#000000\" fill-rule=\"nonzero\" fill-opacity=\"1\" /><path clip-path=\"url(#clip660)\" d=\"M1946.6 1481.64 L1954.24 1481.64 L1954.24 1455.28 L1945.93 1456.95 L1945.93 1452.69 L1954.19 1451.02 L1958.87 1451.02 L1958.87 1481.64 L1966.51 1481.64 L1966.51 1485.58 L1946.6 1485.58 L1946.6 1481.64 Z\" fill=\"#000000\" fill-rule=\"nonzero\" fill-opacity=\"1\" /><path clip-path=\"url(#clip660)\" d=\"M1979.98 1481.64 L1996.3 1481.64 L1996.3 1485.58 L1974.35 1485.58 L1974.35 1481.64 Q1977.02 1478.89 1981.6 1474.26 Q1986.21 1469.61 1987.39 1468.27 Q1989.63 1465.74 1990.51 1464.01 Q1991.41 1462.25 1991.41 1460.56 Q1991.41 1457.8 1989.47 1456.07 Q1987.55 1454.33 1984.45 1454.33 Q1982.25 1454.33 1979.79 1455.09 Q1977.36 1455.86 1974.59 1457.41 L1974.59 1452.69 Q1977.41 1451.55 1979.86 1450.97 Q1982.32 1450.39 1984.35 1450.39 Q1989.72 1450.39 1992.92 1453.08 Q1996.11 1455.77 1996.11 1460.26 Q1996.11 1462.39 1995.3 1464.31 Q1994.52 1466.2 1992.41 1468.8 Q1991.83 1469.47 1988.73 1472.69 Q1985.63 1475.88 1979.98 1481.64 Z\" fill=\"#000000\" fill-rule=\"nonzero\" fill-opacity=\"1\" /><path clip-path=\"url(#clip660)\" d=\"M951.235 1524.18 L951.235 1530.96 Q947.988 1527.94 944.296 1526.44 Q940.636 1524.95 936.498 1524.95 Q928.35 1524.95 924.021 1529.95 Q919.693 1534.91 919.693 1544.33 Q919.693 1553.72 924.021 1558.72 Q928.35 1563.68 936.498 1563.68 Q940.636 1563.68 944.296 1562.19 Q947.988 1560.69 951.235 1557.67 L951.235 1564.38 Q947.861 1566.68 944.073 1567.82 Q940.318 1568.97 936.116 1568.97 Q925.326 1568.97 919.12 1562.38 Q912.913 1555.76 912.913 1544.33 Q912.913 1532.87 919.12 1526.28 Q925.326 1519.66 936.116 1519.66 Q940.381 1519.66 944.137 1520.81 Q947.925 1521.92 951.235 1524.18 Z\" fill=\"#000000\" fill-rule=\"nonzero\" fill-opacity=\"1\" /><path clip-path=\"url(#clip660)\" d=\"M960.306 1553.98 L960.306 1532.4 L966.162 1532.4 L966.162 1553.75 Q966.162 1558.81 968.136 1561.36 Q970.109 1563.87 974.056 1563.87 Q978.798 1563.87 981.536 1560.85 Q984.305 1557.83 984.305 1552.61 L984.305 1532.4 L990.161 1532.4 L990.161 1568.04 L984.305 1568.04 L984.305 1562.57 Q982.172 1565.82 979.339 1567.41 Q976.538 1568.97 972.815 1568.97 Q966.672 1568.97 963.489 1565.15 Q960.306 1561.33 960.306 1553.98 M975.042 1531.54 L975.042 1531.54 Z\" fill=\"#000000\" fill-rule=\"nonzero\" fill-opacity=\"1\" /><path clip-path=\"url(#clip660)\" d=\"M1022.88 1537.87 Q1021.89 1537.3 1020.72 1537.04 Q1019.57 1536.76 1018.17 1536.76 Q1013.2 1536.76 1010.53 1540 Q1007.89 1543.22 1007.89 1549.27 L1007.89 1568.04 L1002 1568.04 L1002 1532.4 L1007.89 1532.4 L1007.89 1537.93 Q1009.74 1534.69 1012.7 1533.13 Q1015.66 1531.54 1019.89 1531.54 Q1020.49 1531.54 1021.23 1531.63 Q1021.96 1531.7 1022.85 1531.85 L1022.88 1537.87 Z\" fill=\"#000000\" fill-rule=\"nonzero\" fill-opacity=\"1\" /><path clip-path=\"url(#clip660)\" d=\"M1048.53 1537.87 Q1047.55 1537.3 1046.37 1537.04 Q1045.22 1536.76 1043.82 1536.76 Q1038.86 1536.76 1036.19 1540 Q1033.54 1543.22 1033.54 1549.27 L1033.54 1568.04 L1027.66 1568.04 L1027.66 1532.4 L1033.54 1532.4 L1033.54 1537.93 Q1035.39 1534.69 1038.35 1533.13 Q1041.31 1531.54 1045.54 1531.54 Q1046.15 1531.54 1046.88 1531.63 Q1047.61 1531.7 1048.5 1531.85 L1048.53 1537.87 Z\" fill=\"#000000\" fill-rule=\"nonzero\" fill-opacity=\"1\" /><path clip-path=\"url(#clip660)\" d=\"M1083.74 1548.76 L1083.74 1551.62 L1056.81 1551.62 Q1057.19 1557.67 1060.44 1560.85 Q1063.72 1564 1069.54 1564 Q1072.92 1564 1076.07 1563.17 Q1079.25 1562.35 1082.37 1560.69 L1082.37 1566.23 Q1079.22 1567.57 1075.91 1568.27 Q1072.6 1568.97 1069.19 1568.97 Q1060.66 1568.97 1055.66 1564 Q1050.7 1559.04 1050.7 1550.57 Q1050.7 1541.82 1055.41 1536.69 Q1060.15 1531.54 1068.17 1531.54 Q1075.37 1531.54 1079.54 1536.18 Q1083.74 1540.8 1083.74 1548.76 M1077.88 1547.04 Q1077.82 1542.23 1075.18 1539.37 Q1072.57 1536.5 1068.24 1536.5 Q1063.33 1536.5 1060.37 1539.27 Q1057.45 1542.04 1057 1547.07 L1077.88 1547.04 Z\" fill=\"#000000\" fill-rule=\"nonzero\" fill-opacity=\"1\" /><path clip-path=\"url(#clip660)\" d=\"M1122.98 1546.53 L1122.98 1568.04 L1117.13 1568.04 L1117.13 1546.72 Q1117.13 1541.66 1115.15 1539.14 Q1113.18 1536.63 1109.23 1536.63 Q1104.49 1536.63 1101.75 1539.65 Q1099.01 1542.68 1099.01 1547.9 L1099.01 1568.04 L1093.13 1568.04 L1093.13 1532.4 L1099.01 1532.4 L1099.01 1537.93 Q1101.12 1534.72 1103.95 1533.13 Q1106.81 1531.54 1110.54 1531.54 Q1116.68 1531.54 1119.83 1535.36 Q1122.98 1539.14 1122.98 1546.53 Z\" fill=\"#000000\" fill-rule=\"nonzero\" fill-opacity=\"1\" /><path clip-path=\"url(#clip660)\" d=\"M1140.46 1522.27 L1140.46 1532.4 L1152.52 1532.4 L1152.52 1536.95 L1140.46 1536.95 L1140.46 1556.3 Q1140.46 1560.66 1141.63 1561.9 Q1142.84 1563.14 1146.5 1563.14 L1152.52 1563.14 L1152.52 1568.04 L1146.5 1568.04 Q1139.72 1568.04 1137.15 1565.53 Q1134.57 1562.98 1134.57 1556.3 L1134.57 1536.95 L1130.27 1536.95 L1130.27 1532.4 L1134.57 1532.4 L1134.57 1522.27 L1140.46 1522.27 Z\" fill=\"#000000\" fill-rule=\"nonzero\" fill-opacity=\"1\" /><path clip-path=\"url(#clip660)\" d=\"M1206.6 1533.76 L1206.6 1539.24 Q1204.11 1537.87 1201.6 1537.2 Q1199.12 1536.5 1196.57 1536.5 Q1190.87 1536.5 1187.72 1540.13 Q1184.57 1543.73 1184.57 1550.25 Q1184.57 1556.78 1187.72 1560.4 Q1190.87 1564 1196.57 1564 Q1199.12 1564 1201.6 1563.33 Q1204.11 1562.63 1206.6 1561.26 L1206.6 1566.68 Q1204.14 1567.82 1201.5 1568.39 Q1198.89 1568.97 1195.93 1568.97 Q1187.88 1568.97 1183.14 1563.91 Q1178.39 1558.85 1178.39 1550.25 Q1178.39 1541.53 1183.17 1536.53 Q1187.98 1531.54 1196.31 1531.54 Q1199.02 1531.54 1201.6 1532.11 Q1204.18 1532.65 1206.6 1533.76 Z\" fill=\"#000000\" fill-rule=\"nonzero\" fill-opacity=\"1\" /><path clip-path=\"url(#clip660)\" d=\"M1232.98 1550.12 Q1225.88 1550.12 1223.15 1551.75 Q1220.41 1553.37 1220.41 1557.29 Q1220.41 1560.4 1222.45 1562.25 Q1224.51 1564.07 1228.05 1564.07 Q1232.92 1564.07 1235.85 1560.63 Q1238.81 1557.16 1238.81 1551.43 L1238.81 1550.12 L1232.98 1550.12 M1244.66 1547.71 L1244.66 1568.04 L1238.81 1568.04 L1238.81 1562.63 Q1236.8 1565.88 1233.81 1567.44 Q1230.82 1568.97 1226.49 1568.97 Q1221.01 1568.97 1217.77 1565.91 Q1214.55 1562.82 1214.55 1557.67 Q1214.55 1551.65 1218.56 1548.6 Q1222.6 1545.54 1230.59 1545.54 L1238.81 1545.54 L1238.81 1544.97 Q1238.81 1540.93 1236.13 1538.73 Q1233.49 1536.5 1228.68 1536.5 Q1225.63 1536.5 1222.73 1537.23 Q1219.84 1537.97 1217.16 1539.43 L1217.16 1534.02 Q1220.38 1532.78 1223.4 1532.17 Q1226.42 1531.54 1229.29 1531.54 Q1237.02 1531.54 1240.84 1535.55 Q1244.66 1539.56 1244.66 1547.71 Z\" fill=\"#000000\" fill-rule=\"nonzero\" fill-opacity=\"1\" /><path clip-path=\"url(#clip660)\" d=\"M1262.39 1562.7 L1262.39 1581.6 L1256.5 1581.6 L1256.5 1532.4 L1262.39 1532.4 L1262.39 1537.81 Q1264.24 1534.62 1267.04 1533.1 Q1269.87 1531.54 1273.79 1531.54 Q1280.28 1531.54 1284.32 1536.69 Q1288.39 1541.85 1288.39 1550.25 Q1288.39 1558.65 1284.32 1563.81 Q1280.28 1568.97 1273.79 1568.97 Q1269.87 1568.97 1267.04 1567.44 Q1264.24 1565.88 1262.39 1562.7 M1282.32 1550.25 Q1282.32 1543.79 1279.64 1540.13 Q1277 1536.44 1272.35 1536.44 Q1267.71 1536.44 1265.03 1540.13 Q1262.39 1543.79 1262.39 1550.25 Q1262.39 1556.71 1265.03 1560.4 Q1267.71 1564.07 1272.35 1564.07 Q1277 1564.07 1279.64 1560.4 Q1282.32 1556.71 1282.32 1550.25 Z\" fill=\"#000000\" fill-rule=\"nonzero\" fill-opacity=\"1\" /><path clip-path=\"url(#clip660)\" d=\"M1298.1 1532.4 L1303.96 1532.4 L1303.96 1568.04 L1298.1 1568.04 L1298.1 1532.4 M1298.1 1518.52 L1303.96 1518.52 L1303.96 1525.93 L1298.1 1525.93 L1298.1 1518.52 Z\" fill=\"#000000\" fill-rule=\"nonzero\" fill-opacity=\"1\" /><path clip-path=\"url(#clip660)\" d=\"M1322.01 1522.27 L1322.01 1532.4 L1334.07 1532.4 L1334.07 1536.95 L1322.01 1536.95 L1322.01 1556.3 Q1322.01 1560.66 1323.18 1561.9 Q1324.39 1563.14 1328.05 1563.14 L1334.07 1563.14 L1334.07 1568.04 L1328.05 1568.04 Q1321.27 1568.04 1318.7 1565.53 Q1316.12 1562.98 1316.12 1556.3 L1316.12 1536.95 L1311.82 1536.95 L1311.82 1532.4 L1316.12 1532.4 L1316.12 1522.27 L1322.01 1522.27 Z\" fill=\"#000000\" fill-rule=\"nonzero\" fill-opacity=\"1\" /><path clip-path=\"url(#clip660)\" d=\"M1357.97 1550.12 Q1350.87 1550.12 1348.14 1551.75 Q1345.4 1553.37 1345.4 1557.29 Q1345.4 1560.4 1347.44 1562.25 Q1349.51 1564.07 1353.04 1564.07 Q1357.91 1564.07 1360.84 1560.63 Q1363.8 1557.16 1363.8 1551.43 L1363.8 1550.12 L1357.97 1550.12 M1369.65 1547.71 L1369.65 1568.04 L1363.8 1568.04 L1363.8 1562.63 Q1361.79 1565.88 1358.8 1567.44 Q1355.81 1568.97 1351.48 1568.97 Q1346 1568.97 1342.76 1565.91 Q1339.54 1562.82 1339.54 1557.67 Q1339.54 1551.65 1343.55 1548.6 Q1347.6 1545.54 1355.58 1545.54 L1363.8 1545.54 L1363.8 1544.97 Q1363.8 1540.93 1361.12 1538.73 Q1358.48 1536.5 1353.67 1536.5 Q1350.62 1536.5 1347.72 1537.23 Q1344.83 1537.97 1342.15 1539.43 L1342.15 1534.02 Q1345.37 1532.78 1348.39 1532.17 Q1351.41 1531.54 1354.28 1531.54 Q1362.01 1531.54 1365.83 1535.55 Q1369.65 1539.56 1369.65 1547.71 Z\" fill=\"#000000\" fill-rule=\"nonzero\" fill-opacity=\"1\" /><path clip-path=\"url(#clip660)\" d=\"M1381.72 1518.52 L1387.57 1518.52 L1387.57 1568.04 L1381.72 1568.04 L1381.72 1518.52 Z\" fill=\"#000000\" fill-rule=\"nonzero\" fill-opacity=\"1\" /><path clip-path=\"url(#clip660)\" d=\"M1443.27 1533.45 L1443.27 1538.98 Q1440.79 1537.71 1438.12 1537.07 Q1435.44 1536.44 1432.58 1536.44 Q1428.22 1536.44 1426.02 1537.77 Q1423.86 1539.11 1423.86 1541.79 Q1423.86 1543.82 1425.42 1545 Q1426.98 1546.15 1431.69 1547.2 L1433.69 1547.64 Q1439.93 1548.98 1442.54 1551.43 Q1445.18 1553.85 1445.18 1558.21 Q1445.18 1563.17 1441.24 1566.07 Q1437.32 1568.97 1430.45 1568.97 Q1427.58 1568.97 1424.46 1568.39 Q1421.37 1567.85 1417.94 1566.74 L1417.94 1560.69 Q1421.18 1562.38 1424.33 1563.24 Q1427.49 1564.07 1430.57 1564.07 Q1434.71 1564.07 1436.94 1562.66 Q1439.17 1561.23 1439.17 1558.65 Q1439.17 1556.27 1437.54 1554.99 Q1435.95 1553.72 1430.51 1552.54 L1428.47 1552.07 Q1423.03 1550.92 1420.61 1548.56 Q1418.19 1546.18 1418.19 1542.04 Q1418.19 1537.01 1421.76 1534.27 Q1425.32 1531.54 1431.88 1531.54 Q1435.12 1531.54 1437.99 1532.01 Q1440.85 1532.49 1443.27 1533.45 Z\" fill=\"#000000\" fill-rule=\"nonzero\" fill-opacity=\"1\" /><path clip-path=\"url(#clip660)\" d=\"M1460.3 1522.27 L1460.3 1532.4 L1472.36 1532.4 L1472.36 1536.95 L1460.3 1536.95 L1460.3 1556.3 Q1460.3 1560.66 1461.48 1561.9 Q1462.69 1563.14 1466.35 1563.14 L1472.36 1563.14 L1472.36 1568.04 L1466.35 1568.04 Q1459.57 1568.04 1456.99 1565.53 Q1454.41 1562.98 1454.41 1556.3 L1454.41 1536.95 L1450.12 1536.95 L1450.12 1532.4 L1454.41 1532.4 L1454.41 1522.27 L1460.3 1522.27 Z\" fill=\"#000000\" fill-rule=\"nonzero\" fill-opacity=\"1\" /><path clip-path=\"url(#clip660)\" d=\"M1493.88 1536.5 Q1489.17 1536.5 1486.43 1540.19 Q1483.69 1543.85 1483.69 1550.25 Q1483.69 1556.65 1486.4 1560.34 Q1489.14 1564 1493.88 1564 Q1498.56 1564 1501.3 1560.31 Q1504.03 1556.62 1504.03 1550.25 Q1504.03 1543.92 1501.3 1540.23 Q1498.56 1536.5 1493.88 1536.5 M1493.88 1531.54 Q1501.52 1531.54 1505.88 1536.5 Q1510.24 1541.47 1510.24 1550.25 Q1510.24 1559 1505.88 1564 Q1501.52 1568.97 1493.88 1568.97 Q1486.21 1568.97 1481.85 1564 Q1477.52 1559 1477.52 1550.25 Q1477.52 1541.47 1481.85 1536.5 Q1486.21 1531.54 1493.88 1531.54 Z\" fill=\"#000000\" fill-rule=\"nonzero\" fill-opacity=\"1\" /><path clip-path=\"url(#clip660)\" d=\"M1545.6 1533.76 L1545.6 1539.24 Q1543.12 1537.87 1540.6 1537.2 Q1538.12 1536.5 1535.57 1536.5 Q1529.88 1536.5 1526.73 1540.13 Q1523.58 1543.73 1523.58 1550.25 Q1523.58 1556.78 1526.73 1560.4 Q1529.88 1564 1535.57 1564 Q1538.12 1564 1540.6 1563.33 Q1543.12 1562.63 1545.6 1561.26 L1545.6 1566.68 Q1543.15 1567.82 1540.51 1568.39 Q1537.9 1568.97 1534.94 1568.97 Q1526.89 1568.97 1522.14 1563.91 Q1517.4 1558.85 1517.4 1550.25 Q1517.4 1541.53 1522.17 1536.53 Q1526.98 1531.54 1535.32 1531.54 Q1538.03 1531.54 1540.6 1532.11 Q1543.18 1532.65 1545.6 1533.76 Z\" fill=\"#000000\" fill-rule=\"nonzero\" fill-opacity=\"1\" /><path clip-path=\"url(#clip660)\" d=\"M1555.56 1518.52 L1561.45 1518.52 L1561.45 1547.77 L1578.93 1532.4 L1586.4 1532.4 L1567.5 1549.07 L1587.2 1568.04 L1579.56 1568.04 L1561.45 1550.63 L1561.45 1568.04 L1555.56 1568.04 L1555.56 1518.52 Z\" fill=\"#000000\" fill-rule=\"nonzero\" fill-opacity=\"1\" /><path clip-path=\"url(#clip660)\" d=\"M1595.03 1559.96 L1601.75 1559.96 L1601.75 1565.43 L1596.53 1575.62 L1592.42 1575.62 L1595.03 1565.43 L1595.03 1559.96 Z\" fill=\"#000000\" fill-rule=\"nonzero\" fill-opacity=\"1\" /><path clip-path=\"url(#clip660)\" d=\"M1634.75 1518.52 L1640.64 1518.52 L1640.64 1547.77 L1658.11 1532.4 L1665.59 1532.4 L1646.69 1549.07 L1666.39 1568.04 L1658.75 1568.04 L1640.64 1550.63 L1640.64 1568.04 L1634.75 1568.04 L1634.75 1518.52 Z\" fill=\"#000000\" fill-rule=\"nonzero\" fill-opacity=\"1\" /><polyline clip-path=\"url(#clip662)\" style=\"stroke:#000000; stroke-linecap:round; stroke-linejoin:round; stroke-width:2; stroke-opacity:0.1; fill:none\" points=\"247.459,1385.49 2352.76,1385.49 \"/>\n",
       "<polyline clip-path=\"url(#clip662)\" style=\"stroke:#000000; stroke-linecap:round; stroke-linejoin:round; stroke-width:2; stroke-opacity:0.1; fill:none\" points=\"247.459,1073.68 2352.76,1073.68 \"/>\n",
       "<polyline clip-path=\"url(#clip662)\" style=\"stroke:#000000; stroke-linecap:round; stroke-linejoin:round; stroke-width:2; stroke-opacity:0.1; fill:none\" points=\"247.459,761.88 2352.76,761.88 \"/>\n",
       "<polyline clip-path=\"url(#clip662)\" style=\"stroke:#000000; stroke-linecap:round; stroke-linejoin:round; stroke-width:2; stroke-opacity:0.1; fill:none\" points=\"247.459,450.077 2352.76,450.077 \"/>\n",
       "<polyline clip-path=\"url(#clip662)\" style=\"stroke:#000000; stroke-linecap:round; stroke-linejoin:round; stroke-width:2; stroke-opacity:0.1; fill:none\" points=\"247.459,138.274 2352.76,138.274 \"/>\n",
       "<polyline clip-path=\"url(#clip660)\" style=\"stroke:#000000; stroke-linecap:round; stroke-linejoin:round; stroke-width:4; stroke-opacity:1; fill:none\" points=\"247.459,1423.18 247.459,47.2441 \"/>\n",
       "<polyline clip-path=\"url(#clip660)\" style=\"stroke:#000000; stroke-linecap:round; stroke-linejoin:round; stroke-width:4; stroke-opacity:1; fill:none\" points=\"247.459,1385.49 266.356,1385.49 \"/>\n",
       "<polyline clip-path=\"url(#clip660)\" style=\"stroke:#000000; stroke-linecap:round; stroke-linejoin:round; stroke-width:4; stroke-opacity:1; fill:none\" points=\"247.459,1073.68 266.356,1073.68 \"/>\n",
       "<polyline clip-path=\"url(#clip660)\" style=\"stroke:#000000; stroke-linecap:round; stroke-linejoin:round; stroke-width:4; stroke-opacity:1; fill:none\" points=\"247.459,761.88 266.356,761.88 \"/>\n",
       "<polyline clip-path=\"url(#clip660)\" style=\"stroke:#000000; stroke-linecap:round; stroke-linejoin:round; stroke-width:4; stroke-opacity:1; fill:none\" points=\"247.459,450.077 266.356,450.077 \"/>\n",
       "<polyline clip-path=\"url(#clip660)\" style=\"stroke:#000000; stroke-linecap:round; stroke-linejoin:round; stroke-width:4; stroke-opacity:1; fill:none\" points=\"247.459,138.274 266.356,138.274 \"/>\n",
       "<path clip-path=\"url(#clip660)\" d=\"M154.283 1371.28 Q150.672 1371.28 148.843 1374.85 Q147.038 1378.39 147.038 1385.52 Q147.038 1392.63 148.843 1396.19 Q150.672 1399.73 154.283 1399.73 Q157.917 1399.73 159.723 1396.19 Q161.552 1392.63 161.552 1385.52 Q161.552 1378.39 159.723 1374.85 Q157.917 1371.28 154.283 1371.28 M154.283 1367.58 Q160.093 1367.58 163.149 1372.19 Q166.227 1376.77 166.227 1385.52 Q166.227 1394.25 163.149 1398.85 Q160.093 1403.44 154.283 1403.44 Q148.473 1403.44 145.394 1398.85 Q142.339 1394.25 142.339 1385.52 Q142.339 1376.77 145.394 1372.19 Q148.473 1367.58 154.283 1367.58 Z\" fill=\"#000000\" fill-rule=\"nonzero\" fill-opacity=\"1\" /><path clip-path=\"url(#clip660)\" d=\"M174.445 1396.89 L179.329 1396.89 L179.329 1402.77 L174.445 1402.77 L174.445 1396.89 Z\" fill=\"#000000\" fill-rule=\"nonzero\" fill-opacity=\"1\" /><path clip-path=\"url(#clip660)\" d=\"M199.514 1371.28 Q195.903 1371.28 194.075 1374.85 Q192.269 1378.39 192.269 1385.52 Q192.269 1392.63 194.075 1396.19 Q195.903 1399.73 199.514 1399.73 Q203.149 1399.73 204.954 1396.19 Q206.783 1392.63 206.783 1385.52 Q206.783 1378.39 204.954 1374.85 Q203.149 1371.28 199.514 1371.28 M199.514 1367.58 Q205.324 1367.58 208.38 1372.19 Q211.459 1376.77 211.459 1385.52 Q211.459 1394.25 208.38 1398.85 Q205.324 1403.44 199.514 1403.44 Q193.704 1403.44 190.625 1398.85 Q187.57 1394.25 187.57 1385.52 Q187.57 1376.77 190.625 1372.19 Q193.704 1367.58 199.514 1367.58 Z\" fill=\"#000000\" fill-rule=\"nonzero\" fill-opacity=\"1\" /><path clip-path=\"url(#clip660)\" d=\"M149.306 1087.03 L165.626 1087.03 L165.626 1090.96 L143.681 1090.96 L143.681 1087.03 Q146.343 1084.27 150.927 1079.64 Q155.533 1074.99 156.714 1073.65 Q158.959 1071.12 159.839 1069.39 Q160.741 1067.63 160.741 1065.94 Q160.741 1063.18 158.797 1061.45 Q156.876 1059.71 153.774 1059.71 Q151.575 1059.71 149.121 1060.48 Q146.691 1061.24 143.913 1062.79 L143.913 1058.07 Q146.737 1056.94 149.191 1056.36 Q151.644 1055.78 153.681 1055.78 Q159.052 1055.78 162.246 1058.46 Q165.44 1061.15 165.44 1065.64 Q165.44 1067.77 164.63 1069.69 Q163.843 1071.59 161.737 1074.18 Q161.158 1074.85 158.056 1078.07 Q154.954 1081.26 149.306 1087.03 Z\" fill=\"#000000\" fill-rule=\"nonzero\" fill-opacity=\"1\" /><path clip-path=\"url(#clip660)\" d=\"M175.44 1085.08 L180.325 1085.08 L180.325 1090.96 L175.44 1090.96 L175.44 1085.08 Z\" fill=\"#000000\" fill-rule=\"nonzero\" fill-opacity=\"1\" /><path clip-path=\"url(#clip660)\" d=\"M190.556 1056.4 L208.912 1056.4 L208.912 1060.34 L194.838 1060.34 L194.838 1068.81 Q195.857 1068.46 196.875 1068.3 Q197.894 1068.12 198.912 1068.12 Q204.699 1068.12 208.079 1071.29 Q211.459 1074.46 211.459 1079.87 Q211.459 1085.45 207.987 1088.56 Q204.514 1091.63 198.195 1091.63 Q196.019 1091.63 193.75 1091.26 Q191.505 1090.89 189.098 1090.15 L189.098 1085.45 Q191.181 1086.59 193.403 1087.14 Q195.625 1087.7 198.102 1087.7 Q202.107 1087.7 204.445 1085.59 Q206.783 1083.49 206.783 1079.87 Q206.783 1076.26 204.445 1074.16 Q202.107 1072.05 198.102 1072.05 Q196.227 1072.05 194.352 1072.47 Q192.5 1072.88 190.556 1073.76 L190.556 1056.4 Z\" fill=\"#000000\" fill-rule=\"nonzero\" fill-opacity=\"1\" /><path clip-path=\"url(#clip660)\" d=\"M144.329 744.6 L162.686 744.6 L162.686 748.535 L148.612 748.535 L148.612 757.007 Q149.63 756.66 150.649 756.498 Q151.667 756.313 152.686 756.313 Q158.473 756.313 161.852 759.484 Q165.232 762.655 165.232 768.072 Q165.232 773.651 161.76 776.752 Q158.288 779.831 151.968 779.831 Q149.792 779.831 147.524 779.461 Q145.279 779.09 142.871 778.35 L142.871 773.651 Q144.954 774.785 147.177 775.34 Q149.399 775.896 151.876 775.896 Q155.88 775.896 158.218 773.789 Q160.556 771.683 160.556 768.072 Q160.556 764.461 158.218 762.354 Q155.88 760.248 151.876 760.248 Q150.001 760.248 148.126 760.665 Q146.274 761.081 144.329 761.961 L144.329 744.6 Z\" fill=\"#000000\" fill-rule=\"nonzero\" fill-opacity=\"1\" /><path clip-path=\"url(#clip660)\" d=\"M174.445 773.28 L179.329 773.28 L179.329 779.16 L174.445 779.16 L174.445 773.28 Z\" fill=\"#000000\" fill-rule=\"nonzero\" fill-opacity=\"1\" /><path clip-path=\"url(#clip660)\" d=\"M199.514 747.678 Q195.903 747.678 194.075 751.243 Q192.269 754.785 192.269 761.914 Q192.269 769.021 194.075 772.586 Q195.903 776.127 199.514 776.127 Q203.149 776.127 204.954 772.586 Q206.783 769.021 206.783 761.914 Q206.783 754.785 204.954 751.243 Q203.149 747.678 199.514 747.678 M199.514 743.975 Q205.324 743.975 208.38 748.581 Q211.459 753.165 211.459 761.914 Q211.459 770.641 208.38 775.248 Q205.324 779.831 199.514 779.831 Q193.704 779.831 190.625 775.248 Q187.57 770.641 187.57 761.914 Q187.57 753.165 190.625 748.581 Q193.704 743.975 199.514 743.975 Z\" fill=\"#000000\" fill-rule=\"nonzero\" fill-opacity=\"1\" /><path clip-path=\"url(#clip660)\" d=\"M144.098 432.797 L166.32 432.797 L166.32 434.788 L153.774 467.357 L148.89 467.357 L160.695 436.732 L144.098 436.732 L144.098 432.797 Z\" fill=\"#000000\" fill-rule=\"nonzero\" fill-opacity=\"1\" /><path clip-path=\"url(#clip660)\" d=\"M175.44 461.477 L180.325 461.477 L180.325 467.357 L175.44 467.357 L175.44 461.477 Z\" fill=\"#000000\" fill-rule=\"nonzero\" fill-opacity=\"1\" /><path clip-path=\"url(#clip660)\" d=\"M190.556 432.797 L208.912 432.797 L208.912 436.732 L194.838 436.732 L194.838 445.204 Q195.857 444.857 196.875 444.695 Q197.894 444.51 198.912 444.51 Q204.699 444.51 208.079 447.681 Q211.459 450.852 211.459 456.269 Q211.459 461.848 207.987 464.95 Q204.514 468.028 198.195 468.028 Q196.019 468.028 193.75 467.658 Q191.505 467.287 189.098 466.547 L189.098 461.848 Q191.181 462.982 193.403 463.537 Q195.625 464.093 198.102 464.093 Q202.107 464.093 204.445 461.987 Q206.783 459.88 206.783 456.269 Q206.783 452.658 204.445 450.551 Q202.107 448.445 198.102 448.445 Q196.227 448.445 194.352 448.862 Q192.5 449.278 190.556 450.158 L190.556 432.797 Z\" fill=\"#000000\" fill-rule=\"nonzero\" fill-opacity=\"1\" /><path clip-path=\"url(#clip660)\" d=\"M114.931 151.619 L122.57 151.619 L122.57 125.253 L114.26 126.92 L114.26 122.661 L122.524 120.994 L127.2 120.994 L127.2 151.619 L134.839 151.619 L134.839 155.554 L114.931 155.554 L114.931 151.619 Z\" fill=\"#000000\" fill-rule=\"nonzero\" fill-opacity=\"1\" /><path clip-path=\"url(#clip660)\" d=\"M154.283 124.073 Q150.672 124.073 148.843 127.638 Q147.038 131.179 147.038 138.309 Q147.038 145.415 148.843 148.98 Q150.672 152.522 154.283 152.522 Q157.917 152.522 159.723 148.98 Q161.552 145.415 161.552 138.309 Q161.552 131.179 159.723 127.638 Q157.917 124.073 154.283 124.073 M154.283 120.369 Q160.093 120.369 163.149 124.976 Q166.227 129.559 166.227 138.309 Q166.227 147.036 163.149 151.642 Q160.093 156.225 154.283 156.225 Q148.473 156.225 145.394 151.642 Q142.339 147.036 142.339 138.309 Q142.339 129.559 145.394 124.976 Q148.473 120.369 154.283 120.369 Z\" fill=\"#000000\" fill-rule=\"nonzero\" fill-opacity=\"1\" /><path clip-path=\"url(#clip660)\" d=\"M174.445 149.674 L179.329 149.674 L179.329 155.554 L174.445 155.554 L174.445 149.674 Z\" fill=\"#000000\" fill-rule=\"nonzero\" fill-opacity=\"1\" /><path clip-path=\"url(#clip660)\" d=\"M199.514 124.073 Q195.903 124.073 194.075 127.638 Q192.269 131.179 192.269 138.309 Q192.269 145.415 194.075 148.98 Q195.903 152.522 199.514 152.522 Q203.149 152.522 204.954 148.98 Q206.783 145.415 206.783 138.309 Q206.783 131.179 204.954 127.638 Q203.149 124.073 199.514 124.073 M199.514 120.369 Q205.324 120.369 208.38 124.976 Q211.459 129.559 211.459 138.309 Q211.459 147.036 208.38 151.642 Q205.324 156.225 199.514 156.225 Q193.704 156.225 190.625 151.642 Q187.57 147.036 187.57 138.309 Q187.57 129.559 190.625 124.976 Q193.704 120.369 199.514 120.369 Z\" fill=\"#000000\" fill-rule=\"nonzero\" fill-opacity=\"1\" /><path clip-path=\"url(#clip660)\" d=\"M21.7677 1008.27 L39.6235 1008.27 L39.6235 1000.18 Q39.6235 995.697 37.3 993.246 Q34.9765 990.795 30.6797 990.795 Q26.4147 990.795 24.0912 993.246 Q21.7677 995.697 21.7677 1000.18 L21.7677 1008.27 M16.4842 1014.7 L16.4842 1000.18 Q16.4842 992.196 20.1126 988.121 Q23.7092 984.016 30.6797 984.016 Q37.7138 984.016 41.3104 988.121 Q44.907 992.196 44.907 1000.18 L44.907 1008.27 L64.0042 1008.27 L64.0042 1014.7 L16.4842 1014.7 Z\" fill=\"#000000\" fill-rule=\"nonzero\" fill-opacity=\"1\" /><path clip-path=\"url(#clip660)\" d=\"M32.4621 964.155 Q32.4621 968.865 36.1542 971.602 Q39.8145 974.34 46.212 974.34 Q52.6095 974.34 56.3017 971.634 Q59.9619 968.897 59.9619 964.155 Q59.9619 959.476 56.2698 956.739 Q52.5777 954.001 46.212 954.001 Q39.8781 954.001 36.186 956.739 Q32.4621 959.476 32.4621 964.155 M27.4968 964.155 Q27.4968 956.516 32.4621 952.155 Q37.4273 947.795 46.212 947.795 Q54.9649 947.795 59.9619 952.155 Q64.9272 956.516 64.9272 964.155 Q64.9272 971.825 59.9619 976.186 Q54.9649 980.514 46.212 980.514 Q37.4273 980.514 32.4621 976.186 Q27.4968 971.825 27.4968 964.155 Z\" fill=\"#000000\" fill-rule=\"nonzero\" fill-opacity=\"1\" /><path clip-path=\"url(#clip660)\" d=\"M14.479 938.087 L14.479 932.231 L64.0042 932.231 L64.0042 938.087 L14.479 938.087 Z\" fill=\"#000000\" fill-rule=\"nonzero\" fill-opacity=\"1\" /><path clip-path=\"url(#clip660)\" d=\"M28.3562 919.977 L28.3562 914.12 L64.0042 914.12 L64.0042 919.977 L28.3562 919.977 M14.479 919.977 L14.479 914.12 L21.895 914.12 L21.895 919.977 L14.479 919.977 Z\" fill=\"#000000\" fill-rule=\"nonzero\" fill-opacity=\"1\" /><path clip-path=\"url(#clip660)\" d=\"M29.7248 876.212 L35.1993 876.212 Q33.8307 878.695 33.1623 881.209 Q32.4621 883.692 32.4621 886.238 Q32.4621 891.936 36.0905 895.087 Q39.6872 898.238 46.212 898.238 Q52.7369 898.238 56.3653 895.087 Q59.9619 891.936 59.9619 886.238 Q59.9619 883.692 59.2935 881.209 Q58.5933 878.695 57.2247 876.212 L62.6355 876.212 Q63.7814 878.663 64.3543 881.305 Q64.9272 883.915 64.9272 886.875 Q64.9272 894.928 59.8664 899.67 Q54.8057 904.412 46.212 904.412 Q37.491 904.412 32.4939 899.638 Q27.4968 894.832 27.4968 886.493 Q27.4968 883.788 28.0697 881.209 Q28.6108 878.631 29.7248 876.212 Z\" fill=\"#000000\" fill-rule=\"nonzero\" fill-opacity=\"1\" /><path clip-path=\"url(#clip660)\" d=\"M67.3143 851.195 Q73.68 853.678 75.6216 856.033 Q77.5631 858.388 77.5631 862.335 L77.5631 867.014 L72.6615 867.014 L72.6615 863.576 Q72.6615 861.157 71.5157 859.821 Q70.3699 858.484 66.1048 856.861 L63.4312 855.81 L28.3562 870.229 L28.3562 864.022 L56.238 852.882 L28.3562 841.742 L28.3562 835.536 L67.3143 851.195 Z\" fill=\"#000000\" fill-rule=\"nonzero\" fill-opacity=\"1\" /><path clip-path=\"url(#clip660)\" d=\"M14.479 788.684 L19.3487 788.684 L19.3487 794.286 Q19.3487 797.437 20.6219 798.678 Q21.895 799.888 25.2052 799.888 L28.3562 799.888 L28.3562 790.244 L32.9077 790.244 L32.9077 799.888 L64.0042 799.888 L64.0042 805.776 L32.9077 805.776 L32.9077 811.378 L28.3562 811.378 L28.3562 805.776 L25.8736 805.776 Q19.9216 805.776 17.2162 803.007 Q14.479 800.238 14.479 794.222 L14.479 788.684 Z\" fill=\"#000000\" fill-rule=\"nonzero\" fill-opacity=\"1\" /><path clip-path=\"url(#clip660)\" d=\"M49.9359 784.387 L28.3562 784.387 L28.3562 778.531 L49.7131 778.531 Q54.7739 778.531 57.3202 776.557 Q59.8346 774.584 59.8346 770.637 Q59.8346 765.895 56.8109 763.157 Q53.7872 760.388 48.5673 760.388 L28.3562 760.388 L28.3562 754.532 L64.0042 754.532 L64.0042 760.388 L58.5296 760.388 Q61.7762 762.521 63.3676 765.354 Q64.9272 768.155 64.9272 771.878 Q64.9272 778.021 61.1078 781.204 Q57.2883 784.387 49.9359 784.387 M27.4968 769.65 L27.4968 769.65 Z\" fill=\"#000000\" fill-rule=\"nonzero\" fill-opacity=\"1\" /><path clip-path=\"url(#clip660)\" d=\"M42.4881 712.837 L64.0042 712.837 L64.0042 718.693 L42.679 718.693 Q37.6183 718.693 35.1038 720.666 Q32.5894 722.64 32.5894 726.586 Q32.5894 731.329 35.6131 734.066 Q38.6368 736.803 43.8567 736.803 L64.0042 736.803 L64.0042 742.692 L28.3562 742.692 L28.3562 736.803 L33.8944 736.803 Q30.6797 734.703 29.0883 731.87 Q27.4968 729.005 27.4968 725.281 Q27.4968 719.139 31.3163 715.988 Q35.1038 712.837 42.4881 712.837 Z\" fill=\"#000000\" fill-rule=\"nonzero\" fill-opacity=\"1\" /><path clip-path=\"url(#clip660)\" d=\"M29.7248 675.502 L35.1993 675.502 Q33.8307 677.984 33.1623 680.499 Q32.4621 682.981 32.4621 685.528 Q32.4621 691.225 36.0905 694.376 Q39.6872 697.527 46.212 697.527 Q52.7369 697.527 56.3653 694.376 Q59.9619 691.225 59.9619 685.528 Q59.9619 682.981 59.2935 680.499 Q58.5933 677.984 57.2247 675.502 L62.6355 675.502 Q63.7814 677.952 64.3543 680.594 Q64.9272 683.204 64.9272 686.164 Q64.9272 694.217 59.8664 698.959 Q54.8057 703.702 46.212 703.702 Q37.491 703.702 32.4939 698.927 Q27.4968 694.121 27.4968 685.782 Q27.4968 683.077 28.0697 680.499 Q28.6108 677.921 29.7248 675.502 Z\" fill=\"#000000\" fill-rule=\"nonzero\" fill-opacity=\"1\" /><path clip-path=\"url(#clip660)\" d=\"M18.2347 659.524 L28.3562 659.524 L28.3562 647.461 L32.9077 647.461 L32.9077 659.524 L52.2594 659.524 Q56.6199 659.524 57.8613 658.346 Q59.1026 657.137 59.1026 653.476 L59.1026 647.461 L64.0042 647.461 L64.0042 653.476 Q64.0042 660.256 61.4897 662.834 Q58.9434 665.412 52.2594 665.412 L32.9077 665.412 L32.9077 669.709 L28.3562 669.709 L28.3562 665.412 L18.2347 665.412 L18.2347 659.524 Z\" fill=\"#000000\" fill-rule=\"nonzero\" fill-opacity=\"1\" /><path clip-path=\"url(#clip660)\" d=\"M28.3562 639.758 L28.3562 633.902 L64.0042 633.902 L64.0042 639.758 L28.3562 639.758 M14.479 639.758 L14.479 633.902 L21.895 633.902 L21.895 639.758 L14.479 639.758 Z\" fill=\"#000000\" fill-rule=\"nonzero\" fill-opacity=\"1\" /><path clip-path=\"url(#clip660)\" d=\"M32.4621 607.834 Q32.4621 612.545 36.1542 615.282 Q39.8145 618.019 46.212 618.019 Q52.6095 618.019 56.3017 615.314 Q59.9619 612.577 59.9619 607.834 Q59.9619 603.155 56.2698 600.418 Q52.5777 597.681 46.212 597.681 Q39.8781 597.681 36.186 600.418 Q32.4621 603.155 32.4621 607.834 M27.4968 607.834 Q27.4968 600.195 32.4621 595.835 Q37.4273 591.474 46.212 591.474 Q54.9649 591.474 59.9619 595.835 Q64.9272 600.195 64.9272 607.834 Q64.9272 615.505 59.9619 619.865 Q54.9649 624.194 46.212 624.194 Q37.4273 624.194 32.4621 619.865 Q27.4968 615.505 27.4968 607.834 Z\" fill=\"#000000\" fill-rule=\"nonzero\" fill-opacity=\"1\" /><path clip-path=\"url(#clip660)\" d=\"M42.4881 552.134 L64.0042 552.134 L64.0042 557.991 L42.679 557.991 Q37.6183 557.991 35.1038 559.964 Q32.5894 561.937 32.5894 565.884 Q32.5894 570.627 35.6131 573.364 Q38.6368 576.101 43.8567 576.101 L64.0042 576.101 L64.0042 581.989 L28.3562 581.989 L28.3562 576.101 L33.8944 576.101 Q30.6797 574 29.0883 571.168 Q27.4968 568.303 27.4968 564.579 Q27.4968 558.436 31.3163 555.285 Q35.1038 552.134 42.4881 552.134 Z\" fill=\"#000000\" fill-rule=\"nonzero\" fill-opacity=\"1\" /><path clip-path=\"url(#clip660)\" d=\"M55.9197 538.957 L55.9197 532.241 L61.3942 532.241 L71.5793 537.461 L71.5793 541.567 L61.3942 538.957 L55.9197 538.957 Z\" fill=\"#000000\" fill-rule=\"nonzero\" fill-opacity=\"1\" /><path clip-path=\"url(#clip660)\" d=\"M14.479 499.235 L14.479 493.347 L43.7294 493.347 L28.3562 475.873 L28.3562 468.393 L45.0344 487.3 L64.0042 467.598 L64.0042 475.237 L46.5939 493.347 L64.0042 493.347 L64.0042 499.235 L14.479 499.235 Z\" fill=\"#000000\" fill-rule=\"nonzero\" fill-opacity=\"1\" /><path clip-path=\"url(#clip660)\" d=\"M16.4842 455.726 L34.149 455.726 L34.149 461.136 L16.4842 461.136 L16.4842 455.726 Z\" fill=\"#000000\" fill-rule=\"nonzero\" fill-opacity=\"1\" /><polyline clip-path=\"url(#clip662)\" style=\"stroke:#6b9e32; stroke-linecap:round; stroke-linejoin:round; stroke-width:8; stroke-opacity:1; fill:none\" points=\"307.043,1384.24 327.105,1348.18 347.166,1330.15 367.228,1312.12 387.29,1294.1 407.352,1258.04 427.414,1240.01 447.476,1221.98 467.538,1203.95 487.6,1185.92 507.662,1167.9 527.724,1167.9 547.786,1149.87 567.847,1131.84 587.909,1113.81 607.971,1095.78 628.033,1077.75 648.095,1059.73 668.157,1041.7 688.219,1023.67 708.281,1023.67 728.343,1005.64 748.405,1005.64 768.467,987.611 788.529,969.583 808.59,951.554 828.652,933.526 848.714,915.497 868.776,915.497 888.838,897.469 908.9,879.44 928.962,861.412 949.024,861.412 969.086,843.383 989.148,825.355 1009.21,807.326 1029.27,807.326 1049.33,789.297 1069.4,789.297 1089.46,771.269 1109.52,753.24 1129.58,735.212 1149.64,717.183 1169.7,717.183 1189.77,699.155 1209.83,681.126 1229.89,681.126 1249.95,663.098 1270.01,645.069 1290.08,645.069 1310.14,627.041 1330.2,609.012 1350.26,609.012 1370.32,590.984 1390.39,590.984 1410.45,572.955 1430.51,554.927 1450.57,536.898 1470.63,536.898 1490.7,518.87 1510.76,500.841 1530.82,500.841 1550.88,482.813 1570.94,464.784 1591.01,464.784 1611.07,446.756 1631.13,446.756 1651.19,428.727 1671.25,428.727 1691.31,410.699 1711.38,392.67 1731.44,374.642 1751.5,374.642 1771.56,356.613 1791.62,356.613 1811.69,338.585 1831.75,320.556 1851.81,320.556 1871.87,302.528 1891.93,284.499 1912,284.499 1932.06,266.471 1952.12,266.471 1972.18,248.442 1992.24,230.414 2012.31,230.414 2032.37,212.385 2052.43,212.385 2072.49,194.357 2092.55,194.357 2112.61,176.328 2132.68,176.328 2152.74,158.3 2172.8,140.271 2192.86,122.243 2212.92,122.243 2232.99,104.214 2253.05,104.214 2273.11,86.1857 2293.17,86.1857 \"/>\n",
       "</svg>\n"
      ]
     },
     "metadata": {},
     "output_type": "display_data"
    }
   ],
   "source": [
    "function pol_plot(k, pol) \n",
    "    Plots.plot(k, k[pol], primary=false, xlabel = \"Current capital stock, k \", ylabel = \"Policy function, k'\", linewidth= 2)\n",
    "end\n",
    "pol_plot(k, pol) "
   ]
  },
  {
   "attachments": {},
   "cell_type": "markdown",
   "metadata": {},
   "source": [
    "Note that both the value function and the policy function are strictly increasing in k. For a proof, the former directly comes from SLP Theorem 4.7. The latter can be induced together with SLP Theorem 4.8."
   ]
  },
  {
   "attachments": {},
   "cell_type": "markdown",
   "metadata": {},
   "source": [
    "##### 2.3.2 Improving the code towards elegance\n",
    "\n",
    "The code above works fine if you are using matlab (with slight adjustment). To make it better, the first thing you want to take use of is the strong functional operations on Julia. You can invoke pre-defined functions within functions.\n",
    "\n",
    "Define the utility function and production function each with one line. "
   ]
  },
  {
   "cell_type": "code",
   "execution_count": 21,
   "metadata": {},
   "outputs": [
    {
     "data": {
      "text/plain": [
       "F (generic function with 1 method)"
      ]
     },
     "metadata": {},
     "output_type": "display_data"
    }
   ],
   "source": [
    "u(c) = c^(1 - σ)/(1 - σ)\n",
    "F(k) = A * k^α"
   ]
  },
  {
   "attachments": {},
   "cell_type": "markdown",
   "metadata": {},
   "source": [
    "Make the functions as inputs to the VFI. \n",
    "\n",
    "Also I made a minor change so that v and k are generated within the function defined, which is generally considered as good practice."
   ]
  },
  {
   "cell_type": "code",
   "execution_count": 22,
   "metadata": {},
   "outputs": [
    {
     "data": {
      "text/plain": [
       "VFI_baseline_v2 (generic function with 1 method)"
      ]
     },
     "metadata": {},
     "output_type": "display_data"
    }
   ],
   "source": [
    "# VFI (still bad practice)\n",
    "function VFI_baseline_v2(σ, β, A, α, δ, N)\n",
    "    # Generate v and k\n",
    "    v = zeros(N) #initial guess of value function v(k), here just 0.0 for any k\n",
    "    k_tilde = (A / δ)^(1 / (1 - α))\n",
    "    k = range(0.01, k_tilde, N) #Note that the grids for k' is same as k\n",
    "\n",
    "    pol = similar(v, Int) # will be used for storing the policy function (k'), as an index\n",
    "    v1 = similar(v) # will be used for storing updated value function\n",
    "\n",
    "    iterate = 0 # keep track of how many iterations we have run\n",
    "    tol = 1e-6 # the critical tolerance\n",
    "    \n",
    "    while true # the code keeps iterating itself until we manualy break it\n",
    "        distance = zero(eltype(v)) # will be used to keep track of the difference between v and Tv\n",
    "        \n",
    "        # outer loop over each grid of v\n",
    "        for i in eachindex(v) # iterate over value function\n",
    "            pol_i = 1\n",
    "            just_started = true  # will be used later to store v with choosing k'= 0\n",
    "            vmax = zero(eltype(v)) # will be used later to store the maximized v\n",
    "\n",
    "            # most inner loop over potential k'\n",
    "            for j in eachindex(k) \n",
    "                c = F(k[i]) + (1 - δ) * k[i] - k[j] # this is the consumption if we choose k' = k[j]\n",
    "                if c >= 0.0 # make sure consumption is nonnegative\n",
    "                    v_tmp = u(c) + β * v[j] #v if choosing k' = k[j]\n",
    "                    if just_started # logic operation \n",
    "                        vmax = v_tmp # store the value function\n",
    "                        pol_i = j # store the policy function (an index on k)\n",
    "                        just_started = false\n",
    "                    elseif v_tmp > vmax \n",
    "                        pol_i = j\n",
    "                        vmax = v_tmp\n",
    "                    end\n",
    "                end\n",
    "            end\n",
    "        \n",
    "            v1[i] = vmax #update maximized value\n",
    "            pol[i] = pol_i #update policy function\n",
    "            if distance < abs(vmax - v[i])\n",
    "                distance = abs(vmax - v[i]) #update distance\n",
    "            end\n",
    "        end\n",
    "\n",
    "        (distance < tol || iterate == 1000) && break # break out the whole loop if one of the statements are true\n",
    "        iterate += 1\n",
    "        v.= v1# update the value, equivalently v = copy(v1)\n",
    "    end\n",
    "    return (v=v, pol=pol, iterate=iterate)\n",
    "end"
   ]
  },
  {
   "cell_type": "code",
   "execution_count": 23,
   "metadata": {},
   "outputs": [
    {
     "data": {
      "text/plain": [
       "(v = [-141.6000605365398, -13.982081957061373, -11.222006674686714, -9.97467946907761, -9.194802019095095, -8.641506656983273, -8.23605937587854, -7.9187196210739685, -7.662167409250431, -7.446410754534364  …  -4.775705127339619, -4.7678914912950106, -4.760029024037419, -4.752245655402492, -4.744586503571926, -4.736843187659619, -4.7292611942669005, -4.721836140169183, -4.714354354769835, -4.707224761555834], pol = [1, 3, 4, 5, 6, 8, 9, 10, 11, 12  …  68, 68, 69, 70, 71, 71, 72, 72, 73, 73], iterate = 157)"
      ]
     },
     "metadata": {},
     "output_type": "display_data"
    }
   ],
   "source": [
    "(v, pol, iterate) =  VFI_baseline_v2(σ, β, A, α, δ, 100)"
   ]
  },
  {
   "cell_type": "code",
   "execution_count": 24,
   "metadata": {},
   "outputs": [
    {
     "name": "stdout",
     "output_type": "stream",
     "text": [
      "The value function converged in 157 loops\n"
     ]
    }
   ],
   "source": [
    "println(\"The value function converged in $iterate loops\")"
   ]
  },
  {
   "attachments": {},
   "cell_type": "markdown",
   "metadata": {},
   "source": [
    "We can do even better. Functions in Julia allow pre-specified values for some inputs (it uses the default value unless otherwise specified). Note that not only we can pre-specify parameters, but we can also pre-specify the grids (vectors).Note that this only helps to make the code look nicer and you don't need to carry around something you don't change a lot."
   ]
  },
  {
   "cell_type": "code",
   "execution_count": 26,
   "metadata": {},
   "outputs": [
    {
     "data": {
      "text/plain": [
       "VFI_baseline_v3 (generic function with 1 method)"
      ]
     },
     "metadata": {},
     "output_type": "display_data"
    }
   ],
   "source": [
    "# VFI (Acceptable practice)\n",
    "function VFI_baseline_v3(σ, β, A, α, δ; N = 100, tol = 1e-6 , v = zeros(N), k = range(0.01, (A / δ)^(1 / (1 - α)), N))\n",
    "    pol = similar(v, Int) # will be used for storing the policy function (k'), as an index\n",
    "    v1 = similar(v) # will be used for storing updated value function\n",
    "\n",
    "    iterate = 0 # keep track of how many iterations we have run\n",
    "    \n",
    "    while true # the code keeps iterating itself until we manually break it\n",
    "        distance = zero(eltype(v)) # will be used to keep track of the difference between v and Tv\n",
    "        \n",
    "        # outer loop over each grid of v\n",
    "        for i in eachindex(v) # iterate over value function\n",
    "            pol_i = 1\n",
    "            just_started = true  # will be used later to store v with choosing k'= 0\n",
    "            vmax = zero(eltype(v)) # will be used later to store the maximized v\n",
    "\n",
    "            # most inner loop over potential k'\n",
    "            for j in eachindex(k) \n",
    "                c = F(k[i]) + (1 - δ) * k[i] - k[j] # this is the consumption if we choose k' = k[j]\n",
    "                if c >= 0.0 # make sure consumption is nonnegative\n",
    "                    v_tmp = u(c) + β * v[j] #v if choosing k' = k[j]\n",
    "                    if just_started # logic operation \n",
    "                        vmax = v_tmp # store the value function\n",
    "                        pol_i = j # store the policy function (an index on k)\n",
    "                        just_started = false\n",
    "                    elseif v_tmp > vmax \n",
    "                        pol_i = j\n",
    "                        vmax = v_tmp\n",
    "                    end\n",
    "                end\n",
    "            end\n",
    "        \n",
    "            v1[i] = vmax #update maximized value\n",
    "            pol[i] = pol_i #update policy function\n",
    "            if distance < abs(vmax - v[i])\n",
    "                distance = abs(vmax - v[i]) #update distance\n",
    "            end\n",
    "        end\n",
    "\n",
    "        (distance < tol || iterate == 1000) && break # break out the whole loop if one of the statements are true\n",
    "        iterate += 1\n",
    "        v.= v1# update the value, equivalently v = copy(v1)\n",
    "    end\n",
    "    return (v=v, pol=pol, iterate=iterate)\n",
    "end"
   ]
  },
  {
   "cell_type": "code",
   "execution_count": 27,
   "metadata": {},
   "outputs": [
    {
     "data": {
      "text/plain": [
       "(v = [-141.6000605365398, -13.982081957061373, -11.222006674686714, -9.97467946907761, -9.194802019095095, -8.641506656983273, -8.23605937587854, -7.9187196210739685, -7.662167409250431, -7.446410754534364  …  -4.775705127339619, -4.7678914912950106, -4.760029024037419, -4.752245655402492, -4.744586503571926, -4.736843187659619, -4.7292611942669005, -4.721836140169183, -4.714354354769835, -4.707224761555834], pol = [1, 3, 4, 5, 6, 8, 9, 10, 11, 12  …  68, 68, 69, 70, 71, 71, 72, 72, 73, 73], iterate = 157)"
      ]
     },
     "metadata": {},
     "output_type": "display_data"
    }
   ],
   "source": [
    "VFI_baseline_v3(σ, β, A, α, δ)"
   ]
  },
  {
   "attachments": {},
   "cell_type": "markdown",
   "metadata": {},
   "source": [
    "One more slight modification is to use struct. If you have experience with c++, this basically works in the same way as classes in c++. "
   ]
  },
  {
   "cell_type": "code",
   "execution_count": 28,
   "metadata": {},
   "outputs": [
    {
     "data": {
      "text/plain": [
       "Household(2.0, 0.9, 2.0, 0.7, 0.9)"
      ]
     },
     "metadata": {},
     "output_type": "display_data"
    }
   ],
   "source": [
    "Base.@kwdef struct Household # or simply @kwdef\n",
    "    σ :: Float64 = 2.0\n",
    "    β :: Float64 = 0.9\n",
    "    A :: Float64 = 2.0\n",
    "    α :: Float64 = 0.7\n",
    "    δ :: Float64 = 0.9\n",
    "end\n",
    "\n",
    "h = Household() \n",
    "# to modify some of the inputs, say σ to 4.0, simply let h = Household(σ = 4.0)"
   ]
  },
  {
   "attachments": {},
   "cell_type": "markdown",
   "metadata": {},
   "source": [
    "First, we need to make some slight modifications on the function for utility and production so that it works with our struct. Here, `m` refers to the struct and `m.` refers to whatever parameter in m."
   ]
  },
  {
   "cell_type": "code",
   "execution_count": 29,
   "metadata": {},
   "outputs": [
    {
     "data": {
      "text/plain": [
       "F1 (generic function with 1 method)"
      ]
     },
     "metadata": {},
     "output_type": "display_data"
    }
   ],
   "source": [
    "u1(c, m) = c^(1 - m.σ)/(1 - m.σ)\n",
    "F1(k, m) = m.A * k^m.α"
   ]
  },
  {
   "attachments": {},
   "cell_type": "markdown",
   "metadata": {},
   "source": [
    "Then, for VFI, we can suppress all inputs into one."
   ]
  },
  {
   "cell_type": "code",
   "execution_count": 30,
   "metadata": {},
   "outputs": [
    {
     "data": {
      "text/plain": [
       "VFI_baseline_v4 (generic function with 1 method)"
      ]
     },
     "metadata": {},
     "output_type": "display_data"
    }
   ],
   "source": [
    "# VFI (Better practice)\n",
    "function VFI_baseline_v4(h; N = 100, tol = 1e-6 , v = zeros(N), k = range(0.01, (h.A / h.δ)^(1 / (1 - h.α)), N))\n",
    "    pol = similar(v, Int) # will be used for storing the policy function (k'), as an index\n",
    "    v1 = similar(v) # will be used for storing updated value function\n",
    "    \n",
    "    iterate = 0 # keep track of how many iterations we have run\n",
    "    \n",
    "    while true # the code keeps iterating itself until we manually break it\n",
    "\n",
    "        distance = zero(eltype(v)) # will be used to keep track of the difference between v and Tv\n",
    "        \n",
    "        # outer loop over each grid of v\n",
    "        for i in eachindex(v) # iterate over value function\n",
    "            pol_i = 1\n",
    "            just_started = true  # will be used later to store v with choosing k'= 0\n",
    "            vmax = zero(eltype(v)) # will be used later to store the maximized v\n",
    "\n",
    "            # most inner loop over potential k'\n",
    "            for j in eachindex(k) \n",
    "                c = F1(k[i], h) + (1 - h.δ) * k[i] - k[j] # this is the consumption if we choose k' = k[j]\n",
    "                if c >= 0.0 # make sure consumption is nonnegative\n",
    "                    v_tmp = u1(c,h) + h.β * v[j] #v if choosing k' = k[j]\n",
    "                    if just_started # logic operation \n",
    "                        vmax = v_tmp # store the value function\n",
    "                        pol_i = j # store the policy function (an index on k)\n",
    "                        just_started = false\n",
    "                    elseif v_tmp > vmax \n",
    "                        pol_i = j\n",
    "                        vmax = v_tmp\n",
    "                    end\n",
    "                end\n",
    "            end\n",
    "        \n",
    "            v1[i] = vmax #update maximized value\n",
    "            pol[i] = pol_i #update policy function\n",
    "            if distance < abs(vmax - v[i])\n",
    "                distance = abs(vmax - v[i]) #update distance\n",
    "            end\n",
    "        end\n",
    "\n",
    "        (distance < tol || iterate == 1000) && break # break out the whole loop if one of the statements are true\n",
    "        iterate += 1\n",
    "        v.= v1# update the value, equivalently v = copy(v1)\n",
    "    end\n",
    "    return (v=v, pol=pol, iterate=iterate)\n",
    "end"
   ]
  },
  {
   "cell_type": "code",
   "execution_count": 31,
   "metadata": {},
   "outputs": [
    {
     "data": {
      "text/plain": [
       "(v = [-141.6000605365398, -13.982081957061373, -11.222006674686714, -9.97467946907761, -9.194802019095095, -8.641506656983273, -8.23605937587854, -7.9187196210739685, -7.662167409250431, -7.446410754534364  …  -4.775705127339619, -4.7678914912950106, -4.760029024037419, -4.752245655402492, -4.744586503571926, -4.736843187659619, -4.7292611942669005, -4.721836140169183, -4.714354354769835, -4.707224761555834], pol = [1, 3, 4, 5, 6, 8, 9, 10, 11, 12  …  68, 68, 69, 70, 71, 71, 72, 72, 73, 73], iterate = 157)"
      ]
     },
     "metadata": {},
     "output_type": "display_data"
    }
   ],
   "source": [
    "VFI_baseline_v4(h)"
   ]
  },
  {
   "attachments": {},
   "cell_type": "markdown",
   "metadata": {},
   "source": [
    "There are many advantages with using struct:\n",
    "\n",
    "* It is very clean.\n",
    "* There are no global variables stored. Using local variables whenever possible prevents you away from a lot of mistakes and bugs.\n",
    "* Using struct keeps the input intact. A typical thing that happens when working with a big project is that we often need to modify the inputs to some functions we wrote (say we want to also include a tax on capital rental income). If you applied this functions around in your code, with struct you don't need to modify every single one of them. \n",
    "* It avoids some often unnoticed mistakes like messing up the order of your inputs.\n",
    "* It is easy to modify (as the comment before).\n",
    "\n",
    "One potential disadvantage is that it is slightly slower (really small difference), but most of the time this tiny difference of speed doesn't matter."
   ]
  },
  {
   "attachments": {},
   "cell_type": "markdown",
   "metadata": {},
   "source": [
    "##### 2.3.3 Improving the code towards speed\n",
    "\n",
    "For the purpose of the code, it is already fast enough so we don't really have incentive to make adjustments for speed. However, for projects that are more computationally heavy, this section is to give a glimpse for the potential ways to boost efficiency of the code.\n",
    "\n",
    "Piece of advice to keep in mind: a large fractions of tricks or methodologies to increase speed are at the cost of the clarity of the code. The golden rule is to only consider speed up to the point you need for the particular project. Correctness and clarity are always of greater priority.\n",
    "\n",
    "Here I introduce two tricks that provides significant gain in speed and still preserves the clarity in code. To make comparisons between the original code, from now on I make the number of grids N bigger (1000)."
   ]
  },
  {
   "cell_type": "code",
   "execution_count": 32,
   "metadata": {},
   "outputs": [
    {
     "name": "stdout",
     "output_type": "stream",
     "text": [
      "  3.473902 seconds (5.58 k allocations: 406.332 KiB, 0.17% compilation time)\n"
     ]
    },
    {
     "data": {
      "text/plain": [
       "(v = [-43.72028630185341, -28.841363390515816, -23.574176627043187, -20.68493421026871, -18.811137873668766, -17.470185034668205, -16.429607986655366, -15.615620425521886, -14.936554411075287, -14.374732380493473  …  -4.711108839962214, -4.710391274429081, -4.709675908528837, -4.708961199547117, -4.708246173882994, -4.707531410095677, -4.706818288630849, -4.706109231525942, -4.705398964856121, -4.704688876268555], pol = [2, 4, 6, 8, 10, 11, 13, 15, 16, 18  …  727, 727, 728, 728, 729, 730, 730, 730, 731, 732], iterate = 128)"
      ]
     },
     "metadata": {},
     "output_type": "display_data"
    }
   ],
   "source": [
    "# speed of the original code\n",
    "@time begin\n",
    "# Speed of the original code\n",
    "    v4, = VFI_baseline_v4(h; N= 1000) #Only get out v\n",
    "end"
   ]
  },
  {
   "attachments": {},
   "cell_type": "markdown",
   "metadata": {},
   "source": [
    "##### 2.3.3.1 A trick within the loop"
   ]
  },
  {
   "attachments": {},
   "cell_type": "markdown",
   "metadata": {},
   "source": [
    "Here comes the magic. Try to find the difference between the codes (v5 and v4) by yourself."
   ]
  },
  {
   "cell_type": "code",
   "execution_count": 33,
   "metadata": {},
   "outputs": [
    {
     "data": {
      "text/plain": [
       "VFI_baseline_v5 (generic function with 1 method)"
      ]
     },
     "metadata": {},
     "output_type": "display_data"
    }
   ],
   "source": [
    "# VFI (Better practice)\n",
    "function VFI_baseline_v5(h; N = 100, tol = 1e-6 , v = zeros(N), k = range(0.01, (h.A / h.δ)^(1 / (1 - h.α)), N))\n",
    "    pol = similar(v, Int) # will be used for storing the policy function (k'), as an index\n",
    "    v1 = similar(v) # will be used for storing updated value function\n",
    "    iterate = 0 # keep track of how many iterations we have run\n",
    "    \n",
    "    while true # the code keeps iterating itself until we manually break it\n",
    "        \n",
    "        distance = zero(eltype(v)) # will be used to keep track of the difference between v and Tv\n",
    "        pol_i = 1\n",
    "\n",
    "        # outer loop over each grid of v\n",
    "        for i in eachindex(v) # iterate over value function\n",
    "            just_started = true  # will be used later to store v with choosing k'= 0\n",
    "            vmax = zero(eltype(v)) # will be used later to store the maximized v\n",
    "\n",
    "            # most inner loop over potential k'\n",
    "\n",
    "            ###################### Here ###########################\n",
    "            for j in pol_i:N  \n",
    "            ###################### Here ###########################\n",
    "                c = F1(k[i], h) + (1 - h.δ) * k[i] - k[j] # this is the consumption if we choose k' = k[j]\n",
    "                if c >= 0.0 # make sure consumption is nonnegative\n",
    "                    v_tmp = u1(c,h) + h.β * v[j] #v if choosing k' = k[j]\n",
    "                    if just_started # logic operation \n",
    "                        vmax = v_tmp # store the value function\n",
    "                        pol_i = j # store the policy function (an index on k)\n",
    "                        just_started = false\n",
    "                    elseif v_tmp > vmax \n",
    "                        pol_i = j\n",
    "                        vmax = v_tmp\n",
    "                    ###################### Here ###########################\n",
    "                    else\n",
    "                        break #only break out of the most inner loop\n",
    "                    end\n",
    "                    ###################### Here ###########################\n",
    "                end\n",
    "            end\n",
    "        \n",
    "            v1[i] = vmax #update maximized value\n",
    "            pol[i] = pol_i #update policy function\n",
    "            if distance < abs(vmax - v[i])\n",
    "                distance = abs(vmax - v[i]) #update distance\n",
    "            end\n",
    "        end\n",
    "\n",
    "        (distance < tol || iterate == 1000) && break # break out the whole loop if one of the statements are true\n",
    "        iterate += 1\n",
    "        v.= v1# update the value, equivalently v = copy(v1)\n",
    "    end\n",
    "    return (v=v, pol=pol, iterate=iterate)\n",
    "end"
   ]
  },
  {
   "cell_type": "code",
   "execution_count": 34,
   "metadata": {},
   "outputs": [
    {
     "name": "stdout",
     "output_type": "stream",
     "text": [
      "  0.044231 seconds (24.71 k allocations: 1.622 MiB, 73.82% compilation time)\n"
     ]
    },
    {
     "data": {
      "text/plain": [
       "(v = [-43.72028630185341, -28.841363390515816, -23.574176627043187, -20.68493421026871, -18.811137873668766, -17.470185034668205, -16.429607986655366, -15.615620425521886, -14.936554411075287, -14.374732380493473  …  -4.711108839962214, -4.710391274429081, -4.709675908528837, -4.708961199547117, -4.708246173882994, -4.707531410095677, -4.706818288630849, -4.706109231525942, -4.705398964856121, -4.704688876268555], pol = [2, 4, 6, 8, 10, 11, 13, 15, 16, 18  …  727, 727, 728, 728, 729, 730, 730, 730, 731, 732], iterate = 128)"
      ]
     },
     "metadata": {},
     "output_type": "display_data"
    }
   ],
   "source": [
    "@time begin\n",
    "    v5, = VFI_baseline_v5(h; N= 1000)\n",
    "end"
   ]
  },
  {
   "cell_type": "code",
   "execution_count": 35,
   "metadata": {},
   "outputs": [
    {
     "data": {
      "text/plain": [
       "true"
      ]
     },
     "metadata": {},
     "output_type": "display_data"
    }
   ],
   "source": [
    "# Check that they do yield same value function (use approximately equal as floats can sometimes have some random minor differences)\n",
    "v4 ≈ v5"
   ]
  },
  {
   "cell_type": "code",
   "execution_count": 37,
   "metadata": {},
   "outputs": [
    {
     "data": {
      "text/plain": [
       "33.43053514503403"
      ]
     },
     "metadata": {},
     "output_type": "display_data"
    }
   ],
   "source": [
    "# the time difference\n",
    "1.478666/0.044231"
   ]
  },
  {
   "attachments": {},
   "cell_type": "markdown",
   "metadata": {},
   "source": [
    "The code is absurdly 33 times faster (would be even larger difference if N is larger). \n",
    "\n",
    "What happened?\n",
    "\n",
    "***First modification:*** Note that before when I was iterating k' I used\n",
    "\n",
    "``` for j in eachindex(k) ```,\n",
    "\n",
    "which, in this environment is equivalent to \n",
    "\n",
    "``` for j in 1:N ```.\n",
    "\n",
    "However, now the code writes\n",
    "\n",
    "``` for j in pol_i:N ```. \n",
    "\n",
    "Instead of the beginning, I start from the policy function of the last i. Why doing this still yield the same result? It is due to strictly increasing policy function. If $g(k[i]) = k$[pol_i], then $g(k[i + 1]) ≥  k$[pol_i], so we can start from the previous policy. This is a huge gain of efficiency.\n",
    "\n",
    "***Second modification:***\n",
    "\n",
    "From the graph of the value function, you see that it is strictly concave in $k$. This means that when I update my guess of $V(k)$ when searching monotonically along $k'$, I can stop when the RHS of Bellman equation starts dropping.\n",
    "\n",
    "This is what \n",
    "\n",
    "``` else \\\\ break #only break out of the most inner loop end ```\n",
    "\n",
    "does."
   ]
  },
  {
   "attachments": {},
   "cell_type": "markdown",
   "metadata": {},
   "source": [
    "#### 2.4 Vectorization\n",
    "\n",
    "Julia is a language written in vector operations. Vectorization is in a lot of cases preferred for efficiency. For most dynamic programming problems with uncertainties (we will see in next couple lectures), vectorization is desirable and should be how the code will look like in the end. However in our simple example here, as you will see, without modifications, vectorization performs worse than loops, but it is a useful tool that one should keep in mind.\n",
    "\n",
    "Why don't we always start with vectorization? Vectorization requires full restructuring of the algorithm and in most cases is more elegant but less straightforward than simple loops. Remember that a nice-looking but wrong code has zero value. Thus, in practice, you should start with the loop version (as we did) and make sure you fully understand it, before going to vectorization.\n",
    "\n",
    "For the purpose here, let's do step by step. First, we will vectorize the inner loop. That is, fix k and find k' that maximize the RHS of the Bellman equation."
   ]
  },
  {
   "cell_type": "code",
   "execution_count": 38,
   "metadata": {},
   "outputs": [],
   "source": [
    "using LinearAlgebra"
   ]
  },
  {
   "attachments": {},
   "cell_type": "markdown",
   "metadata": {},
   "source": [
    "##### 2.4.1 Vectorizing the inner loop\n",
    "\n",
    "##### 2.4.1.1 Quick introduction to broadcasting\n",
    "\n",
    "In Julia, the tool that comes very handy for vectorization is the simple \".\". The dot broadcasts the operation you want to perform on each element of an array (or a matrix). Say x is an array and you want to add 2 to every element of x. You probably want to do the following:"
   ]
  },
  {
   "cell_type": "code",
   "execution_count": 39,
   "metadata": {},
   "outputs": [
    {
     "ename": "MethodError",
     "evalue": "MethodError: no method matching +(::Vector{Int64}, ::Int64)\nFor element-wise addition, use broadcasting with dot syntax: array .+ scalar\n\nClosest candidates are:\n  +(::Any, ::Any, !Matched::Any, !Matched::Any...)\n   @ Base operators.jl:578\n  +(!Matched::T, ::T) where T<:Union{Int128, Int16, Int32, Int64, Int8, UInt128, UInt16, UInt32, UInt64, UInt8}\n   @ Base int.jl:87\n  +(!Matched::Rational, ::Integer)\n   @ Base rational.jl:327\n  ...\n",
     "output_type": "error",
     "traceback": [
      "MethodError: no method matching +(::Vector{Int64}, ::Int64)\n",
      "For element-wise addition, use broadcasting with dot syntax: array .+ scalar\n",
      "\n",
      "Closest candidates are:\n",
      "  +(::Any, ::Any, !Matched::Any, !Matched::Any...)\n",
      "   @ Base operators.jl:578\n",
      "  +(!Matched::T, ::T) where T<:Union{Int128, Int16, Int32, Int64, Int8, UInt128, UInt16, UInt32, UInt64, UInt8}\n",
      "   @ Base int.jl:87\n",
      "  +(!Matched::Rational, ::Integer)\n",
      "   @ Base rational.jl:327\n",
      "  ...\n",
      "\n",
      "\n",
      "Stacktrace:\n",
      " [1] top-level scope\n",
      "   @ ~/Documents/Teaching/Julia course 2024/Julia/Lectures/Julia_Lec_2_Compecon_Xing_Xu.ipynb:2"
     ]
    }
   ],
   "source": [
    "x = [2, 2] #some random array\n",
    "x + 2"
   ]
  },
  {
   "attachments": {},
   "cell_type": "markdown",
   "metadata": {},
   "source": [
    "An error message arises and it is kind enough to remind you that you should instead do this:"
   ]
  },
  {
   "cell_type": "code",
   "execution_count": 40,
   "metadata": {},
   "outputs": [
    {
     "data": {
      "text/plain": [
       "2-element Vector{Int64}:\n",
       " 4\n",
       " 4"
      ]
     },
     "metadata": {},
     "output_type": "display_data"
    }
   ],
   "source": [
    "x = [2, 2] #some random array\n",
    "x .+ 2"
   ]
  },
  {
   "attachments": {},
   "cell_type": "markdown",
   "metadata": {},
   "source": [
    "which gives the correct result. The takeaway is to always use \".\" for any elementwise operation. \n",
    "\n",
    "An exception is for multipilcations. We can perform elementwise multipilcation without specification, i.e."
   ]
  },
  {
   "cell_type": "code",
   "execution_count": 41,
   "metadata": {},
   "outputs": [
    {
     "data": {
      "text/plain": [
       "2-element Vector{Int64}:\n",
       " 4\n",
       " 4"
      ]
     },
     "metadata": {},
     "output_type": "display_data"
    }
   ],
   "source": [
    "x = [2, 2] #some random array\n",
    "2 * x"
   ]
  },
  {
   "attachments": {},
   "cell_type": "markdown",
   "metadata": {},
   "source": [
    "Note that it also works with functions. f.(x) broadcasts f onto an array x. "
   ]
  },
  {
   "cell_type": "code",
   "execution_count": 42,
   "metadata": {},
   "outputs": [
    {
     "data": {
      "text/plain": [
       "2-element Vector{Int64}:\n",
       " 6\n",
       " 6"
      ]
     },
     "metadata": {},
     "output_type": "display_data"
    }
   ],
   "source": [
    "f(y) = 3*y\n",
    "\n",
    "f.(x)"
   ]
  },
  {
   "attachments": {},
   "cell_type": "markdown",
   "metadata": {},
   "source": [
    "Here we want to broadcast utility function onto all nonnegative consumptions. Note that `u1(c, m) = c^(1 - m.σ)/(1 - m.σ)`. With the first entry being the array that we want to broadcast on, we want to fix the second entry m so that the broadcast is correct. \n",
    "\n",
    "The code we need to use is then `u1.(c[mask], Ref(h))` instead of `u1.(c[mask], h)`, where the `Ref(h)` syntax is used to create a reference to the h struct, which allows us to broadcast the function properly.\n",
    "\n",
    "##### 2.4.1.2 Back to business\n",
    "\n",
    "One more thing to note is that v_tmp is now an array. I initialize it to be -Inf and only change the entries with positive consumptions. This guarantees that our optimization is correct.\n",
    "\n",
    "Now I provide the code for vectorization of the inner loop. Note that we can no longer apply the trick as before because with every k, we will have a different dimension of k', which will break the vectorization."
   ]
  },
  {
   "cell_type": "code",
   "execution_count": 43,
   "metadata": {},
   "outputs": [
    {
     "data": {
      "text/plain": [
       "VFI_baseline_vectorized (generic function with 1 method)"
      ]
     },
     "metadata": {},
     "output_type": "display_data"
    }
   ],
   "source": [
    "# VFI (Partially vectorized version)\n",
    "function VFI_baseline_vectorized(h; N=100, tol=1e-6, v=zeros(N), k=range(0.01, (h.A / h.δ)^(1 / (1 - h.α)), N))\n",
    "    pol = similar(v, Int) # will be used for storing the policy function (k'), as an index\n",
    "    v1 = similar(v) # will be used for storing updated value function\n",
    "    iterate = 0 # keep track of how many iterations we have run\n",
    "    v_tmp = similar(v) # will be used for calculating maximized value function for each i\n",
    "    c = similar(v) # preallocate space for c\n",
    "    mask = similar(c, Int) # preallocate space for the indicator for non-negativity\n",
    "\n",
    "    while true # the code keeps iterating itself until we manually break it\n",
    "        distance = zero(eltype(v)) # will be used to keep track of the difference between v and Tv\n",
    "\n",
    "        # outer loop over each grid of v\n",
    "        for i in eachindex(v) # iterate over value function\n",
    "            pol_i = 1\n",
    "            vmax = zero(eltype(v)) # will be used later to store the maximized v\n",
    "\n",
    "            # calculate consumption and value for all potential k' simultaneously\n",
    "            c = F1(k[i], h) .+ (1 - h.δ) * k[i] .- k # consumption for all potential k'\n",
    "            mask = (c .>= 0.0) # create an index for nonnegative consumptions\n",
    "\n",
    "            # Calculate temporary value for all potential k' simultaneously\n",
    "            v_tmp .= -Inf # Initialize v_tmp with -Inf for all elements\n",
    "            v_tmp[mask] .= u1.(c[mask], Ref(h)) .+ h.β .* v[mask] # Assign temporary value for elements with positive consumption\n",
    "\n",
    "            # Find the maximum value and corresponding policy index\n",
    "            vmax, pol_i = findmax(v_tmp, dims=1)\n",
    "\n",
    "            # Update v1 and pol arrays using the maximum value and policy index\n",
    "            v1[i] = vmax[1]\n",
    "            pol[i] = pol_i[1]\n",
    "            if distance < abs(vmax[1] - v[i])\n",
    "                distance = abs(vmax[1] - v[i]) # update distance\n",
    "            end\n",
    "        end\n",
    "\n",
    "        (distance < tol || iterate == 1000) && break # break out of the whole loop if one of the statements is true\n",
    "        iterate += 1\n",
    "        v .= v1 # update the value using element-wise assignment\n",
    "    end\n",
    "    return (v=v, pol=pol, iterate=iterate)\n",
    "end"
   ]
  },
  {
   "cell_type": "code",
   "execution_count": 44,
   "metadata": {},
   "outputs": [
    {
     "name": "stdout",
     "output_type": "stream",
     "text": [
      "  1.680241 seconds (1.88 M allocations: 3.306 GiB, 16.46% gc time, 12.01% compilation time)\n"
     ]
    },
    {
     "data": {
      "text/plain": [
       "(v = [-43.72028630185341, -28.841363390515816, -23.574176627043187, -20.68493421026871, -18.811137873668766, -17.470185034668205, -16.429607986655366, -15.615620425521886, -14.936554411075287, -14.374732380493473  …  -4.711108839962214, -4.710391274429081, -4.709675908528837, -4.708961199547117, -4.708246173882994, -4.707531410095677, -4.706818288630849, -4.706109231525942, -4.705398964856121, -4.704688876268555], pol = [2, 4, 6, 8, 10, 11, 13, 15, 16, 18  …  727, 727, 728, 728, 729, 730, 730, 730, 731, 732], iterate = 128)"
      ]
     },
     "metadata": {},
     "output_type": "display_data"
    }
   ],
   "source": [
    "@time begin\n",
    "    v6, = VFI_baseline_vectorized(h; N = 1000)\n",
    "end"
   ]
  },
  {
   "attachments": {},
   "cell_type": "markdown",
   "metadata": {},
   "source": [
    "Check whether the result is correct."
   ]
  },
  {
   "cell_type": "code",
   "execution_count": 45,
   "metadata": {},
   "outputs": [
    {
     "data": {
      "text/plain": [
       "true"
      ]
     },
     "metadata": {},
     "output_type": "display_data"
    }
   ],
   "source": [
    "v6 ≈ v5"
   ]
  },
  {
   "attachments": {},
   "cell_type": "markdown",
   "metadata": {},
   "source": [
    "##### 2.4.2 Fully vectorized VFI\n",
    "\n",
    "If you are a \"for loop\" hater, then the following code will sing to you. It is very elegant and used a bunch of cool built-in functions along the way."
   ]
  },
  {
   "cell_type": "code",
   "execution_count": 46,
   "metadata": {},
   "outputs": [
    {
     "data": {
      "text/plain": [
       "VFI_baseline_full_vec (generic function with 1 method)"
      ]
     },
     "metadata": {},
     "output_type": "display_data"
    }
   ],
   "source": [
    "# VFI (Fully vectorized version)\n",
    "function VFI_baseline_full_vec(h; N=100, tol=1e-6, v=zeros(N), k=range(0.01, (h.A / h.δ)^(1 / (1 - h.α)), N))\n",
    "    pol = similar(v, Int) # will be used for storing the policy function (k'), as an index\n",
    "    v1 = similar(v) # will be used for storing updated value function\n",
    "    iterate = 0 # keep track of how many iterations we have run\n",
    "    c = similar(v, (N,N)) # preallocate space for c\n",
    "    v_tmp = similar(c) # will be used for calculating maximized value function for all i\n",
    "    mask = similar(c, Int) # preallocate space for the indicator for non-negativity\n",
    "\n",
    "    while true # the code keeps iterating itself until we manually break it\n",
    "        distance = zero(eltype(v)) # will be used to keep track of the difference between v and Tv\n",
    "\n",
    "        # calculate consumption and value for all combinations of k and k' simultaneously\n",
    "        c = F1.(k, Ref(h)) .+ (1 - h.δ) .* k .- k' # consumption for all combinations of k and k'\n",
    "        mask = (c .>= 0.0) # create an index for nonnegative consumptions\n",
    "\n",
    "        # Calculate temporary value for all combinations of k and k' simultaneously\n",
    "        v_tmp .= -Inf # Initialize v_tmp with -Inf for all elements\n",
    "        v_tmp[mask] .= u1.(c[mask], Ref(h)) .+ h.β .* (repeat(v, outer = [1,N]))'[mask] # Assign temporary value for elements with positive consumption\n",
    "\n",
    "        # Find the maximum value and corresponding policy index along rows\n",
    "        vmax, pol_i = findmax(v_tmp, dims=2)\n",
    "\n",
    "        # Update v1 and pol arrays using the maximum value and policy index\n",
    "        v1 .= vmax[:, 1]\n",
    "        pol .= getindex.(pol_i[:, 1], 2)\n",
    "        distance = maximum(abs.(vmax[:, 1] .- v)) # update distance\n",
    "\n",
    "        (distance < tol || iterate == 1000) && break # break out of the whole loop if one of the statements is true\n",
    "        iterate += 1\n",
    "\n",
    "        # Vectorized update of v using element-wise assignment\n",
    "        v .= v1\n",
    "    end\n",
    "    return (v=v, pol=pol, iterate=iterate)\n",
    "end\n"
   ]
  },
  {
   "cell_type": "code",
   "execution_count": 47,
   "metadata": {},
   "outputs": [
    {
     "name": "stdout",
     "output_type": "stream",
     "text": [
      "  3.961815 seconds (1.59 M allocations: 3.741 GiB, 4.75% gc time, 11.66% compilation time)\n"
     ]
    },
    {
     "data": {
      "text/plain": [
       "(v = [-43.72028630185341, -28.841363390515816, -23.574176627043187, -20.684934210268707, -18.811137873668766, -17.470185034668205, -16.429607986655366, -15.615620425521886, -14.936554411075287, -14.374732380493473  …  -4.711108839962214, -4.710391274429081, -4.709675908528837, -4.708961199547117, -4.708246173882994, -4.707531410095677, -4.706818288630849, -4.706109231525942, -4.705398964856121, -4.704688876268555], pol = [2, 4, 6, 8, 10, 11, 13, 15, 16, 18  …  727, 727, 728, 728, 729, 730, 730, 730, 731, 732], iterate = 128)"
      ]
     },
     "metadata": {},
     "output_type": "display_data"
    }
   ],
   "source": [
    "@time begin\n",
    "    v7, = VFI_baseline_full_vec(h; N=1000)\n",
    "end"
   ]
  },
  {
   "attachments": {},
   "cell_type": "markdown",
   "metadata": {},
   "source": [
    "Check if the result is correct."
   ]
  },
  {
   "cell_type": "code",
   "execution_count": 48,
   "metadata": {},
   "outputs": [
    {
     "data": {
      "text/plain": [
       "true"
      ]
     },
     "metadata": {},
     "output_type": "display_data"
    }
   ],
   "source": [
    "v7 ≈ v6"
   ]
  },
  {
   "attachments": {},
   "cell_type": "markdown",
   "metadata": {},
   "source": [
    "##### 2.4.3 Why in this case vectorization is slightly slower?\n",
    "\n",
    "Chat GPT has a wonderful explanation:\n",
    "\n",
    "\"The vectorized version of the code is slower compared to the original loop version for a few reasons:\n",
    "\n",
    "* Memory usage: The vectorized version uses additional memory to store intermediate arrays, such as c and v_tmp, which can lead to increased memory usage and slower performance. This is especially true if the grid size N is large.\n",
    "\n",
    "* Array broadcasting: Broadcasting operations (.) in Julia can sometimes be less efficient compared to explicit loops, especially when dealing with large arrays. Broadcasting can result in unnecessary memory allocations and temporary arrays.\n",
    "\n",
    "* Cache efficiency: The vectorized version might not take advantage of CPU cache efficiency as effectively as the loop version. In the loop version, the calculations are done sequentially, which can utilize the CPU cache more efficiently. The vectorized version performs calculations across multiple elements simultaneously, which can lead to cache misses.\"\n",
    "\n",
    "Another reason unmentioned by GPT is that loops on Julia are very fast if written properly. If you are solving the same problem with loops on Python, you will find it to be much slower than what we managed to do. On the other side, there are a lot that can be done to speed up the vectorized version of the code above. With appropriate adjustments, the code can have similar, if not better performance than the loop version, which is something to keep in mind for an actual project. \n",
    "\n",
    "For example, there's one trick we can apply on the last part. Note that we can pre-compute all consumption as for each k and k', consumption are fixed. This can also be done with the loop version but is much more convenient with vectorized VFI.\n",
    "\n",
    "##### 2.4.4 Example for optimizing VFI with vectorization\n",
    "\n",
    "This also works like magic. I just pulled a couple lines outside the loop but the efficiency rocketed."
   ]
  },
  {
   "cell_type": "code",
   "execution_count": 49,
   "metadata": {},
   "outputs": [
    {
     "data": {
      "text/plain": [
       "VFI_baseline_full_vec_pre_c (generic function with 1 method)"
      ]
     },
     "metadata": {},
     "output_type": "display_data"
    }
   ],
   "source": [
    "# VFI (Fully vectorized version with c computed outside the loop)\n",
    "function VFI_baseline_full_vec_pre_c(h; N=100, tol=1e-6, v=zeros(N), k=range(0.01, (h.A / h.δ)^(1 / (1 - h.α)), N))\n",
    "    pol = similar(v, Int) # will be used for storing the policy function (k'), as an index\n",
    "    v1 = similar(v) # will be used for storing updated value function\n",
    "    iterate = 0 # keep track of how many iterations we have run\n",
    "    # calculate consumption and value for all combinations of k and k' simultaneously\n",
    "    c = F1.(k, Ref(h)) .+ (1 - h.δ) .* k .- k' # consumption for all combinations of k and k'\n",
    "    mask = (c .>= 0.0) # create an index for nonnegative consumptions\n",
    "    v_tmp = similar(c) # will be used for calculating maximized value function for all i\n",
    "\n",
    "    # Calculate temporary value for all combinations of k and k' simultaneously\n",
    "    v_tmp .= -Inf # Initialize v_tmp with -Inf for all elements\n",
    "\n",
    "    while true # the code keeps iterating itself until we manually break it\n",
    "        distance = zero(eltype(v)) # will be used to keep track of the difference between v and Tv\n",
    "\n",
    "        v_tmp[mask] .= u1.(c[mask], Ref(h)) .+ h.β .* (repeat(v, outer = [1,N]))'[mask] # Assign temporary value for elements with positive consumption\n",
    "\n",
    "        # Find the maximum value and corresponding policy index along rows\n",
    "        vmax, pol_i = findmax(v_tmp, dims=2)\n",
    "\n",
    "        # Update v1 and pol arrays using the maximum value and policy index\n",
    "        v1 .= vmax[:, 1]\n",
    "        pol .= getindex.(pol_i[:, 1], 2)\n",
    "        distance = maximum(abs.(vmax[:, 1] .- v)) # update distance\n",
    "\n",
    "        (distance < tol || iterate == 1000) && break # break out of the whole loop if one of the statements is true\n",
    "        iterate += 1\n",
    "\n",
    "        # Update of v using element-wise assignment\n",
    "        v .= v1\n",
    "    end\n",
    "    return (v=v, pol=pol, iterate=iterate)\n",
    "end\n"
   ]
  },
  {
   "cell_type": "code",
   "execution_count": 50,
   "metadata": {},
   "outputs": [
    {
     "name": "stdout",
     "output_type": "stream",
     "text": [
      "  1.423058 seconds (314.05 k allocations: 2.673 GiB, 10.39% gc time, 9.41% compilation time)\n"
     ]
    },
    {
     "data": {
      "text/plain": [
       "(v = [-43.72028630185341, -28.841363390515816, -23.574176627043187, -20.684934210268707, -18.811137873668766, -17.470185034668205, -16.429607986655366, -15.615620425521886, -14.936554411075287, -14.374732380493473  …  -4.711108839962214, -4.710391274429081, -4.709675908528837, -4.708961199547117, -4.708246173882994, -4.707531410095677, -4.706818288630849, -4.706109231525942, -4.705398964856121, -4.704688876268555], pol = [2, 4, 6, 8, 10, 11, 13, 15, 16, 18  …  727, 727, 728, 728, 729, 730, 730, 730, 731, 732], iterate = 128)"
      ]
     },
     "metadata": {},
     "output_type": "display_data"
    }
   ],
   "source": [
    "@time begin\n",
    "    v8, = VFI_baseline_full_vec_pre_c(h; N=1000)\n",
    "end"
   ]
  },
  {
   "cell_type": "code",
   "execution_count": 51,
   "metadata": {},
   "outputs": [
    {
     "data": {
      "text/plain": [
       "true"
      ]
     },
     "metadata": {},
     "output_type": "display_data"
    }
   ],
   "source": [
    "v8 ≈ v7"
   ]
  },
  {
   "attachments": {},
   "cell_type": "markdown",
   "metadata": {},
   "source": [
    "We basically got back to the speed using loops without applying the trick. Here since the original problem is rather simple, vectorization doesn't seem to outperform simple loops, but there are many cases where vectorization can yield significantly better outcome and Julia is a wonderful tool to test out different methods."
   ]
  },
  {
   "attachments": {},
   "cell_type": "markdown",
   "metadata": {},
   "source": [
    "## 2.5 Conclusion\n",
    "\n",
    "We have gone carefully through solving a very standard problem in Macroeconomics. The goal is to showcase how to perform basic value function iteration in Julia. We mainly talked through how to code the problem in loop version and vector version. Along the way, I showed some important features of Julia coding. Most importantly, loops, functions, struct, broadcasting and vector/matrix operations. \n",
    "\n",
    "At last, we compared the performance of coding with loops and vectorizations. It might occur to you that loop version has better performance. Please keep in mind this varies in different problems and it is useful to know both methodologies. "
   ]
  }
 ],
 "metadata": {
  "kernelspec": {
   "display_name": "Julia 1.9.3",
   "language": "julia",
   "name": "julia-1.9"
  },
  "language_info": {
   "file_extension": ".jl",
   "mimetype": "application/julia",
   "name": "julia",
   "version": "1.9.3"
  },
  "orig_nbformat": 4
 },
 "nbformat": 4,
 "nbformat_minor": 2
}
